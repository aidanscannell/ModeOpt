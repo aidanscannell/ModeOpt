{
 "cells": [
  {
   "cell_type": "code",
   "execution_count": 1,
   "id": "6b58a502",
   "metadata": {
    "tags": []
   },
   "outputs": [],
   "source": [
    "from IPython.display import clear_output\n",
    "from typing import List, Optional\n",
    "\n",
    "import datetime\n",
    "import functools\n",
    "import gpflow as gpf\n",
    "import hydra\n",
    "import math\n",
    "import matplotlib.pyplot as plt\n",
    "import numpy as np\n",
    "import os\n",
    "import palettable\n",
    "import tensorflow as tf\n",
    "import tensor_annotations.tensorflow as ttf\n",
    "import tensorflow_probability as tfp\n",
    "\n",
    "from gpflow import default_float, default_jitter\n",
    "from gpflow.conditionals import uncertain_conditional, base_conditional\n",
    "from matplotlib import cm\n",
    "from numpy import random\n",
    "from omegaconf import DictConfig\n",
    "from simenvs import make\n",
    "\n",
    "from modeopt.cost_functions import ControlQuadraticCostFunction, TargetStateCostFunction, StateDiffCostFunction, quadratic_cost_fn\n",
    "from modeopt.controllers.utils import initialise_deterministic_trajectory, build_mode_variational_objective\n",
    "from modeopt.controllers import TrajectoryOptimisationController\n",
    "from modeopt.constraints import build_mode_chance_constraints_scipy\n",
    "from modeopt.custom_types import Dataset\n",
    "from modeopt.dynamics.conditionals import svgp_covariance_conditional\n",
    "from modeopt.plotting import ModeOptContourPlotter\n",
    "from modeopt.rollouts import rollout_controls_in_dynamics, rollout_controller_in_dynamics, rollout_controller_in_env, collect_data_from_env, rollout_policy_controller_in_dynamics\n",
    "from modeopt.trajectories import ControlTrajectoryDist\n",
    "from modeopt.utils import model_from_DictConfig, combine_state_controls_to_input, append_zero_control\n",
    "from modeopt.mode_opt import ModeOpt\n",
    "from mogpe.keras.callbacks.tensorboard import PlotFn, TensorboardImageCallback\n",
    "from mogpe.keras.mixture_of_experts import MixtureOfSVGPExperts\n",
    "from mogpe.keras.plotting import MixtureOfSVGPExpertsContourPlotter\n",
    "from mogpe.keras.utils import sample_mosvgpe_inducing_inputs_from_data, model_from_yaml\n",
    "\n",
    "%matplotlib inline\n",
    "\n",
    "tfd = tfp.distributions\n",
    "\n",
    "CMAP = palettable.scientific.sequential.Bilbao_15.mpl_colormap\n",
    "\n",
    "meaning_of_life = 42\n",
    "tf.random.set_seed(meaning_of_life)\n",
    "np.random.seed(meaning_of_life)"
   ]
  },
  {
   "cell_type": "markdown",
   "id": "4f9e7c6f",
   "metadata": {},
   "source": [
    "## Initialise environment"
   ]
  },
  {
   "cell_type": "code",
   "execution_count": 2,
   "id": "0d8d18d1",
   "metadata": {
    "tags": []
   },
   "outputs": [],
   "source": [
    "env_name = \"velocity-controlled-point-mass/scenario-7\""
   ]
  },
  {
   "cell_type": "code",
   "execution_count": 3,
   "id": "aaafbcc6",
   "metadata": {
    "tags": []
   },
   "outputs": [
    {
     "name": "stdout",
     "output_type": "stream",
     "text": [
      "No constant_error found in toml config so using default : 0.0\n"
     ]
    }
   ],
   "source": [
    "env = make(env_name)\n",
    "state_dim = env.observation_spec().shape[0]\n",
    "control_dim = env.action_spec().shape[0]"
   ]
  },
  {
   "cell_type": "markdown",
   "id": "f9fb06da",
   "metadata": {},
   "source": [
    "## ModeOpt config"
   ]
  },
  {
   "cell_type": "code",
   "execution_count": 4,
   "id": "f1d034df",
   "metadata": {},
   "outputs": [],
   "source": [
    "start_state = np.array([[-1.0, -2.0]])\n",
    "target_state = np.array([[1.7, 3.0]])\n",
    "mode_satisfaction_prob = 0.8"
   ]
  },
  {
   "cell_type": "markdown",
   "id": "92ec671a",
   "metadata": {},
   "source": [
    "## Sample initial data set from desired mode"
   ]
  },
  {
   "cell_type": "code",
   "execution_count": 5,
   "id": "48b26238",
   "metadata": {},
   "outputs": [],
   "source": [
    "# num_initial_states = 130\n",
    "# num_initial_states = 30"
   ]
  },
  {
   "cell_type": "code",
   "execution_count": 6,
   "id": "f02e5082",
   "metadata": {},
   "outputs": [
    {
     "name": "stdout",
     "output_type": "stream",
     "text": [
      "(1, 2)\n",
      "(2,)\n",
      "(15, 2)\n",
      "(2,)\n",
      "(1, 2)\n",
      "(2,)\n",
      "(15, 2)\n",
      "(2,)\n",
      "(1, 2)\n",
      "(2,)\n",
      "(15, 2)\n",
      "(2,)\n",
      "(1, 2)\n",
      "(2,)\n",
      "(15, 2)\n",
      "(2,)\n",
      "(1, 2)\n",
      "(2,)\n",
      "(15, 2)\n",
      "(2,)\n",
      "(1, 2)\n",
      "(2,)\n",
      "(15, 2)\n",
      "(2,)\n",
      "(1, 2)\n",
      "(2,)\n",
      "(15, 2)\n",
      "(2,)\n",
      "(1, 2)\n",
      "(2,)\n",
      "(15, 2)\n",
      "(2,)\n",
      "(1, 2)\n",
      "(2,)\n",
      "(15, 2)\n",
      "(2,)\n",
      "(1, 2)\n",
      "(2,)\n",
      "(15, 2)\n",
      "(2,)\n",
      "(1, 2)\n",
      "(2,)\n",
      "(15, 2)\n",
      "(2,)\n",
      "(1, 2)\n",
      "(2,)\n",
      "(15, 2)\n",
      "(2,)\n",
      "(1, 2)\n",
      "(2,)\n",
      "(15, 2)\n",
      "(2,)\n",
      "(1, 2)\n",
      "(2,)\n",
      "(15, 2)\n",
      "(2,)\n",
      "(1, 2)\n",
      "(2,)\n",
      "(15, 2)\n",
      "(2,)\n",
      "(1, 2)\n",
      "(2,)\n",
      "(15, 2)\n",
      "(2,)\n",
      "(1, 2)\n",
      "(2,)\n",
      "(15, 2)\n",
      "(2,)\n",
      "(1, 2)\n",
      "(2,)\n",
      "(15, 2)\n",
      "(2,)\n",
      "(1, 2)\n",
      "(2,)\n",
      "(15, 2)\n",
      "(2,)\n",
      "(1, 2)\n",
      "(2,)\n",
      "(15, 2)\n",
      "(2,)\n",
      "(1, 2)\n",
      "(2,)\n",
      "(15, 2)\n",
      "(2,)\n",
      "(1, 2)\n",
      "(2,)\n",
      "(15, 2)\n",
      "(2,)\n",
      "(1, 2)\n",
      "(2,)\n",
      "(15, 2)\n",
      "(2,)\n",
      "(1, 2)\n",
      "(2,)\n",
      "(15, 2)\n",
      "(2,)\n",
      "(1, 2)\n",
      "(2,)\n",
      "(15, 2)\n",
      "(2,)\n",
      "(1, 2)\n",
      "(2,)\n",
      "(15, 2)\n",
      "(2,)\n",
      "(1, 2)\n",
      "(2,)\n",
      "(15, 2)\n",
      "(2,)\n",
      "(1, 2)\n",
      "(2,)\n",
      "(15, 2)\n",
      "(2,)\n",
      "(1, 2)\n",
      "(2,)\n",
      "(15, 2)\n",
      "(2,)\n",
      "(1, 2)\n",
      "(2,)\n",
      "(15, 2)\n",
      "(2,)\n",
      "(1, 2)\n",
      "(2,)\n",
      "(15, 2)\n",
      "(2,)\n",
      "(1, 2)\n",
      "(2,)\n",
      "(15, 2)\n",
      "(2,)\n",
      "(1, 2)\n",
      "(2,)\n",
      "(15, 2)\n",
      "(2,)\n",
      "(1, 2)\n",
      "(2,)\n",
      "(15, 2)\n",
      "(2,)\n",
      "(1, 2)\n",
      "(2,)\n",
      "(15, 2)\n",
      "(2,)\n",
      "(1, 2)\n",
      "(2,)\n",
      "(15, 2)\n",
      "(2,)\n",
      "(1, 2)\n",
      "(2,)\n",
      "(15, 2)\n",
      "(2,)\n",
      "(1, 2)\n",
      "(2,)\n",
      "(15, 2)\n",
      "(2,)\n",
      "(1, 2)\n",
      "(2,)\n",
      "(15, 2)\n",
      "(2,)\n",
      "(1, 2)\n",
      "(2,)\n",
      "(15, 2)\n",
      "(2,)\n",
      "(1, 2)\n",
      "(2,)\n",
      "(15, 2)\n",
      "(2,)\n",
      "(1, 2)\n",
      "(2,)\n",
      "(15, 2)\n",
      "(2,)\n",
      "(1, 2)\n",
      "(2,)\n",
      "(15, 2)\n",
      "(2,)\n",
      "(1, 2)\n",
      "(2,)\n",
      "(15, 2)\n",
      "(2,)\n",
      "(1, 2)\n",
      "(2,)\n",
      "(15, 2)\n",
      "(2,)\n",
      "(1, 2)\n",
      "(2,)\n",
      "(15, 2)\n",
      "(2,)\n",
      "(1, 2)\n",
      "(2,)\n",
      "(15, 2)\n",
      "(2,)\n",
      "(1, 2)\n",
      "(2,)\n",
      "(15, 2)\n",
      "(2,)\n",
      "(1, 2)\n",
      "(2,)\n",
      "(15, 2)\n",
      "(2,)\n",
      "(1, 2)\n",
      "(2,)\n",
      "(15, 2)\n",
      "(2,)\n",
      "(118, 4)\n",
      "(118, 2)\n"
     ]
    },
    {
     "data": {
      "image/png": "[encoded data removed]",
      "text/plain": [
       "<Figure size 432x288 with 1 Axes>"
      ]
     },
     "metadata": {
      "needs_background": "light"
     },
     "output_type": "display_data"
    }
   ],
   "source": [
    "def sample_env_trajectories(horizon=15, num_trajectories=10):\n",
    "    X, Y = [], []\n",
    "    for i in range(num_trajectories):\n",
    "        controls = np.random.uniform(\n",
    "            env.action_spec().minimum,\n",
    "            env.action_spec().maximum,\n",
    "            (horizon, env.action_spec().shape[-1]),\n",
    "        )\n",
    "        X_, Y_ = collect_data_from_env(env, start_state=start_state, controls=controls)\n",
    "        X.append(X_)\n",
    "        Y.append(Y_)\n",
    "    X = np.concatenate(X, 0)\n",
    "    Y = np.concatenate(Y, 0)\n",
    "    width = 1.0\n",
    "    mask_1 = X[:, 0] > start_state[0, 0] - width\n",
    "    mask_2 = X[:, 0] < start_state[0, 0] + width\n",
    "    mask_3 = X[:, 1] > start_state[0, 1] - width\n",
    "    mask_4 = X[:, 1] < start_state[0, 1] + width\n",
    "    mask = mask_1 & mask_2 & mask_3 & mask_4\n",
    "    X_trimmed = X[mask]\n",
    "    Y_trimmed = Y[mask]\n",
    "    print(X_trimmed.shape)\n",
    "    print(Y_trimmed.shape)\n",
    "    return (X_trimmed, Y_trimmed)\n",
    "\n",
    "initial_dataset = sample_env_trajectories(horizon = 15, num_trajectories=50)\n",
    "dataset = initial_dataset\n",
    "plt.scatter(dataset[0][:, 0], dataset[0][:, 1])\n",
    "plt.show()"
   ]
  },
  {
   "cell_type": "markdown",
   "id": "5887af56",
   "metadata": {},
   "source": [
    "## Train dynamics on initial data set or load from config"
   ]
  },
  {
   "cell_type": "code",
   "execution_count": 7,
   "id": "bbfb8de9",
   "metadata": {
    "tags": []
   },
   "outputs": [],
   "source": [
    "initial_num_epochs = 20000\n",
    "# num_epochs = 300\n",
    "num_epochs = 1500\n",
    "# batch_size = 128\n",
    "batch_size = initial_dataset[0].shape[0]\n",
    "dynamics_logging_epoch_freq = 100\n",
    "\n",
    "load_from_config = True\n",
    "# load_from_config = False\n",
    "yaml_cfg_filename = \"./keras_configs/mode_opt_explore_scenario_7.yaml\"\n",
    "load_ckpt_dir = \"./experiments/exploration-prob-0.8/2022-03-29-18-14/ckpts\"\n",
    "load_ckpt_dir = \"./experiments/exploration-prob-0.8/2022-03-30-13-33/ckpts\"\n",
    "load_ckpt_dir = \"./experiments/exploration-prob-0.8/2022-03-30-14-22/ckpts\""
   ]
  },
  {
   "cell_type": "code",
   "execution_count": 8,
   "id": "a5a05085",
   "metadata": {
    "tags": []
   },
   "outputs": [],
   "source": [
    "now_time = datetime.datetime.now().strftime('%Y-%m-%d-%H-%M') #  now\n",
    "log_dir = os.path.join(f\"./experiments/explorative-prob-{mode_satisfaction_prob}\", now_time)"
   ]
  },
  {
   "cell_type": "code",
   "execution_count": 9,
   "id": "4af2e7b3",
   "metadata": {
    "tags": []
   },
   "outputs": [
    {
     "name": "stderr",
     "output_type": "stream",
     "text": [
      "2022-04-08 09:39:41.881013: I tensorflow/core/platform/cpu_feature_guard.cc:142] This TensorFlow binary is optimized with oneAPI Deep Neural Network Library (oneDNN) to use the following CPU instructions in performance-critical operations:  AVX2 FMA\n",
      "To enable them in other operations, rebuild TensorFlow with the appropriate compiler flags.\n"
     ]
    },
    {
     "name": "stdout",
     "output_type": "stream",
     "text": [
      "setting desired mode to 1\n",
      "╒════════════════════════════════════════════════════════════════╤═══════════╤════════════════╤═════════╤═════════════╤═════════════╤═════════╤══════════════════════════════════════════╕\n",
      "│ name                                                           │ class     │ transform      │ prior   │ trainable   │ shape       │ dtype   │ value                                    │\n",
      "╞════════════════════════════════════════════════════════════════╪═══════════╪════════════════╪═════════╪═════════════╪═════════════╪═════════╪══════════════════════════════════════════╡\n",
      "│ IndependentPosteriorMultiOutput.kernel.kernels[0].variance     │ Parameter │ Softplus       │         │ True        │ ()          │ float64 │ 1.4978003107997662                       │\n",
      "├────────────────────────────────────────────────────────────────┼───────────┼────────────────┼─────────┼─────────────┼─────────────┼─────────┼──────────────────────────────────────────┤\n",
      "│ IndependentPosteriorMultiOutput.kernel.kernels[0].lengthscales │ Parameter │ Softplus       │         │ True        │ (4,)        │ float64 │ [7.36133439, 4.15878948, 7.43458159...   │\n",
      "├────────────────────────────────────────────────────────────────┼───────────┼────────────────┼─────────┼─────────────┼─────────────┼─────────┼──────────────────────────────────────────┤\n",
      "│ IndependentPosteriorMultiOutput.kernel.kernels[1].variance     │ Parameter │ Softplus       │         │ True        │ ()          │ float64 │ 1.1881473511798106                       │\n",
      "├────────────────────────────────────────────────────────────────┼───────────┼────────────────┼─────────┼─────────────┼─────────────┼─────────┼──────────────────────────────────────────┤\n",
      "│ IndependentPosteriorMultiOutput.kernel.kernels[1].lengthscales │ Parameter │ Softplus       │         │ True        │ (4,)        │ float64 │ [9.64201641, 4.35154519, 20.49345011...  │\n",
      "├────────────────────────────────────────────────────────────────┼───────────┼────────────────┼─────────┼─────────────┼─────────────┼─────────┼──────────────────────────────────────────┤\n",
      "│ IndependentPosteriorMultiOutput.X_data.inducing_variable.Z     │ Parameter │ Identity       │         │ True        │ (90, 4)     │ float64 │ [[0.78127764, -0.88818998, 4.52976162... │\n",
      "├────────────────────────────────────────────────────────────────┼───────────┼────────────────┼─────────┼─────────────┼─────────────┼─────────┼──────────────────────────────────────────┤\n",
      "│ IndependentPosteriorMultiOutput.mean_function.c                │ Parameter │ Identity       │         │ True        │ ()          │ float64 │ -0.1552015199866211                      │\n",
      "├────────────────────────────────────────────────────────────────┼───────────┼────────────────┼─────────┼─────────────┼─────────────┼─────────┼──────────────────────────────────────────┤\n",
      "│ IndependentPosteriorMultiOutput._q_dist.q_mu                   │ Parameter │ Identity       │         │ True        │ (90, 2)     │ float64 │ [[1.18185112e+00, 4.88676820e-01...      │\n",
      "├────────────────────────────────────────────────────────────────┼───────────┼────────────────┼─────────┼─────────────┼─────────────┼─────────┼──────────────────────────────────────────┤\n",
      "│ IndependentPosteriorMultiOutput._q_dist.q_sqrt                 │ Parameter │ FillTriangular │         │ True        │ (2, 90, 90) │ float64 │ [[[-0.19227382, 0., 0....                │\n",
      "╘════════════════════════════════════════════════════════════════╧═══════════╧════════════════╧═════════╧═════════════╧═════════════╧═════════╧══════════════════════════════════════════╛\n",
      "No constant_error found in toml config so using default : 0.0\n",
      "setting desired mode to 1\n",
      "╒════════════════════════════════════════════════════════════════╤═══════════╤════════════════╤═════════╤═════════════╤═════════════╤═════════╤══════════════════════════════════════════╕\n",
      "│ name                                                           │ class     │ transform      │ prior   │ trainable   │ shape       │ dtype   │ value                                    │\n",
      "╞════════════════════════════════════════════════════════════════╪═══════════╪════════════════╪═════════╪═════════════╪═════════════╪═════════╪══════════════════════════════════════════╡\n",
      "│ IndependentPosteriorMultiOutput.kernel.kernels[0].variance     │ Parameter │ Softplus       │         │ True        │ ()          │ float64 │ 1.4978003107997662                       │\n",
      "├────────────────────────────────────────────────────────────────┼───────────┼────────────────┼─────────┼─────────────┼─────────────┼─────────┼──────────────────────────────────────────┤\n",
      "│ IndependentPosteriorMultiOutput.kernel.kernels[0].lengthscales │ Parameter │ Softplus       │         │ True        │ (4,)        │ float64 │ [7.36133439, 4.15878948, 7.43458159...   │\n",
      "├────────────────────────────────────────────────────────────────┼───────────┼────────────────┼─────────┼─────────────┼─────────────┼─────────┼──────────────────────────────────────────┤\n",
      "│ IndependentPosteriorMultiOutput.kernel.kernels[1].variance     │ Parameter │ Softplus       │         │ True        │ ()          │ float64 │ 1.1881473511798106                       │\n",
      "├────────────────────────────────────────────────────────────────┼───────────┼────────────────┼─────────┼─────────────┼─────────────┼─────────┼──────────────────────────────────────────┤\n",
      "│ IndependentPosteriorMultiOutput.kernel.kernels[1].lengthscales │ Parameter │ Softplus       │         │ True        │ (4,)        │ float64 │ [9.64201641, 4.35154519, 20.49345011...  │\n",
      "├────────────────────────────────────────────────────────────────┼───────────┼────────────────┼─────────┼─────────────┼─────────────┼─────────┼──────────────────────────────────────────┤\n",
      "│ IndependentPosteriorMultiOutput.X_data.inducing_variable.Z     │ Parameter │ Identity       │         │ True        │ (90, 4)     │ float64 │ [[0.78127764, -0.88818998, 4.52976162... │\n",
      "├────────────────────────────────────────────────────────────────┼───────────┼────────────────┼─────────┼─────────────┼─────────────┼─────────┼──────────────────────────────────────────┤\n",
      "│ IndependentPosteriorMultiOutput.mean_function.c                │ Parameter │ Identity       │         │ True        │ ()          │ float64 │ -0.1552015199866211                      │\n",
      "├────────────────────────────────────────────────────────────────┼───────────┼────────────────┼─────────┼─────────────┼─────────────┼─────────┼──────────────────────────────────────────┤\n",
      "│ IndependentPosteriorMultiOutput._q_dist.q_mu                   │ Parameter │ Identity       │         │ True        │ (90, 2)     │ float64 │ [[1.18185112e+00, 4.88676820e-01...      │\n",
      "├────────────────────────────────────────────────────────────────┼───────────┼────────────────┼─────────┼─────────────┼─────────────┼─────────┼──────────────────────────────────────────┤\n",
      "│ IndependentPosteriorMultiOutput._q_dist.q_sqrt                 │ Parameter │ FillTriangular │         │ True        │ (2, 90, 90) │ float64 │ [[[-0.19227382, 0., 0....                │\n",
      "╘════════════════════════════════════════════════════════════════╧═══════════╧════════════════╧═════════╧═════════════╧═════════════╧═════════╧══════════════════════════════════════════╛\n"
     ]
    },
    {
     "name": "stderr",
     "output_type": "stream",
     "text": [
      "2022-04-08 09:39:42.210714: I tensorflow/core/profiler/lib/profiler_session.cc:131] Profiler session initializing.\n",
      "2022-04-08 09:39:42.210725: I tensorflow/core/profiler/lib/profiler_session.cc:146] Profiler session started.\n",
      "2022-04-08 09:39:42.211093: I tensorflow/core/profiler/lib/profiler_session.cc:164] Profiler session tear down.\n"
     ]
    }
   ],
   "source": [
    "if load_from_config:\n",
    "    mode_optimiser = ModeOpt.load(load_ckpt_dir)\n",
    "    mode_optimiser.log_dir = log_dir\n",
    "else:\n",
    "    mode_optimiser = model_from_yaml(yaml_cfg_filename, custom_objects={\"ModeOpt\": ModeOpt})\n",
    "    mode_optimiser.dataset = (tf.constant(initial_dataset[0], dtype=default_float()),\n",
    "                              tf.constant(initial_dataset[1], dtype=default_float())\n",
    "                             )\n",
    "    sample_mosvgpe_inducing_inputs_from_data(initial_dataset[0], mode_optimiser.dynamics.mosvgpe)\n",
    "    mode_optimiser.dynamics_fit_kwargs.update({\"epochs\": initial_num_epochs, \"batch_size\": batch_size, \"validation_split\": 0.2})\n",
    "#     dynamics_plotting_callbacks = build_contour_plotter_callbacks(mode_optimiser.dynamics.mosvgpe, logging_epoch_freq=dynamics_logging_epoch_freq, log_dir=mode_optimiser.log_dir)\n",
    "#     mode_optimiser.add_dynamics_callbacks(dynamics_plotting_callbacks)\n",
    "#     gpf.utilities.set_trainable(mode_optimiser.dynamics.mosvgpe.gating_network.gp.inducing_variable, False)\n",
    "    mode_optimiser.optimise_dynamics()\n",
    "#     gpf.utilities.set_trainable(mode_optimiser.dynamics.mosvgpe.gating_network.gp.kernel, False)"
   ]
  },
  {
   "cell_type": "markdown",
   "id": "f1833b35",
   "metadata": {},
   "source": [
    "Update the data set."
   ]
  },
  {
   "cell_type": "code",
   "execution_count": 10,
   "id": "107bc100",
   "metadata": {
    "tags": []
   },
   "outputs": [],
   "source": [
    "mode_optimiser.start_state = tf.constant(start_state, dtype=default_float())"
   ]
  },
  {
   "cell_type": "markdown",
   "id": "3172fc40",
   "metadata": {},
   "source": [
    "Set the correct desired dynamics mode."
   ]
  },
  {
   "cell_type": "code",
   "execution_count": 11,
   "id": "e1038730",
   "metadata": {
    "tags": []
   },
   "outputs": [
    {
     "name": "stdout",
     "output_type": "stream",
     "text": [
      "Desired mode is 1\n"
     ]
    }
   ],
   "source": [
    "def which_desired_mode(mode_optimiser, initial_dataset):\n",
    "    probs = mode_optimiser.dynamics.mosvgpe.gating_network.predict_mixing_probs(initial_dataset[0])\n",
    "    mean_probs = tf.reduce_mean(probs, 0)\n",
    "    return int(tf.math.argmax(mean_probs))\n",
    "\n",
    "desired_mode = which_desired_mode(mode_optimiser, initial_dataset)\n",
    "print(\"Desired mode is {}\".format(desired_mode))\n",
    "mode_optimiser.desired_mode = desired_mode"
   ]
  },
  {
   "cell_type": "markdown",
   "id": "b6132545",
   "metadata": {},
   "source": [
    "Save the learned dynamics model."
   ]
  },
  {
   "cell_type": "code",
   "execution_count": 12,
   "id": "21704db9",
   "metadata": {
    "tags": []
   },
   "outputs": [],
   "source": [
    "mode_optimiser.save()"
   ]
  },
  {
   "cell_type": "markdown",
   "id": "f0f9674d",
   "metadata": {},
   "source": [
    "## Configure the explorative controller"
   ]
  },
  {
   "cell_type": "code",
   "execution_count": 13,
   "id": "d89981c1",
   "metadata": {
    "tags": []
   },
   "outputs": [],
   "source": [
    "horizon = 15\n",
    "max_iterations = 1000\n",
    "keep_last_solution = True\n",
    "method = \"SLSQP\""
   ]
  },
  {
   "cell_type": "code",
   "execution_count": 14,
   "id": "51ed89f0",
   "metadata": {
    "tags": []
   },
   "outputs": [],
   "source": [
    "terminal_state_cost_matrix = tf.eye(state_dim, dtype=default_float()) * 100\n",
    "state_diff_cost_matrix = tf.eye(state_dim, dtype=default_float()) * 0.01\n",
    "state_diff_cost_matrix = tf.eye(state_dim, dtype=default_float()) * 1.0\n",
    "# control_cost_matrix = tf.eye(control_dim, dtype=default_float()) * 0.1\n",
    "control_cost_matrix = tf.eye(control_dim, dtype=default_float()) * 0.5\n",
    "# control_cost_matrix = tf.eye(control_dim, dtype=default_float()) * 1.0\n",
    "\n",
    "# terminal_cost_fn = TargetStateCostFunction(weight_matrix=terminal_state_cost_matrix, target_state=start_state)\n",
    "terminal_cost_fn = TargetStateCostFunction(weight_matrix=terminal_state_cost_matrix, target_state=target_state)\n",
    "control_cost_fn = ControlQuadraticCostFunction(weight_matrix=control_cost_matrix)\n",
    "state_diff_cost_fn = StateDiffCostFunction(weight_matrix=state_diff_cost_matrix, target_state=target_state)\n",
    "\n",
    "cost_fn = control_cost_fn + state_diff_cost_fn\n",
    "# cost_fn = state_diff_cost_fn\n",
    "# cost_fn = control_cost_fn\n",
    "# cost_fn = control_cost_fn + state_diff_cost_fn + terminal_cost_fn\n",
    "# cost_fn = state_diff_cost_fn\n",
    "# cost_fn = terminal_cost_fn + state_diff_cost_fn"
   ]
  },
  {
   "cell_type": "code",
   "execution_count": 15,
   "id": "40333de7",
   "metadata": {},
   "outputs": [],
   "source": [
    "def conditional_gating(state_means, control_means, state_vars, control_vars):\n",
    "    h_means_prior, h_vars_prior = mode_optimiser.dynamics.uncertain_predict_gating(state_means, control_means)\n",
    "    gating_gp = mode_optimiser.dynamics.desired_mode_gating_gp \n",
    "\n",
    "    input_means, input_vars = combine_state_controls_to_input(\n",
    "        state_means, control_means, state_vars, control_vars\n",
    "    )\n",
    "    \n",
    "    h_means, h_vars = h_means_prior[0:1, :], h_vars_prior[0:1, :]\n",
    "    for t in range(1, horizon):\n",
    "        Xnew = input_means[t:t+1, :]\n",
    "        Xobs = tf.concat([input_means[:t, :], input_means[t+1:, :]], 0)\n",
    "        f = tf.concat([h_means_prior[:t, :], h_means_prior[t+1:, :]], 0)\n",
    "\n",
    "        Knn = svgp_covariance_conditional(X1=Xnew, X2=Xnew, svgp=gating_gp)[0, 0, :]\n",
    "        Kmm = svgp_covariance_conditional(X1=Xobs, X2=Xobs, svgp=gating_gp)[0, :, :]\n",
    "        Kmn = svgp_covariance_conditional(X1=Xobs, X2=Xnew, svgp=gating_gp)[0, :, :]\n",
    "        Kmm += tf.eye(Kmm.shape[0], dtype=default_float()) * default_jitter()\n",
    "        h_mean, h_var = base_conditional(\n",
    "            Kmn=Kmn,\n",
    "            Kmm=Kmm,\n",
    "            Knn=Knn,\n",
    "            f=f,\n",
    "            full_cov=False,\n",
    "            q_sqrt=None,\n",
    "            white=False,\n",
    "        )\n",
    "        h_means = tf.concat([h_means, h_mean], 0)\n",
    "        h_vars = tf.concat([h_vars, h_var], 0)\n",
    "    return h_means, h_vars\n",
    "    \n",
    "def conditional_gating_temporal(state_means, control_means, state_vars, control_vars):\n",
    "    h_means_prior, h_vars_prior = mode_optimiser.dynamics.uncertain_predict_gating(state_means, control_means)\n",
    "    gating_gp = mode_optimiser.dynamics.desired_mode_gating_gp \n",
    "\n",
    "    input_means, input_vars = combine_state_controls_to_input(\n",
    "        state_means, control_means, state_vars, control_vars\n",
    "    )\n",
    "    \n",
    "    h_means, h_vars = h_means_prior[0:1, :], h_vars_prior[0:1, :]\n",
    "    for t in range(1, horizon):\n",
    "        Xnew = input_means[t:t+1, :]\n",
    "        Xobs = input_means[0:t, :]\n",
    "        f = h_means_prior[0:t, :]\n",
    "\n",
    "        Knn = svgp_covariance_conditional(X1=Xnew, X2=Xnew, svgp=gating_gp)[0, 0, :]\n",
    "        Kmm = svgp_covariance_conditional(X1=Xobs, X2=Xobs, svgp=gating_gp)[0, :, :]\n",
    "        Kmn = svgp_covariance_conditional(X1=Xobs, X2=Xnew, svgp=gating_gp)[0, :, :]\n",
    "        Kmm += tf.eye(Kmm.shape[0], dtype=default_float()) * default_jitter()\n",
    "        h_mean, h_var = base_conditional(\n",
    "            Kmn=Kmn,\n",
    "            Kmm=Kmm,\n",
    "            Knn=Knn,\n",
    "            f=f,\n",
    "            full_cov=False,\n",
    "            q_sqrt=None,\n",
    "            white=False,\n",
    "        )\n",
    "        h_means = tf.concat([h_means, h_mean], 0)\n",
    "        h_vars = tf.concat([h_vars, h_var], 0)\n",
    "    return h_means, h_vars"
   ]
  },
  {
   "cell_type": "code",
   "execution_count": 16,
   "id": "f4bdcfe6",
   "metadata": {
    "tags": []
   },
   "outputs": [],
   "source": [
    "# def explorative_objective(initial_solution: ControlTrajectoryDist) -> ttf.Tensor0:\n",
    "#     control_means = initial_solution(variance=False)\n",
    "#     control_vars = None\n",
    "#     state_means, state_vars = rollout_controls_in_dynamics(\n",
    "#         dynamics=mode_optimiser.dynamics,\n",
    "#         start_state=start_state,\n",
    "#         control_means=control_means,\n",
    "#         control_vars=control_vars,\n",
    "#     )\n",
    "\n",
    "# #     h_means_prior, h_vars_prior = mode_optimiser.dynamics.uncertain_predict_gating(state_means[:-1, :], control_means)\n",
    "# #     gating_gp = mode_optimiser.dynamics.desired_mode_gating_gp \n",
    "\n",
    "# #     input_means, input_vars = combine_state_controls_to_input(\n",
    "# #         state_means[:-1, :], control_means, state_vars[:-1, :], control_vars\n",
    "# #     )\n",
    "    \n",
    "#     h_means, h_vars = conditional_gating_temporal(state_means[1:, :], control_means, state_vars[1:, :], control_vars)\n",
    "# #     h_means, h_vars = h_means_prior[0:1, :], h_vars_prior[0:1, :]\n",
    "# #     for t in range(1, horizon):\n",
    "# #         Xnew = input_means[t:t+1, :]\n",
    "# #         Xobs = input_means[0:t, :]\n",
    "# #         f = h_means_prior[0:t, :]\n",
    "\n",
    "# #         Knn = svgp_covariance_conditional(X1=Xnew, X2=Xnew, svgp=gating_gp)[0, 0, :]\n",
    "# #         Kmm = svgp_covariance_conditional(X1=Xobs, X2=Xobs, svgp=gating_gp)[0, :, :]\n",
    "# #         Kmn = svgp_covariance_conditional(X1=Xobs, X2=Xnew, svgp=gating_gp)[0, :, :]\n",
    "# #         Kmm += tf.eye(Kmm.shape[0], dtype=default_float()) * default_jitter()\n",
    "# #         h_mean, h_var = base_conditional(\n",
    "# #             Kmn=Kmn,\n",
    "# #             Kmm=Kmm,\n",
    "# #             Knn=Knn,\n",
    "# #             f=f,\n",
    "# #             full_cov=False,\n",
    "# #             q_sqrt=None,\n",
    "# #             white=False,\n",
    "# #         )\n",
    "# #         h_means = tf.concat([h_means, h_mean], 0)\n",
    "# #         h_vars = tf.concat([h_vars, h_var], 0)\n",
    "#     h_dist = tfd.MultivariateNormalDiag(h_means, h_vars)\n",
    "#     gating_entropy = h_dist.entropy()\n",
    "#     return -tf.reduce_sum(gating_entropy) + cost_fn(state_means, control_means, state_vars, control_vars)"
   ]
  },
  {
   "cell_type": "code",
   "execution_count": 17,
   "id": "e85d3456",
   "metadata": {},
   "outputs": [],
   "source": [
    "from modeopt.controllers import FeedbackController\n",
    "\n",
    "def explorative_policy_objective(policy_controller):\n",
    "    state_means, state_vars, controls = rollout_policy_controller_in_dynamics(\n",
    "        dynamics=mode_optimiser.dynamics,\n",
    "        controller=policy_controller,\n",
    "        horizon=horizon,\n",
    "        start_state=start_state,\n",
    "    )\n",
    "#     print('state_means')\n",
    "#     print(state_means)\n",
    "#     print(state_vars)\n",
    "#     print(controls)\n",
    "\n",
    "    h_means, h_vars = conditional_gating_temporal(state_means[1:, :], controls, state_vars[1:, :], control_vars=None)\n",
    "    h_dist = tfd.MultivariateNormalDiag(h_means, h_vars)\n",
    "    gating_entropy = h_dist.entropy()\n",
    "    return -tf.reduce_sum(gating_entropy) + cost_fn(state_means, controls, state_vars, control_var=None)\n",
    "\n",
    "class Policy(FeedbackController):\n",
    "    def __init__(self, state_dim: int, control_dim: int, horizon: int, hidden_sizes: List[int], activation=tf.tanh, output_activation=None):\n",
    "        super().__init__()\n",
    "        self.state_dim = state_dim\n",
    "        self.control_dim = control_dim\n",
    "        self.horizon = horizon\n",
    "        self.hidden_sizes = hidden_sizes\n",
    "        self.activation = activation\n",
    "        self.output_activation = output_activation\n",
    "    \n",
    "    def __call__(self, state, timestep: Optional[int] = None):\n",
    "        if len(state.shape) == 1:\n",
    "            state = tf.reshape(state, [1, -1])\n",
    "#         print('here')\n",
    "#         print(state)\n",
    "#         x = state[0, :]\n",
    "        x = state\n",
    "        # Build a feedforward neural network\n",
    "        for size in self.hidden_sizes:\n",
    "            x = tf.keras.layers.Dense(units=size, activation=self.activation)(x)\n",
    "#             print('x')\n",
    "#             print(x)\n",
    "        control = tf.keras.layers.Dense(units=self.control_dim, activation=self.output_activation)(x)\n",
    "#         control = tf.reshape(control, [1, -1])\n",
    "#         print(\"control\")\n",
    "#         print(control)\n",
    "        return control\n",
    "        \n",
    "    def optimise(self):\n",
    "        # Update the policy and implement early stopping using KL divergence\n",
    "        for _ in range(train_policy_iterations):\n",
    "#             loss = explorative_policy_objective(self)\n",
    "#             tf.print(\"Loss: {}\".format(loss))\n",
    "            with tf.GradientTape() as tape:  # Record operations for automatic differentiation.\n",
    "                policy_loss = explorative_policy_objective(self)\n",
    "                tf.print(\"Loss: {}\".format(policy_loss))\n",
    "\n",
    "            policy_grads = tape.gradient(policy_loss, self.trainable_variables)\n",
    "            policy_optimizer.apply_gradients(zip(policy_grads, self.trainable_variables))\n",
    "        return policy_loss\n",
    "        \n",
    "    @tf.function\n",
    "    def train_policy(observation_buffer, action_buffer):\n",
    "\n",
    "        with tf.GradientTape() as tape:  # Record operations for automatic differentiation.\n",
    "            policy_loss = explorative_policy_objective(self)\n",
    "\n",
    "        policy_grads = tape.gradient(policy_loss, self.trainable_variables)\n",
    "        policy_optimizer.apply_gradients(zip(policy_grads, self.trainable_variables))\n",
    "\n",
    "        kl = tf.reduce_mean(\n",
    "            logprobability_buffer\n",
    "            - logprobabilities(actor(observation_buffer), action_buffer)\n",
    "        )\n",
    "        kl = tf.reduce_sum(kl)\n",
    "        return kl\n",
    "\n",
    "    def control_dim(self):\n",
    "        return self.control_dim\n",
    "    \n",
    "    def horizon(self):\n",
    "        return self.horizon\n",
    "    \n",
    "train_policy_iterations = 200\n",
    "hidden_sizes = [64, 64]\n",
    "policy_learning_rate = 3e-4\n",
    "policy_optimizer = tf.keras.optimizers.Adam(learning_rate=policy_learning_rate)\n",
    "policy_controller = Policy(state_dim=state_dim, control_dim=control_dim, horizon=horizon, hidden_sizes=hidden_sizes)\n",
    "# print(policy_controller(start_state.reshape(1, -1)))"
   ]
  },
  {
   "cell_type": "code",
   "execution_count": null,
   "id": "8d5258e1",
   "metadata": {},
   "outputs": [],
   "source": [
    "policy_controller.optimise()"
   ]
  },
  {
   "cell_type": "code",
   "execution_count": 18,
   "id": "3803a1b8",
   "metadata": {
    "tags": []
   },
   "outputs": [],
   "source": [
    "# mode_chance_constraints = build_mode_chance_constraints_scipy(mode_optimiser.dynamics, \n",
    "#                                                               start_state, \n",
    "#                                                               horizon, \n",
    "#                                                               control_dim=control_dim,\n",
    "#                                                               lower_bound=mode_satisfaction_prob)\n",
    "# explorative_controller = TrajectoryOptimisationController(\n",
    "#     max_iterations=max_iterations,\n",
    "#     initial_solution=initial_solution_in_mode,\n",
    "#     objective_fn=explorative_objective,\n",
    "#     keep_last_solution=keep_last_solution,\n",
    "#     constraints=[mode_chance_constraints],\n",
    "#     method=method,\n",
    "# )\n",
    "# mode_optimiser.explorative_controller = explorative_controller"
   ]
  },
  {
   "cell_type": "code",
   "execution_count": 19,
   "id": "5189ca2a",
   "metadata": {},
   "outputs": [],
   "source": [
    "mode_optimiser.explorative_controller = policy_controller"
   ]
  },
  {
   "cell_type": "markdown",
   "id": "29f26708",
   "metadata": {},
   "source": [
    "## Configure plotter"
   ]
  },
  {
   "cell_type": "code",
   "execution_count": 20,
   "id": "f8392862",
   "metadata": {
    "tags": []
   },
   "outputs": [],
   "source": [
    "def create_test_inputs(x_min=[-3, -3], x_max=[3, 3], input_dim=4, num_test: int = 1600, factor: float = 1.2):\n",
    "    sqrtN = int(np.sqrt(num_test))\n",
    "    xx = np.linspace(x_min[0] * factor, x_max[0] * factor, sqrtN)\n",
    "    yy = np.linspace(x_min[1] * factor, x_max[1] * factor, sqrtN)\n",
    "    xx, yy = np.meshgrid(xx, yy)\n",
    "    test_inputs = np.column_stack([xx.reshape(-1), yy.reshape(-1)])\n",
    "    if input_dim > 2:\n",
    "        zeros = np.zeros((num_test, input_dim - 2))\n",
    "        test_inputs = np.concatenate([test_inputs, zeros], -1)\n",
    "    return test_inputs, xx, yy\n",
    "\n",
    "test_inputs, xx, yy = create_test_inputs()\n",
    "plotter = ModeOptContourPlotter(mode_optimiser, test_inputs=test_inputs, static=False, explorative=True)"
   ]
  },
  {
   "cell_type": "code",
   "execution_count": 21,
   "id": "42d78a80",
   "metadata": {
    "scrolled": true,
    "tags": []
   },
   "outputs": [
    {
     "ename": "NotImplementedError",
     "evalue": "",
     "output_type": "error",
     "traceback": [
      "\u001b[0;31m---------------------------------------------------------------------------\u001b[0m",
      "\u001b[0;31mNotImplementedError\u001b[0m                       Traceback (most recent call last)",
      "Input \u001b[0;32mIn [21]\u001b[0m, in \u001b[0;36m<module>\u001b[0;34m\u001b[0m\n\u001b[1;32m     27\u001b[0m         plt\u001b[38;5;241m.\u001b[39msavefig(save_filename, transparent\u001b[38;5;241m=\u001b[39m\u001b[38;5;28;01mTrue\u001b[39;00m)\n\u001b[1;32m     29\u001b[0m plot_data_over_gating_network_and_save(step\u001b[38;5;241m=\u001b[39m\u001b[38;5;241m0\u001b[39m, epoch\u001b[38;5;241m=\u001b[39m\u001b[38;5;241m0\u001b[39m)\n\u001b[0;32m---> 30\u001b[0m \u001b[43mplot_trajectories_over_gating_network_and_save\u001b[49m\u001b[43m(\u001b[49m\u001b[43mstep\u001b[49m\u001b[38;5;241;43m=\u001b[39;49m\u001b[38;5;241;43m0\u001b[39;49m\u001b[43m)\u001b[49m\n",
      "Input \u001b[0;32mIn [21]\u001b[0m, in \u001b[0;36mplot_trajectories_over_gating_network_and_save\u001b[0;34m(step, save)\u001b[0m\n\u001b[1;32m     18\u001b[0m \u001b[38;5;28;01mdef\u001b[39;00m \u001b[38;5;21mplot_trajectories_over_gating_network_and_save\u001b[39m(step: \u001b[38;5;28mint\u001b[39m, save: \u001b[38;5;28mbool\u001b[39m \u001b[38;5;241m=\u001b[39m \u001b[38;5;28;01mTrue\u001b[39;00m):\n\u001b[0;32m---> 19\u001b[0m     \u001b[43mplotter\u001b[49m\u001b[38;5;241;43m.\u001b[39;49m\u001b[43mplot_trajectories_over_mixing_probs\u001b[49m\u001b[43m(\u001b[49m\u001b[43m)\u001b[49m\n\u001b[1;32m     20\u001b[0m     \u001b[38;5;28;01mif\u001b[39;00m save:\n\u001b[1;32m     21\u001b[0m         save_filename \u001b[38;5;241m=\u001b[39m os\u001b[38;5;241m.\u001b[39mpath\u001b[38;5;241m.\u001b[39mjoin(image_save_dir, \u001b[38;5;124m\"\u001b[39m\u001b[38;5;124mtrajectories_over_mixing_probs_step_\u001b[39m\u001b[38;5;132;01m{}\u001b[39;00m\u001b[38;5;124m.pdf\u001b[39m\u001b[38;5;124m\"\u001b[39m\u001b[38;5;241m.\u001b[39mformat(step))\n",
      "File \u001b[0;32m~/Developer/python-projects/ModeOpt/modeopt/plotting/contour_plotter.py:90\u001b[0m, in \u001b[0;36mModeOptContourPlotter.plot_trajectories_over_mixing_probs\u001b[0;34m(self)\u001b[0m\n\u001b[1;32m     88\u001b[0m fig \u001b[38;5;241m=\u001b[39m \u001b[38;5;28mself\u001b[39m\u001b[38;5;241m.\u001b[39mmosvgpe_plotter\u001b[38;5;241m.\u001b[39mplot_mixing_probs()\n\u001b[1;32m     89\u001b[0m fig \u001b[38;5;241m=\u001b[39m \u001b[38;5;28mself\u001b[39m\u001b[38;5;241m.\u001b[39mplot_env_given_fig(fig)\n\u001b[0;32m---> 90\u001b[0m \u001b[38;5;28;43mself\u001b[39;49m\u001b[38;5;241;43m.\u001b[39;49m\u001b[43mplot_trajectories_given_fig\u001b[49m\u001b[43m(\u001b[49m\u001b[43mfig\u001b[49m\u001b[43m)\u001b[49m\n\u001b[1;32m     91\u001b[0m \u001b[38;5;28;01mreturn\u001b[39;00m fig\n",
      "File \u001b[0;32m~/Developer/python-projects/ModeOpt/modeopt/plotting/contour_plotter.py:149\u001b[0m, in \u001b[0;36mModeOptContourPlotter.plot_trajectories_given_fig\u001b[0;34m(self, fig)\u001b[0m\n\u001b[1;32m    148\u001b[0m \u001b[38;5;28;01mdef\u001b[39;00m \u001b[38;5;21mplot_trajectories_given_fig\u001b[39m(\u001b[38;5;28mself\u001b[39m, fig):\n\u001b[0;32m--> 149\u001b[0m     trajectories \u001b[38;5;241m=\u001b[39m \u001b[38;5;28;43mself\u001b[39;49m\u001b[38;5;241;43m.\u001b[39;49m\u001b[43mgenerate_trajectories\u001b[49m\u001b[43m(\u001b[49m\u001b[43m)\u001b[49m\n\u001b[1;32m    150\u001b[0m     \u001b[38;5;28;01mfor\u001b[39;00m key \u001b[38;5;129;01min\u001b[39;00m trajectories\u001b[38;5;241m.\u001b[39mkeys():\n\u001b[1;32m    151\u001b[0m         \u001b[38;5;28mself\u001b[39m\u001b[38;5;241m.\u001b[39mplot_trajectory_given_fig(fig, trajectories[key], key)\n",
      "File \u001b[0;32m~/Developer/python-projects/ModeOpt/modeopt/plotting/contour_plotter.py:313\u001b[0m, in \u001b[0;36mModeOptContourPlotter.generate_trajectories\u001b[0;34m(self)\u001b[0m\n\u001b[1;32m    307\u001b[0m     dynamics_trajectory, _ \u001b[38;5;241m=\u001b[39m rollout_controller_in_dynamics(\n\u001b[1;32m    308\u001b[0m         dynamics\u001b[38;5;241m=\u001b[39m\u001b[38;5;28mself\u001b[39m\u001b[38;5;241m.\u001b[39mmode_optimiser\u001b[38;5;241m.\u001b[39mdynamics,\n\u001b[1;32m    309\u001b[0m         controller\u001b[38;5;241m=\u001b[39m\u001b[38;5;28mself\u001b[39m\u001b[38;5;241m.\u001b[39mmode_optimiser\u001b[38;5;241m.\u001b[39mexplorative_controller,\n\u001b[1;32m    310\u001b[0m         start_state\u001b[38;5;241m=\u001b[39m\u001b[38;5;28mself\u001b[39m\u001b[38;5;241m.\u001b[39mmode_optimiser\u001b[38;5;241m.\u001b[39mstart_state\u001b[38;5;241m.\u001b[39mnumpy(),\n\u001b[1;32m    311\u001b[0m     )\n\u001b[1;32m    312\u001b[0m     trajectories \u001b[38;5;241m=\u001b[39m {\u001b[38;5;124m\"\u001b[39m\u001b[38;5;124mdynamics\u001b[39m\u001b[38;5;124m\"\u001b[39m: dynamics_trajectory}\n\u001b[0;32m--> 313\u001b[0m     env_trajectory \u001b[38;5;241m=\u001b[39m \u001b[43mrollout_controller_in_env\u001b[49m\u001b[43m(\u001b[49m\n\u001b[1;32m    314\u001b[0m \u001b[43m        \u001b[49m\u001b[43menv\u001b[49m\u001b[38;5;241;43m=\u001b[39;49m\u001b[38;5;28;43mself\u001b[39;49m\u001b[38;5;241;43m.\u001b[39;49m\u001b[43mmode_optimiser\u001b[49m\u001b[38;5;241;43m.\u001b[39;49m\u001b[43menv\u001b[49m\u001b[43m,\u001b[49m\n\u001b[1;32m    315\u001b[0m \u001b[43m        \u001b[49m\u001b[43mcontroller\u001b[49m\u001b[38;5;241;43m=\u001b[39;49m\u001b[38;5;28;43mself\u001b[39;49m\u001b[38;5;241;43m.\u001b[39;49m\u001b[43mmode_optimiser\u001b[49m\u001b[38;5;241;43m.\u001b[39;49m\u001b[43mexplorative_controller\u001b[49m\u001b[43m,\u001b[49m\n\u001b[1;32m    316\u001b[0m \u001b[43m        \u001b[49m\u001b[43mstart_state\u001b[49m\u001b[38;5;241;43m=\u001b[39;49m\u001b[38;5;28;43mself\u001b[39;49m\u001b[38;5;241;43m.\u001b[39;49m\u001b[43mmode_optimiser\u001b[49m\u001b[38;5;241;43m.\u001b[39;49m\u001b[43mstart_state\u001b[49m\u001b[38;5;241;43m.\u001b[39;49m\u001b[43mnumpy\u001b[49m\u001b[43m(\u001b[49m\u001b[43m)\u001b[49m\u001b[43m,\u001b[49m\n\u001b[1;32m    317\u001b[0m \u001b[43m    \u001b[49m\u001b[43m)\u001b[49m\n\u001b[1;32m    318\u001b[0m     trajectories\u001b[38;5;241m.\u001b[39mupdate({\u001b[38;5;124m\"\u001b[39m\u001b[38;5;124menv\u001b[39m\u001b[38;5;124m\"\u001b[39m: env_trajectory})\n\u001b[1;32m    319\u001b[0m \u001b[38;5;28;01melse\u001b[39;00m:\n",
      "File \u001b[0;32m~/Developer/python-projects/ModeOpt/modeopt/rollouts.py:126\u001b[0m, in \u001b[0;36mrollout_controller_in_env\u001b[0;34m(env, controller, start_state)\u001b[0m\n\u001b[1;32m    122\u001b[0m     \u001b[38;5;28;01mreturn\u001b[39;00m rollout_controls_in_env(\n\u001b[1;32m    123\u001b[0m         env\u001b[38;5;241m=\u001b[39menv, start_state\u001b[38;5;241m=\u001b[39mstart_state, controls\u001b[38;5;241m=\u001b[39mcontrols\n\u001b[1;32m    124\u001b[0m     )\n\u001b[1;32m    125\u001b[0m \u001b[38;5;28;01melse\u001b[39;00m:\n\u001b[0;32m--> 126\u001b[0m     \u001b[38;5;28;01mraise\u001b[39;00m \u001b[38;5;167;01mNotImplementedError\u001b[39;00m\n",
      "\u001b[0;31mNotImplementedError\u001b[0m: "
     ]
    },
    {
     "data": {
      "image/png": "[encoded data removed]",
      "text/plain": [
       "<Figure size 460.8x244.8 with 4 Axes>"
      ]
     },
     "metadata": {
      "needs_background": "light"
     },
     "output_type": "display_data"
    },
    {
     "data": {
      "image/png": "[encoded data removed]",
      "text/plain": [
       "<Figure size 460.8x244.8 with 4 Axes>"
      ]
     },
     "metadata": {
      "needs_background": "light"
     },
     "output_type": "display_data"
    },
    {
     "data": {
      "image/png": "[encoded data removed]",
      "text/plain": [
       "<Figure size 460.8x244.8 with 4 Axes>"
      ]
     },
     "metadata": {
      "needs_background": "light"
     },
     "output_type": "display_data"
    }
   ],
   "source": [
    "image_save_dir = os.path.join(mode_optimiser.log_dir, \"images\")\n",
    "try:\n",
    "    os.makedirs(image_save_dir)\n",
    "except FileExistsError:\n",
    "    pass\n",
    "\n",
    "def plot_data_over_gating_network_and_save(step: int, epoch: int, save: bool = True):\n",
    "    plotter.plot_data_over_mixing_probs()\n",
    "    if save:\n",
    "        save_filename = os.path.join(image_save_dir, \"data_over_mixing_probs_step_{}_epoch_{}.pdf\".format(step, epoch))\n",
    "        plt.savefig(save_filename, transparent=True)\n",
    "    \n",
    "    plotter.plot_data_over_desired_gating_network_gp()\n",
    "    if save:\n",
    "        save_filename = os.path.join(image_save_dir, \"data_over_desired_gating_gp_step_{}_epoch_{}.pdf\".format(step, epoch))\n",
    "        plt.savefig(save_filename, transparent=True)\n",
    "\n",
    "def plot_trajectories_over_gating_network_and_save(step: int, save: bool = True):\n",
    "    plotter.plot_trajectories_over_mixing_probs()\n",
    "    if save:\n",
    "        save_filename = os.path.join(image_save_dir, \"trajectories_over_mixing_probs_step_{}.pdf\".format(step))\n",
    "        plt.savefig(save_filename, transparent=True)\n",
    "    \n",
    "    plotter.plot_trajectories_over_desired_gating_network_gp()\n",
    "    if save:\n",
    "        save_filename = os.path.join(image_save_dir, \"trajectories_over_desired_gating_gp_step_{}.pdf\".format(step))\n",
    "        plt.savefig(save_filename, transparent=True)\n",
    "\n",
    "plot_data_over_gating_network_and_save(step=0, epoch=0)\n",
    "plot_trajectories_over_gating_network_and_save(step=0)"
   ]
  },
  {
   "cell_type": "markdown",
   "id": "65faf9ff",
   "metadata": {},
   "source": [
    "## Configure ModeOpt and callbacks"
   ]
  },
  {
   "cell_type": "code",
   "execution_count": null,
   "id": "f19298ea",
   "metadata": {},
   "outputs": [],
   "source": [
    "# mode_optimiser.dataset = (mode_optimiser.dataset[0][:130, :], mode_optimiser.dataset[1][:130, :])"
   ]
  },
  {
   "cell_type": "code",
   "execution_count": null,
   "id": "552069d2",
   "metadata": {
    "tags": []
   },
   "outputs": [],
   "source": [
    "# logging_epoch_freq = 60\n",
    "num_epochs = 10000\n",
    "logging_epoch_freq = math.floor((num_epochs)/5)\n",
    "save_epoch_freq = math.floor((num_epochs)/5)\n",
    "num_steps = 35\n",
    "dataset = initial_dataset\n",
    "# batch_size = 128\n",
    "batch_size = mode_optimiser.dataset[0].shape[0]\n",
    "\n",
    "mode_optimiser.dynamics_fit_kwargs.update({\"epochs\": num_epochs, \"batch_size\": batch_size, \"validation_split\": 0.2})\n",
    "mode_optimiser.dynamics_fit_kwargs"
   ]
  },
  {
   "cell_type": "markdown",
   "id": "e404564b",
   "metadata": {},
   "source": [
    "Callbacks for dynamics learning."
   ]
  },
  {
   "cell_type": "code",
   "execution_count": null,
   "id": "b5b1ee79",
   "metadata": {
    "tags": []
   },
   "outputs": [],
   "source": [
    "class PlottingCallback(tf.keras.callbacks.Callback):\n",
    "    def on_epoch_end(self, epoch, logs=None):\n",
    "        if epoch % logging_epoch_freq == 0:\n",
    "            plot_data_over_gating_network_and_save(step=step, epoch=epoch)\n",
    "\n",
    "class CustomSaver(tf.keras.callbacks.Callback):\n",
    "    def on_epoch_end(self, epoch, logs={}):\n",
    "        if epoch % save_epoch_freq == 0:  # or save after some epoch, each k-th epoch etc.\n",
    "            self.model.save(os.path.join(mode_optimiser.ckpt_dir, \"step_{}_epoch_{}\".format(step, epoch)), save_format=\"tf\")\n",
    "            \n",
    "early_stopping_cb = tf.keras.callbacks.EarlyStopping(\n",
    "    monitor=\"loss\",\n",
    "    min_delta=0,\n",
    "    patience=500,\n",
    "    verbose=0,\n",
    "    mode=\"auto\",\n",
    "    baseline=None,\n",
    "    restore_best_weights=False,\n",
    ")\n",
    "callbacks = [PlottingCallback(),\n",
    "             CustomSaver(),\n",
    "             early_stopping_cb,\n",
    "#              tf.keras.callbacks.ModelCheckpoint(\n",
    "#                  filepath=os.path.join(save_dir + \"ckpts/ModeOptDynamics\"),\n",
    "#                  monitor=\"loss\",\n",
    "#                  save_format=\"tf\",\n",
    "#                  save_best_only=False,\n",
    "#                  save_freq=500),\n",
    "             tf.keras.callbacks.TensorBoard(log_dir=log_dir)\n",
    "            ]"
   ]
  },
  {
   "cell_type": "code",
   "execution_count": null,
   "id": "121d466c",
   "metadata": {
    "tags": []
   },
   "outputs": [],
   "source": [
    "mode_optimiser.dynamics(dataset[0]) # call ModeOptDynamics to build it for saving\n",
    "mode_optimiser.dynamics_callbacks = []\n",
    "mode_optimiser.add_dynamics_callbacks(callbacks)"
   ]
  },
  {
   "cell_type": "code",
   "execution_count": null,
   "id": "ac4cc784",
   "metadata": {},
   "outputs": [],
   "source": [
    "# gpf.utilities.set_trainable(mode_optimiser.dynamics.mosvgpe.gating_network.gp.kernel, False)\n",
    "# gpf.utilities.set_trainable(mode_optimiser.dynamics.mosvgpe.experts_list[desired_mode].gp.kernel, False)"
   ]
  },
  {
   "cell_type": "code",
   "execution_count": null,
   "id": "947be602",
   "metadata": {
    "tags": []
   },
   "outputs": [],
   "source": [
    "for step in range(1, num_steps):\n",
    "    new_dataset = mode_optimiser.explore_env()\n",
    "    mode_optimiser.update_dataset(new_dataset)\n",
    "    mode_optimiser.dynamics_fit_kwargs.update({\"batch_size\": mode_optimiser.dataset[0].shape[0]})\n",
    "    print(\"Data set size: {}\".format(mode_optimiser.dataset[0].shape))\n",
    "    plot_data_over_gating_network_and_save(step=step, epoch=0, save=False)\n",
    "    plot_trajectories_over_gating_network_and_save(step=step, save=True)\n",
    "    plt.show()\n",
    "    mode_optimiser.optimise_dynamics()"
   ]
  },
  {
   "cell_type": "code",
   "execution_count": null,
   "id": "2e6bdf13",
   "metadata": {},
   "outputs": [],
   "source": [
    "for step in range(num_steps, num_steps*2):\n",
    "    new_dataset = mode_optimiser.explore_env()\n",
    "    mode_optimiser.update_dataset(new_dataset)\n",
    "    mode_optimiser.dynamics_fit_kwargs.update({\"batch_size\": mode_optimiser.dataset[0].shape[0]})\n",
    "    print(\"Data set size: {}\".format(mode_optimiser.dataset[0].shape))\n",
    "    plot_data_over_gating_network_and_save(step=step, epoch=0, save=False)\n",
    "    plot_trajectories_over_gating_network_and_save(step=step, save=True)\n",
    "    plt.show()\n",
    "    mode_optimiser.optimise_dynamics()"
   ]
  },
  {
   "cell_type": "code",
   "execution_count": null,
   "id": "7c01d7fb",
   "metadata": {},
   "outputs": [],
   "source": [
    "# for step in range(num_steps, num_steps*2):\n",
    "#     new_dataset = mode_optimiser.explore_env()\n",
    "#     mode_optimiser.update_dataset(new_dataset)\n",
    "#     batch_size = mode_optimiser.dataset[0].shape[0]\n",
    "#     mode_optimiser.dynamics_fit_kwargs.update({\"epochs\": num_epochs, \"batch_size\": batch_size, \"validation_split\": 0.2})\n",
    "#     print(\"Data set size: {}\".format(mode_optimiser.dataset[0].shape))\n",
    "#     plot_data_over_gating_network_and_save(step=step, epoch=0, save=False)\n",
    "#     plot_trajectories_over_gating_network_and_save(step=step, save=True)\n",
    "#     plt.show()\n",
    "#     mode_optimiser.optimise_dynamics()"
   ]
  },
  {
   "cell_type": "code",
   "execution_count": null,
   "id": "4615c26b",
   "metadata": {},
   "outputs": [],
   "source": [
    "state_diff_cost_matrix"
   ]
  },
  {
   "cell_type": "code",
   "execution_count": null,
   "id": "5ffa4728",
   "metadata": {},
   "outputs": [],
   "source": []
  },
  {
   "cell_type": "code",
   "execution_count": null,
   "id": "bab95f38",
   "metadata": {},
   "outputs": [],
   "source": []
  },
  {
   "cell_type": "code",
   "execution_count": null,
   "id": "4d57f53f",
   "metadata": {},
   "outputs": [],
   "source": []
  },
  {
   "cell_type": "code",
   "execution_count": null,
   "id": "28b08451",
   "metadata": {},
   "outputs": [],
   "source": []
  }
 ],
 "metadata": {
  "kernelspec": {
   "display_name": "Python 3 (ipykernel)",
   "language": "python",
   "name": "python3"
  },
  "language_info": {
   "codemirror_mode": {
    "name": "ipython",
    "version": 3
   },
   "file_extension": ".py",
   "mimetype": "text/x-python",
   "name": "python",
   "nbconvert_exporter": "python",
   "pygments_lexer": "ipython3",
   "version": "3.8.6"
  }
 },
 "nbformat": 4,
 "nbformat_minor": 5
}
