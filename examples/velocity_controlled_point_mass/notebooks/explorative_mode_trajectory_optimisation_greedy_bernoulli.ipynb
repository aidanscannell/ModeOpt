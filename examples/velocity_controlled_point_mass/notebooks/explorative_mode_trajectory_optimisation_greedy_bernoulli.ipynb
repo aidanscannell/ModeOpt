{
 "cells": [
  {
   "cell_type": "code",
   "execution_count": 1,
   "id": "6b58a502",
   "metadata": {
    "tags": []
   },
   "outputs": [],
   "source": [
    "from IPython.display import clear_output\n",
    "from typing import List, Optional\n",
    "\n",
    "import datetime\n",
    "import functools\n",
    "import gpflow as gpf\n",
    "import hydra\n",
    "import math\n",
    "import matplotlib.pyplot as plt\n",
    "import numpy as np\n",
    "import os\n",
    "import palettable\n",
    "import tensorflow as tf\n",
    "import tensor_annotations.tensorflow as ttf\n",
    "import tensorflow_probability as tfp\n",
    "\n",
    "from gpflow import default_float, default_jitter\n",
    "from gpflow.conditionals import uncertain_conditional, base_conditional\n",
    "from matplotlib import cm\n",
    "from numpy import random\n",
    "from omegaconf import DictConfig\n",
    "from simenvs import make\n",
    "\n",
    "from modeopt.cost_functions import ControlQuadraticCostFunction, TargetStateCostFunction, StateDiffCostFunction, quadratic_cost_fn\n",
    "from modeopt.controllers.utils import initialise_deterministic_trajectory, build_mode_variational_objective\n",
    "from modeopt.controllers import TrajectoryOptimisationController\n",
    "from modeopt.constraints import build_mode_chance_constraints_scipy\n",
    "from modeopt.custom_types import Dataset\n",
    "from modeopt.dynamics.conditionals import svgp_covariance_conditional\n",
    "from modeopt.plotting import ModeOptContourPlotter\n",
    "from modeopt.rollouts import rollout_controls_in_dynamics, rollout_controller_in_dynamics, rollout_controller_in_env, collect_data_from_env\n",
    "from modeopt.trajectories import ControlTrajectoryDist\n",
    "from modeopt.utils import model_from_DictConfig, combine_state_controls_to_input, append_zero_control\n",
    "from modeopt.mode_opt import ModeOpt\n",
    "from mogpe.keras.callbacks.tensorboard import PlotFn, TensorboardImageCallback\n",
    "from mogpe.keras.mixture_of_experts import MixtureOfSVGPExperts\n",
    "from mogpe.keras.plotting import MixtureOfSVGPExpertsContourPlotter\n",
    "from mogpe.keras.utils import sample_mosvgpe_inducing_inputs_from_data, model_from_yaml\n",
    "\n",
    "%matplotlib inline\n",
    "\n",
    "tfd = tfp.distributions\n",
    "\n",
    "CMAP = palettable.scientific.sequential.Bilbao_15.mpl_colormap\n",
    "\n",
    "meaning_of_life = 42\n",
    "tf.random.set_seed(meaning_of_life)\n",
    "np.random.seed(meaning_of_life)"
   ]
  },
  {
   "cell_type": "markdown",
   "id": "4f9e7c6f",
   "metadata": {},
   "source": [
    "## Initialise environment"
   ]
  },
  {
   "cell_type": "code",
   "execution_count": 2,
   "id": "0d8d18d1",
   "metadata": {
    "tags": []
   },
   "outputs": [],
   "source": [
    "env_name = \"velocity-controlled-point-mass/scenario-7\""
   ]
  },
  {
   "cell_type": "code",
   "execution_count": 3,
   "id": "aaafbcc6",
   "metadata": {
    "tags": []
   },
   "outputs": [
    {
     "name": "stdout",
     "output_type": "stream",
     "text": [
      "No constant_error found in toml config so using default : 0.0\n"
     ]
    }
   ],
   "source": [
    "env = make(env_name)\n",
    "state_dim = env.observation_spec().shape[0]\n",
    "control_dim = env.action_spec().shape[0]"
   ]
  },
  {
   "cell_type": "markdown",
   "id": "f9fb06da",
   "metadata": {},
   "source": [
    "## ModeOpt config"
   ]
  },
  {
   "cell_type": "code",
   "execution_count": 4,
   "id": "f1d034df",
   "metadata": {},
   "outputs": [],
   "source": [
    "start_state = np.array([[-1.0, -2.0]])\n",
    "target_state = np.array([[1.7, 3.0]])\n",
    "mode_satisfaction_prob = 0.8"
   ]
  },
  {
   "cell_type": "markdown",
   "id": "92ec671a",
   "metadata": {},
   "source": [
    "## Sample initial data set from desired mode"
   ]
  },
  {
   "cell_type": "code",
   "execution_count": 5,
   "id": "f02e5082",
   "metadata": {},
   "outputs": [
    {
     "name": "stdout",
     "output_type": "stream",
     "text": [
      "(1, 2)\n",
      "(2,)\n",
      "(15, 2)\n",
      "(2,)\n",
      "(1, 2)\n",
      "(2,)\n",
      "(15, 2)\n",
      "(2,)\n",
      "(1, 2)\n",
      "(2,)\n",
      "(15, 2)\n",
      "(2,)\n",
      "(1, 2)\n",
      "(2,)\n",
      "(15, 2)\n",
      "(2,)\n",
      "(1, 2)\n",
      "(2,)\n",
      "(15, 2)\n",
      "(2,)\n",
      "(1, 2)\n",
      "(2,)\n",
      "(15, 2)\n",
      "(2,)\n",
      "(1, 2)\n",
      "(2,)\n",
      "(15, 2)\n",
      "(2,)\n",
      "(1, 2)\n",
      "(2,)\n",
      "(15, 2)\n",
      "(2,)\n",
      "(1, 2)\n",
      "(2,)\n",
      "(15, 2)\n",
      "(2,)\n",
      "(1, 2)\n",
      "(2,)\n",
      "(15, 2)\n",
      "(2,)\n",
      "(1, 2)\n",
      "(2,)\n",
      "(15, 2)\n",
      "(2,)\n",
      "(1, 2)\n",
      "(2,)\n",
      "(15, 2)\n",
      "(2,)\n",
      "(1, 2)\n",
      "(2,)\n",
      "(15, 2)\n",
      "(2,)\n",
      "(1, 2)\n",
      "(2,)\n",
      "(15, 2)\n",
      "(2,)\n",
      "(1, 2)\n",
      "(2,)\n",
      "(15, 2)\n",
      "(2,)\n",
      "(1, 2)\n",
      "(2,)\n",
      "(15, 2)\n",
      "(2,)\n",
      "(1, 2)\n",
      "(2,)\n",
      "(15, 2)\n",
      "(2,)\n",
      "(1, 2)\n",
      "(2,)\n",
      "(15, 2)\n",
      "(2,)\n",
      "(1, 2)\n",
      "(2,)\n",
      "(15, 2)\n",
      "(2,)\n",
      "(1, 2)\n",
      "(2,)\n",
      "(15, 2)\n",
      "(2,)\n",
      "(1, 2)\n",
      "(2,)\n",
      "(15, 2)\n",
      "(2,)\n",
      "(1, 2)\n",
      "(2,)\n",
      "(15, 2)\n",
      "(2,)\n",
      "(1, 2)\n",
      "(2,)\n",
      "(15, 2)\n",
      "(2,)\n",
      "(1, 2)\n",
      "(2,)\n",
      "(15, 2)\n",
      "(2,)\n",
      "(1, 2)\n",
      "(2,)\n",
      "(15, 2)\n",
      "(2,)\n",
      "(1, 2)\n",
      "(2,)\n",
      "(15, 2)\n",
      "(2,)\n",
      "(1, 2)\n",
      "(2,)\n",
      "(15, 2)\n",
      "(2,)\n",
      "(1, 2)\n",
      "(2,)\n",
      "(15, 2)\n",
      "(2,)\n",
      "(1, 2)\n",
      "(2,)\n",
      "(15, 2)\n",
      "(2,)\n",
      "(1, 2)\n",
      "(2,)\n",
      "(15, 2)\n",
      "(2,)\n",
      "(1, 2)\n",
      "(2,)\n",
      "(15, 2)\n",
      "(2,)\n",
      "(1, 2)\n",
      "(2,)\n",
      "(15, 2)\n",
      "(2,)\n",
      "(1, 2)\n",
      "(2,)\n",
      "(15, 2)\n",
      "(2,)\n",
      "(1, 2)\n",
      "(2,)\n",
      "(15, 2)\n",
      "(2,)\n",
      "(1, 2)\n",
      "(2,)\n",
      "(15, 2)\n",
      "(2,)\n",
      "(1, 2)\n",
      "(2,)\n",
      "(15, 2)\n",
      "(2,)\n",
      "(1, 2)\n",
      "(2,)\n",
      "(15, 2)\n",
      "(2,)\n",
      "(1, 2)\n",
      "(2,)\n",
      "(15, 2)\n",
      "(2,)\n",
      "(1, 2)\n",
      "(2,)\n",
      "(15, 2)\n",
      "(2,)\n",
      "(1, 2)\n",
      "(2,)\n",
      "(15, 2)\n",
      "(2,)\n",
      "(1, 2)\n",
      "(2,)\n",
      "(15, 2)\n",
      "(2,)\n",
      "(1, 2)\n",
      "(2,)\n",
      "(15, 2)\n",
      "(2,)\n",
      "(1, 2)\n",
      "(2,)\n",
      "(15, 2)\n",
      "(2,)\n",
      "(1, 2)\n",
      "(2,)\n",
      "(15, 2)\n",
      "(2,)\n",
      "(1, 2)\n",
      "(2,)\n",
      "(15, 2)\n",
      "(2,)\n",
      "(1, 2)\n",
      "(2,)\n",
      "(15, 2)\n",
      "(2,)\n",
      "(1, 2)\n",
      "(2,)\n",
      "(15, 2)\n",
      "(2,)\n",
      "(1, 2)\n",
      "(2,)\n",
      "(15, 2)\n",
      "(2,)\n",
      "(1, 2)\n",
      "(2,)\n",
      "(15, 2)\n",
      "(2,)\n",
      "(1, 2)\n",
      "(2,)\n",
      "(15, 2)\n",
      "(2,)\n",
      "(118, 4)\n",
      "(118, 2)\n"
     ]
    },
    {
     "data": {
      "image/png": "[encoded data removed]",
      "text/plain": [
       "<Figure size 432x288 with 1 Axes>"
      ]
     },
     "metadata": {
      "needs_background": "light"
     },
     "output_type": "display_data"
    }
   ],
   "source": [
    "def sample_env_trajectories(horizon=15, num_trajectories=10):\n",
    "    X, Y = [], []\n",
    "    for i in range(num_trajectories):\n",
    "        controls = np.random.uniform(\n",
    "            env.action_spec().minimum,\n",
    "            env.action_spec().maximum,\n",
    "            (horizon, env.action_spec().shape[-1]),\n",
    "        )\n",
    "        X_, Y_ = collect_data_from_env(env, start_state=start_state, controls=controls)\n",
    "        X.append(X_)\n",
    "        Y.append(Y_)\n",
    "    X = np.concatenate(X, 0)\n",
    "    Y = np.concatenate(Y, 0)\n",
    "    width = 1.0\n",
    "    mask_1 = X[:, 0] > start_state[0, 0] - width\n",
    "    mask_2 = X[:, 0] < start_state[0, 0] + width\n",
    "    mask_3 = X[:, 1] > start_state[0, 1] - width\n",
    "    mask_4 = X[:, 1] < start_state[0, 1] + width\n",
    "    mask = mask_1 & mask_2 & mask_3 & mask_4\n",
    "    X_trimmed = X[mask]\n",
    "    Y_trimmed = Y[mask]\n",
    "    print(X_trimmed.shape)\n",
    "    print(Y_trimmed.shape)\n",
    "    return (X_trimmed, Y_trimmed)\n",
    "\n",
    "initial_dataset = sample_env_trajectories(horizon = 15, num_trajectories=50)\n",
    "dataset = initial_dataset\n",
    "plt.scatter(dataset[0][:, 0], dataset[0][:, 1])\n",
    "plt.show()"
   ]
  },
  {
   "cell_type": "markdown",
   "id": "5887af56",
   "metadata": {},
   "source": [
    "## Train dynamics on initial data set or load from config"
   ]
  },
  {
   "cell_type": "code",
   "execution_count": 6,
   "id": "bbfb8de9",
   "metadata": {
    "tags": []
   },
   "outputs": [],
   "source": [
    "initial_num_epochs = 20000\n",
    "# num_epochs = 300\n",
    "num_epochs = 1500\n",
    "# batch_size = 128\n",
    "batch_size = initial_dataset[0].shape[0]\n",
    "dynamics_logging_epoch_freq = 100\n",
    "\n",
    "load_from_config = True\n",
    "# load_from_config = False\n",
    "yaml_cfg_filename = \"./keras_configs/mode_opt_explore_scenario_7.yaml\"\n",
    "load_ckpt_dir = \"./experiments/exploration-prob-0.8/2022-03-29-18-14/ckpts\"\n",
    "load_ckpt_dir = \"./experiments/exploration-prob-0.8/2022-03-30-13-33/ckpts\"\n",
    "load_ckpt_dir = \"./experiments/exploration-prob-0.8/2022-03-30-14-22/ckpts\""
   ]
  },
  {
   "cell_type": "code",
   "execution_count": 7,
   "id": "a5a05085",
   "metadata": {
    "tags": []
   },
   "outputs": [],
   "source": [
    "now_time = datetime.datetime.now().strftime('%Y-%m-%d-%H-%M') #  now\n",
    "log_dir = os.path.join(f\"./experiments/bernoulli-with-conditioning/explorative-prob-{mode_satisfaction_prob}\", now_time)"
   ]
  },
  {
   "cell_type": "code",
   "execution_count": 8,
   "id": "4af2e7b3",
   "metadata": {
    "tags": []
   },
   "outputs": [
    {
     "name": "stderr",
     "output_type": "stream",
     "text": [
      "2022-04-13 18:05:38.071728: I tensorflow/core/platform/cpu_feature_guard.cc:142] This TensorFlow binary is optimized with oneAPI Deep Neural Network Library (oneDNN) to use the following CPU instructions in performance-critical operations:  AVX2 FMA\n",
      "To enable them in other operations, rebuild TensorFlow with the appropriate compiler flags.\n"
     ]
    },
    {
     "name": "stdout",
     "output_type": "stream",
     "text": [
      "setting desired mode to 1\n",
      "╒════════════════════════════════════════════════════════════════╤═══════════╤════════════════╤═════════╤═════════════╤═════════════╤═════════╤══════════════════════════════════════════╕\n",
      "│ name                                                           │ class     │ transform      │ prior   │ trainable   │ shape       │ dtype   │ value                                    │\n",
      "╞════════════════════════════════════════════════════════════════╪═══════════╪════════════════╪═════════╪═════════════╪═════════════╪═════════╪══════════════════════════════════════════╡\n",
      "│ IndependentPosteriorMultiOutput.kernel.kernels[0].variance     │ Parameter │ Softplus       │         │ True        │ ()          │ float64 │ 1.4978003107997662                       │\n",
      "├────────────────────────────────────────────────────────────────┼───────────┼────────────────┼─────────┼─────────────┼─────────────┼─────────┼──────────────────────────────────────────┤\n",
      "│ IndependentPosteriorMultiOutput.kernel.kernels[0].lengthscales │ Parameter │ Softplus       │         │ True        │ (4,)        │ float64 │ [7.36133439, 4.15878948, 7.43458159...   │\n",
      "├────────────────────────────────────────────────────────────────┼───────────┼────────────────┼─────────┼─────────────┼─────────────┼─────────┼──────────────────────────────────────────┤\n",
      "│ IndependentPosteriorMultiOutput.kernel.kernels[1].variance     │ Parameter │ Softplus       │         │ True        │ ()          │ float64 │ 1.1881473511798106                       │\n",
      "├────────────────────────────────────────────────────────────────┼───────────┼────────────────┼─────────┼─────────────┼─────────────┼─────────┼──────────────────────────────────────────┤\n",
      "│ IndependentPosteriorMultiOutput.kernel.kernels[1].lengthscales │ Parameter │ Softplus       │         │ True        │ (4,)        │ float64 │ [9.64201641, 4.35154519, 20.49345011...  │\n",
      "├────────────────────────────────────────────────────────────────┼───────────┼────────────────┼─────────┼─────────────┼─────────────┼─────────┼──────────────────────────────────────────┤\n",
      "│ IndependentPosteriorMultiOutput.X_data.inducing_variable.Z     │ Parameter │ Identity       │         │ True        │ (90, 4)     │ float64 │ [[0.78127764, -0.88818998, 4.52976162... │\n",
      "├────────────────────────────────────────────────────────────────┼───────────┼────────────────┼─────────┼─────────────┼─────────────┼─────────┼──────────────────────────────────────────┤\n",
      "│ IndependentPosteriorMultiOutput.mean_function.c                │ Parameter │ Identity       │         │ True        │ ()          │ float64 │ -0.1552015199866211                      │\n",
      "├────────────────────────────────────────────────────────────────┼───────────┼────────────────┼─────────┼─────────────┼─────────────┼─────────┼──────────────────────────────────────────┤\n",
      "│ IndependentPosteriorMultiOutput._q_dist.q_mu                   │ Parameter │ Identity       │         │ True        │ (90, 2)     │ float64 │ [[1.18185112e+00, 4.88676820e-01...      │\n",
      "├────────────────────────────────────────────────────────────────┼───────────┼────────────────┼─────────┼─────────────┼─────────────┼─────────┼──────────────────────────────────────────┤\n",
      "│ IndependentPosteriorMultiOutput._q_dist.q_sqrt                 │ Parameter │ FillTriangular │         │ True        │ (2, 90, 90) │ float64 │ [[[-0.19227382, 0., 0....                │\n",
      "╘════════════════════════════════════════════════════════════════╧═══════════╧════════════════╧═════════╧═════════════╧═════════════╧═════════╧══════════════════════════════════════════╛\n",
      "No constant_error found in toml config so using default : 0.0\n",
      "setting desired mode to 1\n",
      "╒════════════════════════════════════════════════════════════════╤═══════════╤════════════════╤═════════╤═════════════╤═════════════╤═════════╤══════════════════════════════════════════╕\n",
      "│ name                                                           │ class     │ transform      │ prior   │ trainable   │ shape       │ dtype   │ value                                    │\n",
      "╞════════════════════════════════════════════════════════════════╪═══════════╪════════════════╪═════════╪═════════════╪═════════════╪═════════╪══════════════════════════════════════════╡\n",
      "│ IndependentPosteriorMultiOutput.kernel.kernels[0].variance     │ Parameter │ Softplus       │         │ True        │ ()          │ float64 │ 1.4978003107997662                       │\n",
      "├────────────────────────────────────────────────────────────────┼───────────┼────────────────┼─────────┼─────────────┼─────────────┼─────────┼──────────────────────────────────────────┤\n",
      "│ IndependentPosteriorMultiOutput.kernel.kernels[0].lengthscales │ Parameter │ Softplus       │         │ True        │ (4,)        │ float64 │ [7.36133439, 4.15878948, 7.43458159...   │\n",
      "├────────────────────────────────────────────────────────────────┼───────────┼────────────────┼─────────┼─────────────┼─────────────┼─────────┼──────────────────────────────────────────┤\n",
      "│ IndependentPosteriorMultiOutput.kernel.kernels[1].variance     │ Parameter │ Softplus       │         │ True        │ ()          │ float64 │ 1.1881473511798106                       │\n",
      "├────────────────────────────────────────────────────────────────┼───────────┼────────────────┼─────────┼─────────────┼─────────────┼─────────┼──────────────────────────────────────────┤\n",
      "│ IndependentPosteriorMultiOutput.kernel.kernels[1].lengthscales │ Parameter │ Softplus       │         │ True        │ (4,)        │ float64 │ [9.64201641, 4.35154519, 20.49345011...  │\n",
      "├────────────────────────────────────────────────────────────────┼───────────┼────────────────┼─────────┼─────────────┼─────────────┼─────────┼──────────────────────────────────────────┤\n",
      "│ IndependentPosteriorMultiOutput.X_data.inducing_variable.Z     │ Parameter │ Identity       │         │ True        │ (90, 4)     │ float64 │ [[0.78127764, -0.88818998, 4.52976162... │\n",
      "├────────────────────────────────────────────────────────────────┼───────────┼────────────────┼─────────┼─────────────┼─────────────┼─────────┼──────────────────────────────────────────┤\n",
      "│ IndependentPosteriorMultiOutput.mean_function.c                │ Parameter │ Identity       │         │ True        │ ()          │ float64 │ -0.1552015199866211                      │\n",
      "├────────────────────────────────────────────────────────────────┼───────────┼────────────────┼─────────┼─────────────┼─────────────┼─────────┼──────────────────────────────────────────┤\n",
      "│ IndependentPosteriorMultiOutput._q_dist.q_mu                   │ Parameter │ Identity       │         │ True        │ (90, 2)     │ float64 │ [[1.18185112e+00, 4.88676820e-01...      │\n",
      "├────────────────────────────────────────────────────────────────┼───────────┼────────────────┼─────────┼─────────────┼─────────────┼─────────┼──────────────────────────────────────────┤\n",
      "│ IndependentPosteriorMultiOutput._q_dist.q_sqrt                 │ Parameter │ FillTriangular │         │ True        │ (2, 90, 90) │ float64 │ [[[-0.19227382, 0., 0....                │\n",
      "╘════════════════════════════════════════════════════════════════╧═══════════╧════════════════╧═════════╧═════════════╧═════════════╧═════════╧══════════════════════════════════════════╛\n"
     ]
    },
    {
     "name": "stderr",
     "output_type": "stream",
     "text": [
      "2022-04-13 18:05:38.970637: I tensorflow/core/profiler/lib/profiler_session.cc:131] Profiler session initializing.\n",
      "2022-04-13 18:05:38.970661: I tensorflow/core/profiler/lib/profiler_session.cc:146] Profiler session started.\n",
      "2022-04-13 18:05:38.970726: I tensorflow/core/profiler/lib/profiler_session.cc:164] Profiler session tear down.\n"
     ]
    }
   ],
   "source": [
    "if load_from_config:\n",
    "    mode_optimiser = ModeOpt.load(load_ckpt_dir)\n",
    "    mode_optimiser.log_dir = log_dir\n",
    "else:\n",
    "    mode_optimiser = model_from_yaml(yaml_cfg_filename, custom_objects={\"ModeOpt\": ModeOpt})\n",
    "    mode_optimiser.dataset = (tf.constant(initial_dataset[0], dtype=default_float()),\n",
    "                              tf.constant(initial_dataset[1], dtype=default_float())\n",
    "                             )\n",
    "    sample_mosvgpe_inducing_inputs_from_data(initial_dataset[0], mode_optimiser.dynamics.mosvgpe)\n",
    "    mode_optimiser.dynamics_fit_kwargs.update({\"epochs\": initial_num_epochs, \"batch_size\": batch_size, \"validation_split\": 0.2})\n",
    "#     dynamics_plotting_callbacks = build_contour_plotter_callbacks(mode_optimiser.dynamics.mosvgpe, logging_epoch_freq=dynamics_logging_epoch_freq, log_dir=mode_optimiser.log_dir)\n",
    "#     mode_optimiser.add_dynamics_callbacks(dynamics_plotting_callbacks)\n",
    "#     gpf.utilities.set_trainable(mode_optimiser.dynamics.mosvgpe.gating_network.gp.inducing_variable, False)\n",
    "    mode_optimiser.optimise_dynamics()\n",
    "#     gpf.utilities.set_trainable(mode_optimiser.dynamics.mosvgpe.gating_network.gp.kernel, False)"
   ]
  },
  {
   "cell_type": "markdown",
   "id": "f1833b35",
   "metadata": {},
   "source": [
    "Update the data set."
   ]
  },
  {
   "cell_type": "code",
   "execution_count": 9,
   "id": "107bc100",
   "metadata": {
    "tags": []
   },
   "outputs": [],
   "source": [
    "mode_optimiser.start_state = tf.constant(start_state, dtype=default_float())"
   ]
  },
  {
   "cell_type": "markdown",
   "id": "3172fc40",
   "metadata": {},
   "source": [
    "Set the correct desired dynamics mode."
   ]
  },
  {
   "cell_type": "code",
   "execution_count": 10,
   "id": "e1038730",
   "metadata": {
    "tags": []
   },
   "outputs": [
    {
     "name": "stdout",
     "output_type": "stream",
     "text": [
      "Desired mode is 1\n"
     ]
    }
   ],
   "source": [
    "def which_desired_mode(mode_optimiser, initial_dataset):\n",
    "    probs = mode_optimiser.dynamics.mosvgpe.gating_network.predict_mixing_probs(initial_dataset[0])\n",
    "    mean_probs = tf.reduce_mean(probs, 0)\n",
    "    return int(tf.math.argmax(mean_probs))\n",
    "\n",
    "desired_mode = which_desired_mode(mode_optimiser, initial_dataset)\n",
    "print(\"Desired mode is {}\".format(desired_mode))\n",
    "mode_optimiser.desired_mode = desired_mode"
   ]
  },
  {
   "cell_type": "markdown",
   "id": "b6132545",
   "metadata": {},
   "source": [
    "Save the learned dynamics model."
   ]
  },
  {
   "cell_type": "code",
   "execution_count": 11,
   "id": "21704db9",
   "metadata": {
    "tags": []
   },
   "outputs": [],
   "source": [
    "mode_optimiser.save()"
   ]
  },
  {
   "cell_type": "markdown",
   "id": "f0f9674d",
   "metadata": {},
   "source": [
    "## Configure the explorative controller"
   ]
  },
  {
   "cell_type": "code",
   "execution_count": 12,
   "id": "d89981c1",
   "metadata": {
    "tags": []
   },
   "outputs": [],
   "source": [
    "horizon = 15\n",
    "max_iterations = 1000\n",
    "keep_last_solution = True\n",
    "keep_last_solution = False\n",
    "method = \"SLSQP\""
   ]
  },
  {
   "cell_type": "code",
   "execution_count": 13,
   "id": "51ed89f0",
   "metadata": {
    "tags": []
   },
   "outputs": [],
   "source": [
    "terminal_state_cost_matrix = tf.eye(state_dim, dtype=default_float()) * 100\n",
    "# state_diff_cost_matrix = tf.eye(state_dim, dtype=default_float()) * 0.0005\n",
    "state_diff_cost_matrix = tf.eye(state_dim, dtype=default_float()) * 0.0005\n",
    "# state_diff_cost_matrix = tf.eye(state_dim, dtype=default_float()) * 1.0\n",
    "# control_cost_matrix = tf.eye(control_dim, dtype=default_float()) * 0.1\n",
    "control_cost_matrix = tf.eye(control_dim, dtype=default_float()) * 0.0005\n",
    "# control_cost_matrix = tf.eye(control_dim, dtype=default_float()) * 1.0\n",
    "\n",
    "# terminal_cost_fn = TargetStateCostFunction(weight_matrix=terminal_state_cost_matrix, target_state=start_state)\n",
    "terminal_cost_fn = TargetStateCostFunction(weight_matrix=terminal_state_cost_matrix, target_state=target_state)\n",
    "control_cost_fn = ControlQuadraticCostFunction(weight_matrix=control_cost_matrix)\n",
    "state_diff_cost_fn = StateDiffCostFunction(weight_matrix=state_diff_cost_matrix, target_state=target_state)\n",
    "\n",
    "cost_fn = control_cost_fn + state_diff_cost_fn\n",
    "# cost_fn = state_diff_cost_fn\n",
    "# cost_fn = control_cost_fn\n",
    "# cost_fn = control_cost_fn + state_diff_cost_fn + terminal_cost_fn\n",
    "# cost_fn = state_diff_cost_fn\n",
    "# cost_fn = terminal_cost_fn + state_diff_cost_fn"
   ]
  },
  {
   "cell_type": "code",
   "execution_count": 14,
   "id": "40333de7",
   "metadata": {},
   "outputs": [],
   "source": [
    "def conditional_gating(state_means, control_means, state_vars, control_vars):\n",
    "    h_means_prior, h_vars_prior = mode_optimiser.dynamics.uncertain_predict_gating(state_means, control_means)\n",
    "    gating_gp = mode_optimiser.dynamics.desired_mode_gating_gp \n",
    "\n",
    "    input_means, input_vars = combine_state_controls_to_input(\n",
    "        state_means, control_means, state_vars, control_vars\n",
    "    )\n",
    "    \n",
    "    h_means, h_vars = h_means_prior[0:1, :], h_vars_prior[0:1, :]\n",
    "    for t in range(1, horizon):\n",
    "        Xnew = input_means[t:t+1, :]\n",
    "        Xobs = tf.concat([input_means[:t, :], input_means[t+1:, :]], 0)\n",
    "        f = tf.concat([h_means_prior[:t, :], h_means_prior[t+1:, :]], 0)\n",
    "\n",
    "        Knn = svgp_covariance_conditional(X1=Xnew, X2=Xnew, svgp=gating_gp)[0, 0, :]\n",
    "        Kmm = svgp_covariance_conditional(X1=Xobs, X2=Xobs, svgp=gating_gp)[0, :, :]\n",
    "        Kmn = svgp_covariance_conditional(X1=Xobs, X2=Xnew, svgp=gating_gp)[0, :, :]\n",
    "        Kmm += tf.eye(Kmm.shape[0], dtype=default_float()) * default_jitter()\n",
    "        h_mean, h_var = base_conditional(\n",
    "            Kmn=Kmn,\n",
    "            Kmm=Kmm,\n",
    "            Knn=Knn,\n",
    "            f=f,\n",
    "            full_cov=False,\n",
    "            q_sqrt=None,\n",
    "            white=False,\n",
    "        )\n",
    "        h_means = tf.concat([h_means, h_mean], 0)\n",
    "        h_vars = tf.concat([h_vars, h_var], 0)\n",
    "    return h_means, h_vars\n",
    "    \n",
    "def conditional_gating_temporal(state_means, control_means, state_vars, control_vars):\n",
    "    h_means_prior, h_vars_prior = mode_optimiser.dynamics.uncertain_predict_gating(state_means, control_means)\n",
    "    gating_gp = mode_optimiser.dynamics.desired_mode_gating_gp \n",
    "\n",
    "    input_means, input_vars = combine_state_controls_to_input(\n",
    "        state_means, control_means, state_vars, control_vars\n",
    "    )\n",
    "    \n",
    "    h_means, h_vars = h_means_prior[0:1, :], h_vars_prior[0:1, :]\n",
    "    for t in range(1, horizon):\n",
    "        Xnew = input_means[t:t+1, :]\n",
    "        Xobs = input_means[0:t, :]\n",
    "        f = h_means_prior[0:t, :]\n",
    "\n",
    "        Knn = svgp_covariance_conditional(X1=Xnew, X2=Xnew, svgp=gating_gp)[0, 0, :]\n",
    "        Kmm = svgp_covariance_conditional(X1=Xobs, X2=Xobs, svgp=gating_gp)[0, :, :]\n",
    "        Kmn = svgp_covariance_conditional(X1=Xobs, X2=Xnew, svgp=gating_gp)[0, :, :]\n",
    "        Kmm += tf.eye(Kmm.shape[0], dtype=default_float()) * default_jitter()\n",
    "        h_mean, h_var = base_conditional(\n",
    "            Kmn=Kmn,\n",
    "            Kmm=Kmm,\n",
    "            Knn=Knn,\n",
    "            f=f,\n",
    "            full_cov=False,\n",
    "            q_sqrt=None,\n",
    "            white=False,\n",
    "        )\n",
    "        h_means = tf.concat([h_means, h_mean], 0)\n",
    "        h_vars = tf.concat([h_vars, h_var], 0)\n",
    "    return h_means, h_vars"
   ]
  },
  {
   "cell_type": "code",
   "execution_count": 15,
   "id": "c6760680",
   "metadata": {
    "tags": []
   },
   "outputs": [],
   "source": [
    "def explorative_objective(initial_solution: ControlTrajectoryDist) -> ttf.Tensor0:\n",
    "    control_means = initial_solution(variance=False)\n",
    "    control_vars = None\n",
    "    state_means, state_vars = rollout_controls_in_dynamics(\n",
    "        dynamics=mode_optimiser.dynamics,\n",
    "        start_state=start_state,\n",
    "        control_means=control_means,\n",
    "        control_vars=control_vars,\n",
    "    )\n",
    "    h_means, h_vars = conditional_gating(state_means[1:, :], control_means, state_vars[1:, :], control_vars)\n",
    "    print('h_vars')\n",
    "    print(h_vah)\n",
    "#     h_means, h_vars = conditional_gating_temporal(state_means[1:, :], control_means, state_vars[1:, :], control_vars)\n",
    "    mode_probs = mode_optimiser.dynamics.mosvgpe.gating_network.predict_mixing_probs_given_h(h_means, h_vars)\n",
    "    print(\"mode_probs.shape\")\n",
    "    print(mode_probs.shape)\n",
    "    gating_entropy = tfd.Bernoulli(mode_probs[:, mode_optimiser.desired_mode]).entropy()\n",
    "#     gating_entropy = tfd.Categorical(mode_probs).entropy()\n",
    "    print(gating_entropy.shape)\n",
    "#     h_dist = tfd.MultivariateNormalDiag(h_means, h_vars)\n",
    "#     gating_entropy = h_dist.entropy()\n",
    "    tf.print('entropy yo')\n",
    "    tf.print(-tf.reduce_sum(gating_entropy))\n",
    "#     tf.print(cost_fn(state_means, control_means, state_vars, control_vars))\n",
    "    return -tf.reduce_sum(gating_entropy)\n",
    "#     return -tf.reduce_sum(gating_entropy) + cost_fn(state_means, control_means, state_vars, control_vars)"
   ]
  },
  {
   "cell_type": "code",
   "execution_count": 16,
   "id": "75ee485f",
   "metadata": {
    "tags": []
   },
   "outputs": [
    {
     "name": "stderr",
     "output_type": "stream",
     "text": [
      "2022-04-13 18:05:40.171751: W tensorflow/python/util/util.cc:348] Sets are not currently considered sequences, but this may change in the future, so consider avoiding using them.\n"
     ]
    },
    {
     "name": "stdout",
     "output_type": "stream",
     "text": [
      "Xnew.shape\n",
      "(256, 15, 4)\n",
      "gating_means.shape\n",
      "(256, 15, 1)\n",
      "input_mean.shape\n",
      "(15, 4)\n",
      "(15, 4)\n",
      "var_exp: Tensor(\"Sum_218:0\", shape=(15, 1), dtype=float64)\n",
      "mode_var_exp: Tensor(\"Sum_219:0\", shape=(), dtype=float64)\n"
     ]
    },
    {
     "name": "stderr",
     "output_type": "stream",
     "text": [
      "2022-04-13 18:06:40.994940: I tensorflow/compiler/mlir/mlir_graph_optimization_pass.cc:185] None of the MLIR Optimization Passes are enabled (registered 2)\n"
     ]
    },
    {
     "name": "stdout",
     "output_type": "stream",
     "text": [
      "Optimisation result:\n",
      "     fun: array([66.59696742])\n",
      "     jac: array([2.69513992e-04, 7.56009729e-04, 5.53638984e-04, 6.17919925e-04,\n",
      "       8.24734830e-05, 6.56961782e-04, 1.17365008e-04, 7.29399697e-04,\n",
      "       4.05722417e-04, 7.39736557e-04, 4.61553437e-04, 6.91946622e-04,\n",
      "       2.84344129e-04, 5.91346487e-04, 9.81022855e-05, 4.57220948e-04,\n",
      "       7.90776870e-05, 4.21872280e-04, 1.69593489e-04, 5.53104525e-04,\n",
      "       2.26450631e-04, 7.32156357e-04, 1.44979967e-04, 7.40807270e-04,\n",
      "       7.21748549e-05, 4.30802069e-04, 1.85513109e-04, 2.63013167e-05,\n",
      "       3.66076753e-04, 9.75111871e-05])\n",
      " message: 'Optimization terminated successfully'\n",
      "    nfev: 32\n",
      "     nit: 15\n",
      "    njev: 15\n",
      "  status: 0\n",
      " success: True\n",
      "       x: array([-0.23821481,  2.13424601, -0.13510465,  1.95088118, -0.07097346,\n",
      "        1.82675821, -0.02716002,  1.7448613 ,  0.00669778,  1.69276623,\n",
      "        0.03689614,  1.66185601,  0.0678676 ,  1.64643057,  0.10312259,\n",
      "        1.6430313 ,  0.14580199,  1.65000104,  0.1990902 ,  1.66714019,\n",
      "        0.26669772,  1.69562879,  0.35336775,  1.73836117,  0.46572263,\n",
      "        1.80083754,  0.61337471,  1.89301058,  0.80837116,  2.0322721 ])\n"
     ]
    }
   ],
   "source": [
    "def find_initial_solution_in_desired_mode():\n",
    "    fake_target_state_in_mode_idx = np.random.choice(np.arange(len(mode_optimiser.dataset[0])), size=1)\n",
    "    fake_target_state_in_mode = mode_optimiser.dataset[0][fake_target_state_in_mode_idx[0], :state_dim]\n",
    "    fake_target_state_in_mode = tf.constant([[0, -1]], dtype=default_float())\n",
    "    \n",
    "    terminal_state_cost_matrix = tf.eye(state_dim, dtype=default_float()) * 100.0\n",
    "    control_cost_matrix = tf.eye(control_dim, dtype=default_float())\n",
    "    \n",
    "    terminal_cost_fn = TargetStateCostFunction(weight_matrix=terminal_state_cost_matrix, \n",
    "                                               target_state=fake_target_state_in_mode)\n",
    "    control_cost_fn = ControlQuadraticCostFunction(weight_matrix=control_cost_matrix)\n",
    "    initial_cost_fn = terminal_cost_fn + control_cost_fn\n",
    "\n",
    "    initial_solution = initialise_deterministic_trajectory(horizon, control_dim)\n",
    "    objective_fn = build_mode_variational_objective(mode_optimiser.dynamics, initial_cost_fn, start_state)\n",
    "    explorative_controller = TrajectoryOptimisationController(\n",
    "        max_iterations=max_iterations,\n",
    "        initial_solution=initial_solution,\n",
    "        objective_fn=objective_fn,\n",
    "        method=method,\n",
    "    )\n",
    "    explorative_controller.optimise()\n",
    "    return explorative_controller.previous_solution\n",
    "\n",
    "initial_solution_in_mode = find_initial_solution_in_desired_mode()"
   ]
  },
  {
   "cell_type": "code",
   "execution_count": 17,
   "id": "3803a1b8",
   "metadata": {
    "tags": []
   },
   "outputs": [],
   "source": [
    "mode_chance_constraints = build_mode_chance_constraints_scipy(mode_optimiser.dynamics, \n",
    "                                                              start_state, \n",
    "                                                              horizon, \n",
    "                                                              control_dim=control_dim,\n",
    "                                                              lower_bound=mode_satisfaction_prob)\n",
    "explorative_controller = TrajectoryOptimisationController(\n",
    "    max_iterations=max_iterations,\n",
    "    initial_solution=initial_solution_in_mode,\n",
    "    objective_fn=explorative_objective,\n",
    "    keep_last_solution=keep_last_solution,\n",
    "    constraints=[mode_chance_constraints],\n",
    "    method=method,\n",
    ")\n",
    "mode_optimiser.explorative_controller = explorative_controller"
   ]
  },
  {
   "cell_type": "markdown",
   "id": "29f26708",
   "metadata": {},
   "source": [
    "## Configure plotter"
   ]
  },
  {
   "cell_type": "code",
   "execution_count": 18,
   "id": "f8392862",
   "metadata": {
    "tags": []
   },
   "outputs": [],
   "source": [
    "def create_test_inputs(x_min=[-3, -3], x_max=[3, 3], input_dim=4, num_test: int = 1600, factor: float = 1.2):\n",
    "    sqrtN = int(np.sqrt(num_test))\n",
    "    xx = np.linspace(x_min[0] * factor, x_max[0] * factor, sqrtN)\n",
    "    yy = np.linspace(x_min[1] * factor, x_max[1] * factor, sqrtN)\n",
    "    xx, yy = np.meshgrid(xx, yy)\n",
    "    test_inputs = np.column_stack([xx.reshape(-1), yy.reshape(-1)])\n",
    "    if input_dim > 2:\n",
    "        zeros = np.zeros((num_test, input_dim - 2))\n",
    "        test_inputs = np.concatenate([test_inputs, zeros], -1)\n",
    "    return test_inputs, xx, yy\n",
    "\n",
    "test_inputs, xx, yy = create_test_inputs()\n",
    "plotter = ModeOptContourPlotter(mode_optimiser, test_inputs=test_inputs, static=False, explorative=True)"
   ]
  },
  {
   "cell_type": "code",
   "execution_count": 19,
   "id": "42d78a80",
   "metadata": {
    "scrolled": true,
    "tags": []
   },
   "outputs": [
    {
     "data": {
      "image/png": "[encoded data removed]",
      "text/plain": [
       "<Figure size 460.8x244.8 with 4 Axes>"
      ]
     },
     "metadata": {
      "needs_background": "light"
     },
     "output_type": "display_data"
    },
    {
     "data": {
      "image/png": "[encoded data removed]",
      "text/plain": [
       "<Figure size 460.8x244.8 with 4 Axes>"
      ]
     },
     "metadata": {
      "needs_background": "light"
     },
     "output_type": "display_data"
    },
    {
     "data": {
      "image/png": "[encoded data removed]",
      "text/plain": [
       "<Figure size 460.8x244.8 with 4 Axes>"
      ]
     },
     "metadata": {
      "needs_background": "light"
     },
     "output_type": "display_data"
    },
    {
     "data": {
      "image/png": "[encoded data removed]",
      "text/plain": [
       "<Figure size 460.8x244.8 with 4 Axes>"
      ]
     },
     "metadata": {
      "needs_background": "light"
     },
     "output_type": "display_data"
    }
   ],
   "source": [
    "image_save_dir = os.path.join(mode_optimiser.log_dir, \"images\")\n",
    "try:\n",
    "    os.makedirs(image_save_dir)\n",
    "except FileExistsError:\n",
    "    pass\n",
    "\n",
    "def plot_data_over_gating_network_and_save(step: int, epoch: int, save: bool = True):\n",
    "    plotter.plot_data_over_mixing_probs()\n",
    "    if save:\n",
    "        save_filename = os.path.join(image_save_dir, \"data_over_mixing_probs_step_{}_epoch_{}.pdf\".format(step, epoch))\n",
    "        plt.savefig(save_filename, transparent=True)\n",
    "    \n",
    "    plotter.plot_data_over_desired_gating_network_gp()\n",
    "    if save:\n",
    "        save_filename = os.path.join(image_save_dir, \"data_over_desired_gating_gp_step_{}_epoch_{}.pdf\".format(step, epoch))\n",
    "        plt.savefig(save_filename, transparent=True)\n",
    "\n",
    "def plot_trajectories_over_gating_network_and_save(step: int, save: bool = True):\n",
    "    plotter.plot_trajectories_over_mixing_probs()\n",
    "    if save:\n",
    "        save_filename = os.path.join(image_save_dir, \"trajectories_over_mixing_probs_step_{}.pdf\".format(step))\n",
    "        plt.savefig(save_filename, transparent=True)\n",
    "    \n",
    "    plotter.plot_trajectories_over_desired_gating_network_gp()\n",
    "    if save:\n",
    "        save_filename = os.path.join(image_save_dir, \"trajectories_over_desired_gating_gp_step_{}.pdf\".format(step))\n",
    "        plt.savefig(save_filename, transparent=True)\n",
    "\n",
    "plot_data_over_gating_network_and_save(step=0, epoch=0)\n",
    "plot_trajectories_over_gating_network_and_save(step=0)"
   ]
  },
  {
   "cell_type": "markdown",
   "id": "65faf9ff",
   "metadata": {},
   "source": [
    "## Configure ModeOpt and callbacks"
   ]
  },
  {
   "cell_type": "code",
   "execution_count": 20,
   "id": "f19298ea",
   "metadata": {},
   "outputs": [],
   "source": [
    "# mode_optimiser.dataset = (mode_optimiser.dataset[0][:130, :], mode_optimiser.dataset[1][:130, :])"
   ]
  },
  {
   "cell_type": "code",
   "execution_count": 21,
   "id": "552069d2",
   "metadata": {
    "tags": []
   },
   "outputs": [
    {
     "data": {
      "text/plain": [
       "{'epochs': 10000, 'batch_size': 125, 'validation_split': 0.2}"
      ]
     },
     "execution_count": 21,
     "metadata": {},
     "output_type": "execute_result"
    }
   ],
   "source": [
    "# logging_epoch_freq = 60\n",
    "num_epochs = 10000\n",
    "logging_epoch_freq = math.floor((num_epochs)/5)\n",
    "save_epoch_freq = math.floor((num_epochs)/5)\n",
    "num_steps = 35\n",
    "dataset = initial_dataset\n",
    "# batch_size = 128\n",
    "batch_size = mode_optimiser.dataset[0].shape[0]\n",
    "\n",
    "mode_optimiser.dynamics_fit_kwargs.update({\"epochs\": num_epochs, \"batch_size\": batch_size, \"validation_split\": 0.2})\n",
    "mode_optimiser.dynamics_fit_kwargs"
   ]
  },
  {
   "cell_type": "markdown",
   "id": "e404564b",
   "metadata": {},
   "source": [
    "Callbacks for dynamics learning."
   ]
  },
  {
   "cell_type": "code",
   "execution_count": 22,
   "id": "b5b1ee79",
   "metadata": {
    "tags": []
   },
   "outputs": [
    {
     "name": "stderr",
     "output_type": "stream",
     "text": [
      "2022-04-13 18:08:05.785834: I tensorflow/core/profiler/lib/profiler_session.cc:131] Profiler session initializing.\n",
      "2022-04-13 18:08:05.785855: I tensorflow/core/profiler/lib/profiler_session.cc:146] Profiler session started.\n",
      "2022-04-13 18:08:05.786657: I tensorflow/core/profiler/lib/profiler_session.cc:164] Profiler session tear down.\n"
     ]
    }
   ],
   "source": [
    "class PlottingCallback(tf.keras.callbacks.Callback):\n",
    "    def on_epoch_end(self, epoch, logs=None):\n",
    "        if epoch % logging_epoch_freq == 0:\n",
    "            plot_data_over_gating_network_and_save(step=step, epoch=epoch)\n",
    "\n",
    "class CustomSaver(tf.keras.callbacks.Callback):\n",
    "    def on_epoch_end(self, epoch, logs={}):\n",
    "        if epoch % save_epoch_freq == 0:  # or save after some epoch, each k-th epoch etc.\n",
    "            self.model.save(os.path.join(mode_optimiser.ckpt_dir, \"step_{}_epoch_{}\".format(step, epoch)), save_format=\"tf\")\n",
    "            \n",
    "early_stopping_cb = tf.keras.callbacks.EarlyStopping(\n",
    "    monitor=\"loss\",\n",
    "    min_delta=0,\n",
    "    patience=1000,\n",
    "    verbose=0,\n",
    "    mode=\"auto\",\n",
    "    baseline=None,\n",
    "    restore_best_weights=False,\n",
    ")\n",
    "callbacks = [PlottingCallback(),\n",
    "             CustomSaver(),\n",
    "             early_stopping_cb,\n",
    "#              tf.keras.callbacks.ModelCheckpoint(\n",
    "#                  filepath=os.path.join(save_dir + \"ckpts/ModeOptDynamics\"),\n",
    "#                  monitor=\"loss\",\n",
    "#                  save_format=\"tf\",\n",
    "#                  save_best_only=False,\n",
    "#                  save_freq=500),\n",
    "             tf.keras.callbacks.TensorBoard(log_dir=log_dir)\n",
    "            ]"
   ]
  },
  {
   "cell_type": "code",
   "execution_count": 23,
   "id": "121d466c",
   "metadata": {
    "tags": []
   },
   "outputs": [],
   "source": [
    "mode_optimiser.dynamics(dataset[0]) # call ModeOptDynamics to build it for saving\n",
    "mode_optimiser.dynamics_callbacks = []\n",
    "mode_optimiser.add_dynamics_callbacks(callbacks)"
   ]
  },
  {
   "cell_type": "code",
   "execution_count": 24,
   "id": "ac4cc784",
   "metadata": {},
   "outputs": [],
   "source": [
    "# gpf.utilities.set_trainable(mode_optimiser.dynamics.mosvgpe.gating_network.gp.kernel, False)\n",
    "# gpf.utilities.set_trainable(mode_optimiser.dynamics.mosvgpe.experts_list[desired_mode].gp.kernel, False)"
   ]
  },
  {
   "cell_type": "code",
   "execution_count": 25,
   "id": "947be602",
   "metadata": {
    "tags": []
   },
   "outputs": [
    {
     "ename": "ValueError",
     "evalue": "in user code:\n\n    /Users/aidanscannell/Developer/forked-repos/GPflow/gpflow/optimizers/scipy.py:164 _tf_eval  *\n        loss, grads = _compute_loss_and_gradients(\n    /Users/aidanscannell/Developer/forked-repos/GPflow/gpflow/optimizers/scipy.py:297 _compute_loss_and_gradients  *\n        loss = loss_closure()\n    /var/folders/f4/yffwfgvx2mvg3gshpxwtpld40000gn/T/ipykernel_28441/498085148.py:10 explorative_objective  *\n        h_means, h_vars = conditional_gating(state_means[1:, :], control_means, state_vars[1:, :], control_vars)\n    /var/folders/f4/yffwfgvx2mvg3gshpxwtpld40000gn/T/ipykernel_28441/3986798252.py:20 conditional_gating  *\n        h_mean, h_var = base_conditional(\n    /Users/aidanscannell/Developer/forked-repos/GPflow/gpflow/conditionals/util.py:57 base_conditional  *\n        return base_conditional_with_lm(\n    /Users/aidanscannell/Developer/forked-repos/GPflow/gpflow/conditionals/util.py:128 base_conditional_with_lm  *\n        fvar = tf.broadcast_to(tf.expand_dims(fvar, -2), cov_shape)  # [..., R, N]\n    /Users/aidanscannell/Library/Caches/pypoetry/virtualenvs/modeopt-KAfqa0eY-py3.8/lib/python3.8/site-packages/tensorflow/python/ops/gen_array_ops.py:844 broadcast_to  **\n        _, _, _op, _outputs = _op_def_library._apply_op_helper(\n    /Users/aidanscannell/Library/Caches/pypoetry/virtualenvs/modeopt-KAfqa0eY-py3.8/lib/python3.8/site-packages/tensorflow/python/framework/op_def_library.py:748 _apply_op_helper\n        op = g._create_op_internal(op_type_name, inputs, dtypes=None,\n    /Users/aidanscannell/Library/Caches/pypoetry/virtualenvs/modeopt-KAfqa0eY-py3.8/lib/python3.8/site-packages/tensorflow/python/framework/func_graph.py:599 _create_op_internal\n        return super(FuncGraph, self)._create_op_internal(  # pylint: disable=protected-access\n    /Users/aidanscannell/Library/Caches/pypoetry/virtualenvs/modeopt-KAfqa0eY-py3.8/lib/python3.8/site-packages/tensorflow/python/framework/ops.py:3561 _create_op_internal\n        ret = Operation(\n    /Users/aidanscannell/Library/Caches/pypoetry/virtualenvs/modeopt-KAfqa0eY-py3.8/lib/python3.8/site-packages/tensorflow/python/framework/ops.py:2041 __init__\n        self._c_op = _create_c_op(self._graph, node_def, inputs,\n    /Users/aidanscannell/Library/Caches/pypoetry/virtualenvs/modeopt-KAfqa0eY-py3.8/lib/python3.8/site-packages/tensorflow/python/framework/ops.py:1883 _create_c_op\n        raise ValueError(str(e))\n\n    ValueError: Shape must be at most rank 2 but is rank 3 for '{{node BroadcastTo_21}} = BroadcastTo[T=DT_DOUBLE, Tidx=DT_INT32](ExpandDims_251, concat_170)' with input shapes: [1,1,1], [2].\n",
     "output_type": "error",
     "traceback": [
      "\u001b[0;31m---------------------------------------------------------------------------\u001b[0m",
      "\u001b[0;31mValueError\u001b[0m                                Traceback (most recent call last)",
      "Input \u001b[0;32mIn [25]\u001b[0m, in \u001b[0;36m<module>\u001b[0;34m\u001b[0m\n\u001b[1;32m      1\u001b[0m \u001b[38;5;28;01mfor\u001b[39;00m step \u001b[38;5;129;01min\u001b[39;00m \u001b[38;5;28mrange\u001b[39m(\u001b[38;5;241m1\u001b[39m, num_steps):\n\u001b[0;32m----> 2\u001b[0m     new_dataset \u001b[38;5;241m=\u001b[39m \u001b[43mmode_optimiser\u001b[49m\u001b[38;5;241;43m.\u001b[39;49m\u001b[43mexplore_env\u001b[49m\u001b[43m(\u001b[49m\u001b[43m)\u001b[49m\n\u001b[1;32m      3\u001b[0m     mode_optimiser\u001b[38;5;241m.\u001b[39mupdate_dataset(new_dataset)\n\u001b[1;32m      4\u001b[0m     mode_optimiser\u001b[38;5;241m.\u001b[39mdynamics_fit_kwargs\u001b[38;5;241m.\u001b[39mupdate({\u001b[38;5;124m\"\u001b[39m\u001b[38;5;124mbatch_size\u001b[39m\u001b[38;5;124m\"\u001b[39m: mode_optimiser\u001b[38;5;241m.\u001b[39mdataset[\u001b[38;5;241m0\u001b[39m]\u001b[38;5;241m.\u001b[39mshape[\u001b[38;5;241m0\u001b[39m]})\n",
      "File \u001b[0;32m~/Developer/python-projects/ModeOpt/modeopt/mode_opt.py:179\u001b[0m, in \u001b[0;36mModeOpt.explore_env\u001b[0;34m(self)\u001b[0m\n\u001b[1;32m    177\u001b[0m \u001b[38;5;124;03m\"\"\"Optimise the controller and use it to explore the environment\"\"\"\u001b[39;00m\n\u001b[1;32m    178\u001b[0m \u001b[38;5;28mself\u001b[39m\u001b[38;5;241m.\u001b[39msave()\n\u001b[0;32m--> 179\u001b[0m \u001b[38;5;28;43mself\u001b[39;49m\u001b[38;5;241;43m.\u001b[39;49m\u001b[43mexplorative_controller\u001b[49m\u001b[38;5;241;43m.\u001b[39;49m\u001b[43moptimise\u001b[49m\u001b[43m(\u001b[49m\u001b[38;5;28;43mself\u001b[39;49m\u001b[38;5;241;43m.\u001b[39;49m\u001b[43mexplorative_controller_callback\u001b[49m\u001b[43m)\u001b[49m\n\u001b[1;32m    180\u001b[0m \u001b[38;5;28mself\u001b[39m\u001b[38;5;241m.\u001b[39msave()\n\u001b[1;32m    181\u001b[0m X, Y \u001b[38;5;241m=\u001b[39m [], []\n",
      "File \u001b[0;32m~/Developer/python-projects/ModeOpt/modeopt/controllers/non_feedback/trajectory_optimisation.py:92\u001b[0m, in \u001b[0;36mTrajectoryOptimisationController.optimise\u001b[0;34m(self, callback)\u001b[0m\n\u001b[1;32m     86\u001b[0m     \u001b[38;5;28;01mraise\u001b[39;00m \u001b[38;5;167;01mRuntimeError\u001b[39;00m(\n\u001b[1;32m     87\u001b[0m         \u001b[38;5;124m\"\u001b[39m\u001b[38;5;124mPlease set `objective_fn` before using TrajectoryOptimisationController\u001b[39m\u001b[38;5;124m\"\u001b[39m\n\u001b[1;32m     88\u001b[0m     )\n\u001b[1;32m     89\u001b[0m objective_fn_closure \u001b[38;5;241m=\u001b[39m partial(\n\u001b[1;32m     90\u001b[0m     \u001b[38;5;28mself\u001b[39m\u001b[38;5;241m.\u001b[39mobjective_fn, initial_solution\u001b[38;5;241m=\u001b[39m\u001b[38;5;28mself\u001b[39m\u001b[38;5;241m.\u001b[39mprevious_solution\n\u001b[1;32m     91\u001b[0m )\n\u001b[0;32m---> 92\u001b[0m optimisation_result \u001b[38;5;241m=\u001b[39m \u001b[38;5;28;43mself\u001b[39;49m\u001b[38;5;241;43m.\u001b[39;49m\u001b[43moptimiser\u001b[49m\u001b[38;5;241;43m.\u001b[39;49m\u001b[43mminimize\u001b[49m\u001b[43m(\u001b[49m\n\u001b[1;32m     93\u001b[0m \u001b[43m    \u001b[49m\u001b[43mobjective_fn_closure\u001b[49m\u001b[43m,\u001b[49m\n\u001b[1;32m     94\u001b[0m \u001b[43m    \u001b[49m\u001b[43mvariables\u001b[49m\u001b[38;5;241;43m=\u001b[39;49m\u001b[38;5;28;43mself\u001b[39;49m\u001b[38;5;241;43m.\u001b[39;49m\u001b[43mprevious_solution\u001b[49m\u001b[38;5;241;43m.\u001b[39;49m\u001b[43mtrainable_variables\u001b[49m\u001b[43m,\u001b[49m\n\u001b[1;32m     95\u001b[0m \u001b[43m    \u001b[49m\u001b[43mmethod\u001b[49m\u001b[38;5;241;43m=\u001b[39;49m\u001b[38;5;28;43mself\u001b[39;49m\u001b[38;5;241;43m.\u001b[39;49m\u001b[43mmethod\u001b[49m\u001b[43m,\u001b[49m\n\u001b[1;32m     96\u001b[0m \u001b[43m    \u001b[49m\u001b[43mconstraints\u001b[49m\u001b[38;5;241;43m=\u001b[39;49m\u001b[38;5;28;43mself\u001b[39;49m\u001b[38;5;241;43m.\u001b[39;49m\u001b[43mconstraints\u001b[49m\u001b[43m,\u001b[49m\n\u001b[1;32m     97\u001b[0m \u001b[43m    \u001b[49m\u001b[43mnonlinear_constraint_closure\u001b[49m\u001b[38;5;241;43m=\u001b[39;49m\u001b[38;5;28;43mself\u001b[39;49m\u001b[38;5;241;43m.\u001b[39;49m\u001b[43mnonlinear_constraint_closure\u001b[49m\u001b[43m,\u001b[49m\n\u001b[1;32m     98\u001b[0m \u001b[43m    \u001b[49m\u001b[43mnonlinear_constraint_kwargs\u001b[49m\u001b[38;5;241;43m=\u001b[39;49m\u001b[38;5;28;43mself\u001b[39;49m\u001b[38;5;241;43m.\u001b[39;49m\u001b[43mnonlinear_constraint_kwargs\u001b[49m\u001b[43m,\u001b[49m\n\u001b[1;32m     99\u001b[0m \u001b[43m    \u001b[49m\u001b[43mstep_callback\u001b[49m\u001b[38;5;241;43m=\u001b[39;49m\u001b[43mcallback\u001b[49m\u001b[43m,\u001b[49m\n\u001b[1;32m    100\u001b[0m \u001b[43m    \u001b[49m\u001b[38;5;66;43;03m# compile=False,\u001b[39;49;00m\n\u001b[1;32m    101\u001b[0m \u001b[43m    \u001b[49m\u001b[38;5;28;43mcompile\u001b[39;49m\u001b[38;5;241;43m=\u001b[39;49m\u001b[38;5;28;43;01mTrue\u001b[39;49;00m\u001b[43m,\u001b[49m\n\u001b[1;32m    102\u001b[0m \u001b[43m    \u001b[49m\u001b[43moptions\u001b[49m\u001b[38;5;241;43m=\u001b[39;49m\u001b[43m{\u001b[49m\u001b[38;5;124;43m\"\u001b[39;49m\u001b[38;5;124;43mmaxiter\u001b[39;49m\u001b[38;5;124;43m\"\u001b[39;49m\u001b[43m:\u001b[49m\u001b[43m \u001b[49m\u001b[38;5;28;43mself\u001b[39;49m\u001b[38;5;241;43m.\u001b[39;49m\u001b[43mmax_iterations\u001b[49m\u001b[43m}\u001b[49m\u001b[43m,\u001b[49m\n\u001b[1;32m    103\u001b[0m \u001b[43m\u001b[49m\u001b[43m)\u001b[49m\n\u001b[1;32m    105\u001b[0m \u001b[38;5;66;03m# if self.keep_last_solution:\u001b[39;00m\n\u001b[1;32m    106\u001b[0m \u001b[38;5;66;03m#     self.previous_solution = best_solution.roll(-self.replan_freq, dims=0)\u001b[39;00m\n\u001b[1;32m    107\u001b[0m \u001b[38;5;66;03m#     # Note that initial_solution[i] is the same for all values of [i],\u001b[39;00m\n\u001b[1;32m    108\u001b[0m \u001b[38;5;66;03m#     # so just pick i = 0\u001b[39;00m\n\u001b[1;32m    109\u001b[0m \u001b[38;5;66;03m#     self.previous_solution[-self.replan_freq :] = self.initial_solution[0]\u001b[39;00m\n\u001b[1;32m    110\u001b[0m \u001b[38;5;28mprint\u001b[39m(\u001b[38;5;124m\"\u001b[39m\u001b[38;5;124mOptimisation result:\u001b[39m\u001b[38;5;124m\"\u001b[39m)\n",
      "File \u001b[0;32m~/Developer/forked-repos/GPflow/gpflow/optimizers/scipy.py:133\u001b[0m, in \u001b[0;36mScipy.minimize\u001b[0;34m(self, closure, variables, method, step_callback, nonlinear_constraint_closure, nonlinear_constraint_kwargs, compile, allow_unused_variables, **scipy_kwargs)\u001b[0m\n\u001b[1;32m    130\u001b[0m     scipy_kwargs\u001b[38;5;241m.\u001b[39mupdate(\u001b[38;5;28mdict\u001b[39m(callback\u001b[38;5;241m=\u001b[39mcallback))\n\u001b[1;32m    132\u001b[0m \u001b[38;5;66;03m# TODO if scipy_kwargs has constraints then append constraints to them\u001b[39;00m\n\u001b[0;32m--> 133\u001b[0m \u001b[38;5;28;01mreturn\u001b[39;00m \u001b[43mscipy\u001b[49m\u001b[38;5;241;43m.\u001b[39;49m\u001b[43moptimize\u001b[49m\u001b[38;5;241;43m.\u001b[39;49m\u001b[43mminimize\u001b[49m\u001b[43m(\u001b[49m\n\u001b[1;32m    134\u001b[0m \u001b[43m    \u001b[49m\u001b[43mfunc\u001b[49m\u001b[43m,\u001b[49m\n\u001b[1;32m    135\u001b[0m \u001b[43m    \u001b[49m\u001b[43minitial_params\u001b[49m\u001b[43m,\u001b[49m\n\u001b[1;32m    136\u001b[0m \u001b[43m    \u001b[49m\u001b[43mjac\u001b[49m\u001b[38;5;241;43m=\u001b[39;49m\u001b[38;5;28;43;01mTrue\u001b[39;49;00m\u001b[43m,\u001b[49m\n\u001b[1;32m    137\u001b[0m \u001b[43m    \u001b[49m\u001b[43mmethod\u001b[49m\u001b[38;5;241;43m=\u001b[39;49m\u001b[43mmethod\u001b[49m\u001b[43m,\u001b[49m\n\u001b[1;32m    138\u001b[0m \u001b[43m    \u001b[49m\u001b[38;5;66;43;03m# constraints=constraints,\u001b[39;49;00m\n\u001b[1;32m    139\u001b[0m \u001b[43m    \u001b[49m\u001b[38;5;241;43m*\u001b[39;49m\u001b[38;5;241;43m*\u001b[39;49m\u001b[43mscipy_kwargs\u001b[49m\u001b[43m,\u001b[49m\n\u001b[1;32m    140\u001b[0m \u001b[43m\u001b[49m\u001b[43m)\u001b[49m\n",
      "File \u001b[0;32m~/Library/Caches/pypoetry/virtualenvs/modeopt-KAfqa0eY-py3.8/lib/python3.8/site-packages/scipy/optimize/_minimize.py:627\u001b[0m, in \u001b[0;36mminimize\u001b[0;34m(fun, x0, args, method, jac, hess, hessp, bounds, constraints, tol, callback, options)\u001b[0m\n\u001b[1;32m    625\u001b[0m     \u001b[38;5;28;01mreturn\u001b[39;00m _minimize_cobyla(fun, x0, args, constraints, \u001b[38;5;241m*\u001b[39m\u001b[38;5;241m*\u001b[39moptions)\n\u001b[1;32m    626\u001b[0m \u001b[38;5;28;01melif\u001b[39;00m meth \u001b[38;5;241m==\u001b[39m \u001b[38;5;124m'\u001b[39m\u001b[38;5;124mslsqp\u001b[39m\u001b[38;5;124m'\u001b[39m:\n\u001b[0;32m--> 627\u001b[0m     \u001b[38;5;28;01mreturn\u001b[39;00m \u001b[43m_minimize_slsqp\u001b[49m\u001b[43m(\u001b[49m\u001b[43mfun\u001b[49m\u001b[43m,\u001b[49m\u001b[43m \u001b[49m\u001b[43mx0\u001b[49m\u001b[43m,\u001b[49m\u001b[43m \u001b[49m\u001b[43margs\u001b[49m\u001b[43m,\u001b[49m\u001b[43m \u001b[49m\u001b[43mjac\u001b[49m\u001b[43m,\u001b[49m\u001b[43m \u001b[49m\u001b[43mbounds\u001b[49m\u001b[43m,\u001b[49m\n\u001b[1;32m    628\u001b[0m \u001b[43m                           \u001b[49m\u001b[43mconstraints\u001b[49m\u001b[43m,\u001b[49m\u001b[43m \u001b[49m\u001b[43mcallback\u001b[49m\u001b[38;5;241;43m=\u001b[39;49m\u001b[43mcallback\u001b[49m\u001b[43m,\u001b[49m\u001b[43m \u001b[49m\u001b[38;5;241;43m*\u001b[39;49m\u001b[38;5;241;43m*\u001b[39;49m\u001b[43moptions\u001b[49m\u001b[43m)\u001b[49m\n\u001b[1;32m    629\u001b[0m \u001b[38;5;28;01melif\u001b[39;00m meth \u001b[38;5;241m==\u001b[39m \u001b[38;5;124m'\u001b[39m\u001b[38;5;124mtrust-constr\u001b[39m\u001b[38;5;124m'\u001b[39m:\n\u001b[1;32m    630\u001b[0m     \u001b[38;5;28;01mreturn\u001b[39;00m _minimize_trustregion_constr(fun, x0, args, jac, hess, hessp,\n\u001b[1;32m    631\u001b[0m                                         bounds, constraints,\n\u001b[1;32m    632\u001b[0m                                         callback\u001b[38;5;241m=\u001b[39mcallback, \u001b[38;5;241m*\u001b[39m\u001b[38;5;241m*\u001b[39moptions)\n",
      "File \u001b[0;32m~/Library/Caches/pypoetry/virtualenvs/modeopt-KAfqa0eY-py3.8/lib/python3.8/site-packages/scipy/optimize/slsqp.py:375\u001b[0m, in \u001b[0;36m_minimize_slsqp\u001b[0;34m(func, x0, args, jac, bounds, constraints, maxiter, ftol, iprint, disp, eps, callback, finite_diff_rel_step, **unknown_options)\u001b[0m\n\u001b[1;32m    372\u001b[0m     xu[infbnd[:, \u001b[38;5;241m1\u001b[39m]] \u001b[38;5;241m=\u001b[39m np\u001b[38;5;241m.\u001b[39mnan\n\u001b[1;32m    374\u001b[0m \u001b[38;5;66;03m# ScalarFunction provides function and gradient evaluation\u001b[39;00m\n\u001b[0;32m--> 375\u001b[0m sf \u001b[38;5;241m=\u001b[39m \u001b[43m_prepare_scalar_function\u001b[49m\u001b[43m(\u001b[49m\u001b[43mfunc\u001b[49m\u001b[43m,\u001b[49m\u001b[43m \u001b[49m\u001b[43mx\u001b[49m\u001b[43m,\u001b[49m\u001b[43m \u001b[49m\u001b[43mjac\u001b[49m\u001b[38;5;241;43m=\u001b[39;49m\u001b[43mjac\u001b[49m\u001b[43m,\u001b[49m\u001b[43m \u001b[49m\u001b[43margs\u001b[49m\u001b[38;5;241;43m=\u001b[39;49m\u001b[43margs\u001b[49m\u001b[43m,\u001b[49m\u001b[43m \u001b[49m\u001b[43mepsilon\u001b[49m\u001b[38;5;241;43m=\u001b[39;49m\u001b[43meps\u001b[49m\u001b[43m,\u001b[49m\n\u001b[1;32m    376\u001b[0m \u001b[43m                              \u001b[49m\u001b[43mfinite_diff_rel_step\u001b[49m\u001b[38;5;241;43m=\u001b[39;49m\u001b[43mfinite_diff_rel_step\u001b[49m\u001b[43m,\u001b[49m\n\u001b[1;32m    377\u001b[0m \u001b[43m                              \u001b[49m\u001b[43mbounds\u001b[49m\u001b[38;5;241;43m=\u001b[39;49m\u001b[43mnew_bounds\u001b[49m\u001b[43m)\u001b[49m\n\u001b[1;32m    378\u001b[0m \u001b[38;5;66;03m# gh11403 SLSQP sometimes exceeds bounds by 1 or 2 ULP, make sure this\u001b[39;00m\n\u001b[1;32m    379\u001b[0m \u001b[38;5;66;03m# doesn't get sent to the func/grad evaluator.\u001b[39;00m\n\u001b[1;32m    380\u001b[0m wrapped_fun \u001b[38;5;241m=\u001b[39m _clip_x_for_func(sf\u001b[38;5;241m.\u001b[39mfun, new_bounds)\n",
      "File \u001b[0;32m~/Library/Caches/pypoetry/virtualenvs/modeopt-KAfqa0eY-py3.8/lib/python3.8/site-packages/scipy/optimize/optimize.py:261\u001b[0m, in \u001b[0;36m_prepare_scalar_function\u001b[0;34m(fun, x0, jac, args, bounds, epsilon, finite_diff_rel_step, hess)\u001b[0m\n\u001b[1;32m    257\u001b[0m     bounds \u001b[38;5;241m=\u001b[39m (\u001b[38;5;241m-\u001b[39mnp\u001b[38;5;241m.\u001b[39minf, np\u001b[38;5;241m.\u001b[39minf)\n\u001b[1;32m    259\u001b[0m \u001b[38;5;66;03m# ScalarFunction caches. Reuse of fun(x) during grad\u001b[39;00m\n\u001b[1;32m    260\u001b[0m \u001b[38;5;66;03m# calculation reduces overall function evaluations.\u001b[39;00m\n\u001b[0;32m--> 261\u001b[0m sf \u001b[38;5;241m=\u001b[39m \u001b[43mScalarFunction\u001b[49m\u001b[43m(\u001b[49m\u001b[43mfun\u001b[49m\u001b[43m,\u001b[49m\u001b[43m \u001b[49m\u001b[43mx0\u001b[49m\u001b[43m,\u001b[49m\u001b[43m \u001b[49m\u001b[43margs\u001b[49m\u001b[43m,\u001b[49m\u001b[43m \u001b[49m\u001b[43mgrad\u001b[49m\u001b[43m,\u001b[49m\u001b[43m \u001b[49m\u001b[43mhess\u001b[49m\u001b[43m,\u001b[49m\n\u001b[1;32m    262\u001b[0m \u001b[43m                    \u001b[49m\u001b[43mfinite_diff_rel_step\u001b[49m\u001b[43m,\u001b[49m\u001b[43m \u001b[49m\u001b[43mbounds\u001b[49m\u001b[43m,\u001b[49m\u001b[43m \u001b[49m\u001b[43mepsilon\u001b[49m\u001b[38;5;241;43m=\u001b[39;49m\u001b[43mepsilon\u001b[49m\u001b[43m)\u001b[49m\n\u001b[1;32m    264\u001b[0m \u001b[38;5;28;01mreturn\u001b[39;00m sf\n",
      "File \u001b[0;32m~/Library/Caches/pypoetry/virtualenvs/modeopt-KAfqa0eY-py3.8/lib/python3.8/site-packages/scipy/optimize/_differentiable_functions.py:136\u001b[0m, in \u001b[0;36mScalarFunction.__init__\u001b[0;34m(self, fun, x0, args, grad, hess, finite_diff_rel_step, finite_diff_bounds, epsilon)\u001b[0m\n\u001b[1;32m    133\u001b[0m     \u001b[38;5;28mself\u001b[39m\u001b[38;5;241m.\u001b[39mf \u001b[38;5;241m=\u001b[39m fun_wrapped(\u001b[38;5;28mself\u001b[39m\u001b[38;5;241m.\u001b[39mx)\n\u001b[1;32m    135\u001b[0m \u001b[38;5;28mself\u001b[39m\u001b[38;5;241m.\u001b[39m_update_fun_impl \u001b[38;5;241m=\u001b[39m update_fun\n\u001b[0;32m--> 136\u001b[0m \u001b[38;5;28;43mself\u001b[39;49m\u001b[38;5;241;43m.\u001b[39;49m\u001b[43m_update_fun\u001b[49m\u001b[43m(\u001b[49m\u001b[43m)\u001b[49m\n\u001b[1;32m    138\u001b[0m \u001b[38;5;66;03m# Gradient evaluation\u001b[39;00m\n\u001b[1;32m    139\u001b[0m \u001b[38;5;28;01mif\u001b[39;00m callable(grad):\n",
      "File \u001b[0;32m~/Library/Caches/pypoetry/virtualenvs/modeopt-KAfqa0eY-py3.8/lib/python3.8/site-packages/scipy/optimize/_differentiable_functions.py:226\u001b[0m, in \u001b[0;36mScalarFunction._update_fun\u001b[0;34m(self)\u001b[0m\n\u001b[1;32m    224\u001b[0m \u001b[38;5;28;01mdef\u001b[39;00m \u001b[38;5;21m_update_fun\u001b[39m(\u001b[38;5;28mself\u001b[39m):\n\u001b[1;32m    225\u001b[0m     \u001b[38;5;28;01mif\u001b[39;00m \u001b[38;5;129;01mnot\u001b[39;00m \u001b[38;5;28mself\u001b[39m\u001b[38;5;241m.\u001b[39mf_updated:\n\u001b[0;32m--> 226\u001b[0m         \u001b[38;5;28;43mself\u001b[39;49m\u001b[38;5;241;43m.\u001b[39;49m\u001b[43m_update_fun_impl\u001b[49m\u001b[43m(\u001b[49m\u001b[43m)\u001b[49m\n\u001b[1;32m    227\u001b[0m         \u001b[38;5;28mself\u001b[39m\u001b[38;5;241m.\u001b[39mf_updated \u001b[38;5;241m=\u001b[39m \u001b[38;5;28;01mTrue\u001b[39;00m\n",
      "File \u001b[0;32m~/Library/Caches/pypoetry/virtualenvs/modeopt-KAfqa0eY-py3.8/lib/python3.8/site-packages/scipy/optimize/_differentiable_functions.py:133\u001b[0m, in \u001b[0;36mScalarFunction.__init__.<locals>.update_fun\u001b[0;34m()\u001b[0m\n\u001b[1;32m    132\u001b[0m \u001b[38;5;28;01mdef\u001b[39;00m \u001b[38;5;21mupdate_fun\u001b[39m():\n\u001b[0;32m--> 133\u001b[0m     \u001b[38;5;28mself\u001b[39m\u001b[38;5;241m.\u001b[39mf \u001b[38;5;241m=\u001b[39m \u001b[43mfun_wrapped\u001b[49m\u001b[43m(\u001b[49m\u001b[38;5;28;43mself\u001b[39;49m\u001b[38;5;241;43m.\u001b[39;49m\u001b[43mx\u001b[49m\u001b[43m)\u001b[49m\n",
      "File \u001b[0;32m~/Library/Caches/pypoetry/virtualenvs/modeopt-KAfqa0eY-py3.8/lib/python3.8/site-packages/scipy/optimize/_differentiable_functions.py:130\u001b[0m, in \u001b[0;36mScalarFunction.__init__.<locals>.fun_wrapped\u001b[0;34m(x)\u001b[0m\n\u001b[1;32m    128\u001b[0m \u001b[38;5;28;01mdef\u001b[39;00m \u001b[38;5;21mfun_wrapped\u001b[39m(x):\n\u001b[1;32m    129\u001b[0m     \u001b[38;5;28mself\u001b[39m\u001b[38;5;241m.\u001b[39mnfev \u001b[38;5;241m+\u001b[39m\u001b[38;5;241m=\u001b[39m \u001b[38;5;241m1\u001b[39m\n\u001b[0;32m--> 130\u001b[0m     \u001b[38;5;28;01mreturn\u001b[39;00m \u001b[43mfun\u001b[49m\u001b[43m(\u001b[49m\u001b[43mx\u001b[49m\u001b[43m,\u001b[49m\u001b[43m \u001b[49m\u001b[38;5;241;43m*\u001b[39;49m\u001b[43margs\u001b[49m\u001b[43m)\u001b[49m\n",
      "File \u001b[0;32m~/Library/Caches/pypoetry/virtualenvs/modeopt-KAfqa0eY-py3.8/lib/python3.8/site-packages/scipy/optimize/optimize.py:74\u001b[0m, in \u001b[0;36mMemoizeJac.__call__\u001b[0;34m(self, x, *args)\u001b[0m\n\u001b[1;32m     72\u001b[0m \u001b[38;5;28;01mdef\u001b[39;00m \u001b[38;5;21m__call__\u001b[39m(\u001b[38;5;28mself\u001b[39m, x, \u001b[38;5;241m*\u001b[39margs):\n\u001b[1;32m     73\u001b[0m     \u001b[38;5;124;03m\"\"\" returns the the function value \"\"\"\u001b[39;00m\n\u001b[0;32m---> 74\u001b[0m     \u001b[38;5;28;43mself\u001b[39;49m\u001b[38;5;241;43m.\u001b[39;49m\u001b[43m_compute_if_needed\u001b[49m\u001b[43m(\u001b[49m\u001b[43mx\u001b[49m\u001b[43m,\u001b[49m\u001b[43m \u001b[49m\u001b[38;5;241;43m*\u001b[39;49m\u001b[43margs\u001b[49m\u001b[43m)\u001b[49m\n\u001b[1;32m     75\u001b[0m     \u001b[38;5;28;01mreturn\u001b[39;00m \u001b[38;5;28mself\u001b[39m\u001b[38;5;241m.\u001b[39m_value\n",
      "File \u001b[0;32m~/Library/Caches/pypoetry/virtualenvs/modeopt-KAfqa0eY-py3.8/lib/python3.8/site-packages/scipy/optimize/optimize.py:68\u001b[0m, in \u001b[0;36mMemoizeJac._compute_if_needed\u001b[0;34m(self, x, *args)\u001b[0m\n\u001b[1;32m     66\u001b[0m \u001b[38;5;28;01mif\u001b[39;00m \u001b[38;5;129;01mnot\u001b[39;00m np\u001b[38;5;241m.\u001b[39mall(x \u001b[38;5;241m==\u001b[39m \u001b[38;5;28mself\u001b[39m\u001b[38;5;241m.\u001b[39mx) \u001b[38;5;129;01mor\u001b[39;00m \u001b[38;5;28mself\u001b[39m\u001b[38;5;241m.\u001b[39m_value \u001b[38;5;129;01mis\u001b[39;00m \u001b[38;5;28;01mNone\u001b[39;00m \u001b[38;5;129;01mor\u001b[39;00m \u001b[38;5;28mself\u001b[39m\u001b[38;5;241m.\u001b[39mjac \u001b[38;5;129;01mis\u001b[39;00m \u001b[38;5;28;01mNone\u001b[39;00m:\n\u001b[1;32m     67\u001b[0m     \u001b[38;5;28mself\u001b[39m\u001b[38;5;241m.\u001b[39mx \u001b[38;5;241m=\u001b[39m np\u001b[38;5;241m.\u001b[39masarray(x)\u001b[38;5;241m.\u001b[39mcopy()\n\u001b[0;32m---> 68\u001b[0m     fg \u001b[38;5;241m=\u001b[39m \u001b[38;5;28;43mself\u001b[39;49m\u001b[38;5;241;43m.\u001b[39;49m\u001b[43mfun\u001b[49m\u001b[43m(\u001b[49m\u001b[43mx\u001b[49m\u001b[43m,\u001b[49m\u001b[43m \u001b[49m\u001b[38;5;241;43m*\u001b[39;49m\u001b[43margs\u001b[49m\u001b[43m)\u001b[49m\n\u001b[1;32m     69\u001b[0m     \u001b[38;5;28mself\u001b[39m\u001b[38;5;241m.\u001b[39mjac \u001b[38;5;241m=\u001b[39m fg[\u001b[38;5;241m1\u001b[39m]\n\u001b[1;32m     70\u001b[0m     \u001b[38;5;28mself\u001b[39m\u001b[38;5;241m.\u001b[39m_value \u001b[38;5;241m=\u001b[39m fg[\u001b[38;5;241m0\u001b[39m]\n",
      "File \u001b[0;32m~/Developer/forked-repos/GPflow/gpflow/optimizers/scipy.py:182\u001b[0m, in \u001b[0;36mScipy.eval_func.<locals>._eval\u001b[0;34m(x)\u001b[0m\n\u001b[1;32m    181\u001b[0m \u001b[38;5;28;01mdef\u001b[39;00m \u001b[38;5;21m_eval\u001b[39m(x: np\u001b[38;5;241m.\u001b[39mndarray) \u001b[38;5;241m-\u001b[39m\u001b[38;5;241m>\u001b[39m Tuple[np\u001b[38;5;241m.\u001b[39mndarray, np\u001b[38;5;241m.\u001b[39mndarray]:\n\u001b[0;32m--> 182\u001b[0m     loss, grad \u001b[38;5;241m=\u001b[39m \u001b[43m_tf_eval\u001b[49m\u001b[43m(\u001b[49m\u001b[43mtf\u001b[49m\u001b[38;5;241;43m.\u001b[39;49m\u001b[43mconvert_to_tensor\u001b[49m\u001b[43m(\u001b[49m\u001b[43mx\u001b[49m\u001b[43m)\u001b[49m\u001b[43m)\u001b[49m\n\u001b[1;32m    183\u001b[0m     \u001b[38;5;28;01mreturn\u001b[39;00m loss\u001b[38;5;241m.\u001b[39mnumpy()\u001b[38;5;241m.\u001b[39mastype(np\u001b[38;5;241m.\u001b[39mfloat64), grad\u001b[38;5;241m.\u001b[39mnumpy()\u001b[38;5;241m.\u001b[39mastype(np\u001b[38;5;241m.\u001b[39mfloat64)\n",
      "File \u001b[0;32m~/Library/Caches/pypoetry/virtualenvs/modeopt-KAfqa0eY-py3.8/lib/python3.8/site-packages/tensorflow/python/eager/def_function.py:885\u001b[0m, in \u001b[0;36mFunction.__call__\u001b[0;34m(self, *args, **kwds)\u001b[0m\n\u001b[1;32m    882\u001b[0m compiler \u001b[38;5;241m=\u001b[39m \u001b[38;5;124m\"\u001b[39m\u001b[38;5;124mxla\u001b[39m\u001b[38;5;124m\"\u001b[39m \u001b[38;5;28;01mif\u001b[39;00m \u001b[38;5;28mself\u001b[39m\u001b[38;5;241m.\u001b[39m_jit_compile \u001b[38;5;28;01melse\u001b[39;00m \u001b[38;5;124m\"\u001b[39m\u001b[38;5;124mnonXla\u001b[39m\u001b[38;5;124m\"\u001b[39m\n\u001b[1;32m    884\u001b[0m \u001b[38;5;28;01mwith\u001b[39;00m OptionalXlaContext(\u001b[38;5;28mself\u001b[39m\u001b[38;5;241m.\u001b[39m_jit_compile):\n\u001b[0;32m--> 885\u001b[0m   result \u001b[38;5;241m=\u001b[39m \u001b[38;5;28;43mself\u001b[39;49m\u001b[38;5;241;43m.\u001b[39;49m\u001b[43m_call\u001b[49m\u001b[43m(\u001b[49m\u001b[38;5;241;43m*\u001b[39;49m\u001b[43margs\u001b[49m\u001b[43m,\u001b[49m\u001b[43m \u001b[49m\u001b[38;5;241;43m*\u001b[39;49m\u001b[38;5;241;43m*\u001b[39;49m\u001b[43mkwds\u001b[49m\u001b[43m)\u001b[49m\n\u001b[1;32m    887\u001b[0m new_tracing_count \u001b[38;5;241m=\u001b[39m \u001b[38;5;28mself\u001b[39m\u001b[38;5;241m.\u001b[39mexperimental_get_tracing_count()\n\u001b[1;32m    888\u001b[0m without_tracing \u001b[38;5;241m=\u001b[39m (tracing_count \u001b[38;5;241m==\u001b[39m new_tracing_count)\n",
      "File \u001b[0;32m~/Library/Caches/pypoetry/virtualenvs/modeopt-KAfqa0eY-py3.8/lib/python3.8/site-packages/tensorflow/python/eager/def_function.py:933\u001b[0m, in \u001b[0;36mFunction._call\u001b[0;34m(self, *args, **kwds)\u001b[0m\n\u001b[1;32m    930\u001b[0m \u001b[38;5;28;01mtry\u001b[39;00m:\n\u001b[1;32m    931\u001b[0m   \u001b[38;5;66;03m# This is the first call of __call__, so we have to initialize.\u001b[39;00m\n\u001b[1;32m    932\u001b[0m   initializers \u001b[38;5;241m=\u001b[39m []\n\u001b[0;32m--> 933\u001b[0m   \u001b[38;5;28;43mself\u001b[39;49m\u001b[38;5;241;43m.\u001b[39;49m\u001b[43m_initialize\u001b[49m\u001b[43m(\u001b[49m\u001b[43margs\u001b[49m\u001b[43m,\u001b[49m\u001b[43m \u001b[49m\u001b[43mkwds\u001b[49m\u001b[43m,\u001b[49m\u001b[43m \u001b[49m\u001b[43madd_initializers_to\u001b[49m\u001b[38;5;241;43m=\u001b[39;49m\u001b[43minitializers\u001b[49m\u001b[43m)\u001b[49m\n\u001b[1;32m    934\u001b[0m \u001b[38;5;28;01mfinally\u001b[39;00m:\n\u001b[1;32m    935\u001b[0m   \u001b[38;5;66;03m# At this point we know that the initialization is complete (or less\u001b[39;00m\n\u001b[1;32m    936\u001b[0m   \u001b[38;5;66;03m# interestingly an exception was raised) so we no longer need a lock.\u001b[39;00m\n\u001b[1;32m    937\u001b[0m   \u001b[38;5;28mself\u001b[39m\u001b[38;5;241m.\u001b[39m_lock\u001b[38;5;241m.\u001b[39mrelease()\n",
      "File \u001b[0;32m~/Library/Caches/pypoetry/virtualenvs/modeopt-KAfqa0eY-py3.8/lib/python3.8/site-packages/tensorflow/python/eager/def_function.py:759\u001b[0m, in \u001b[0;36mFunction._initialize\u001b[0;34m(self, args, kwds, add_initializers_to)\u001b[0m\n\u001b[1;32m    756\u001b[0m \u001b[38;5;28mself\u001b[39m\u001b[38;5;241m.\u001b[39m_lifted_initializer_graph \u001b[38;5;241m=\u001b[39m lifted_initializer_graph\n\u001b[1;32m    757\u001b[0m \u001b[38;5;28mself\u001b[39m\u001b[38;5;241m.\u001b[39m_graph_deleter \u001b[38;5;241m=\u001b[39m FunctionDeleter(\u001b[38;5;28mself\u001b[39m\u001b[38;5;241m.\u001b[39m_lifted_initializer_graph)\n\u001b[1;32m    758\u001b[0m \u001b[38;5;28mself\u001b[39m\u001b[38;5;241m.\u001b[39m_concrete_stateful_fn \u001b[38;5;241m=\u001b[39m (\n\u001b[0;32m--> 759\u001b[0m     \u001b[38;5;28;43mself\u001b[39;49m\u001b[38;5;241;43m.\u001b[39;49m\u001b[43m_stateful_fn\u001b[49m\u001b[38;5;241;43m.\u001b[39;49m\u001b[43m_get_concrete_function_internal_garbage_collected\u001b[49m\u001b[43m(\u001b[49m\u001b[43m  \u001b[49m\u001b[38;5;66;43;03m# pylint: disable=protected-access\u001b[39;49;00m\n\u001b[1;32m    760\u001b[0m \u001b[43m        \u001b[49m\u001b[38;5;241;43m*\u001b[39;49m\u001b[43margs\u001b[49m\u001b[43m,\u001b[49m\u001b[43m \u001b[49m\u001b[38;5;241;43m*\u001b[39;49m\u001b[38;5;241;43m*\u001b[39;49m\u001b[43mkwds\u001b[49m\u001b[43m)\u001b[49m)\n\u001b[1;32m    762\u001b[0m \u001b[38;5;28;01mdef\u001b[39;00m \u001b[38;5;21minvalid_creator_scope\u001b[39m(\u001b[38;5;241m*\u001b[39munused_args, \u001b[38;5;241m*\u001b[39m\u001b[38;5;241m*\u001b[39munused_kwds):\n\u001b[1;32m    763\u001b[0m   \u001b[38;5;124;03m\"\"\"Disables variable creation.\"\"\"\u001b[39;00m\n",
      "File \u001b[0;32m~/Library/Caches/pypoetry/virtualenvs/modeopt-KAfqa0eY-py3.8/lib/python3.8/site-packages/tensorflow/python/eager/function.py:3066\u001b[0m, in \u001b[0;36mFunction._get_concrete_function_internal_garbage_collected\u001b[0;34m(self, *args, **kwargs)\u001b[0m\n\u001b[1;32m   3064\u001b[0m   args, kwargs \u001b[38;5;241m=\u001b[39m \u001b[38;5;28;01mNone\u001b[39;00m, \u001b[38;5;28;01mNone\u001b[39;00m\n\u001b[1;32m   3065\u001b[0m \u001b[38;5;28;01mwith\u001b[39;00m \u001b[38;5;28mself\u001b[39m\u001b[38;5;241m.\u001b[39m_lock:\n\u001b[0;32m-> 3066\u001b[0m   graph_function, _ \u001b[38;5;241m=\u001b[39m \u001b[38;5;28;43mself\u001b[39;49m\u001b[38;5;241;43m.\u001b[39;49m\u001b[43m_maybe_define_function\u001b[49m\u001b[43m(\u001b[49m\u001b[43margs\u001b[49m\u001b[43m,\u001b[49m\u001b[43m \u001b[49m\u001b[43mkwargs\u001b[49m\u001b[43m)\u001b[49m\n\u001b[1;32m   3067\u001b[0m \u001b[38;5;28;01mreturn\u001b[39;00m graph_function\n",
      "File \u001b[0;32m~/Library/Caches/pypoetry/virtualenvs/modeopt-KAfqa0eY-py3.8/lib/python3.8/site-packages/tensorflow/python/eager/function.py:3463\u001b[0m, in \u001b[0;36mFunction._maybe_define_function\u001b[0;34m(self, args, kwargs)\u001b[0m\n\u001b[1;32m   3459\u001b[0m   \u001b[38;5;28;01mreturn\u001b[39;00m \u001b[38;5;28mself\u001b[39m\u001b[38;5;241m.\u001b[39m_define_function_with_shape_relaxation(\n\u001b[1;32m   3460\u001b[0m       args, kwargs, flat_args, filtered_flat_args, cache_key_context)\n\u001b[1;32m   3462\u001b[0m \u001b[38;5;28mself\u001b[39m\u001b[38;5;241m.\u001b[39m_function_cache\u001b[38;5;241m.\u001b[39mmissed\u001b[38;5;241m.\u001b[39madd(call_context_key)\n\u001b[0;32m-> 3463\u001b[0m graph_function \u001b[38;5;241m=\u001b[39m \u001b[38;5;28;43mself\u001b[39;49m\u001b[38;5;241;43m.\u001b[39;49m\u001b[43m_create_graph_function\u001b[49m\u001b[43m(\u001b[49m\u001b[43margs\u001b[49m\u001b[43m,\u001b[49m\u001b[43m \u001b[49m\u001b[43mkwargs\u001b[49m\u001b[43m)\u001b[49m\n\u001b[1;32m   3464\u001b[0m \u001b[38;5;28mself\u001b[39m\u001b[38;5;241m.\u001b[39m_function_cache\u001b[38;5;241m.\u001b[39mprimary[cache_key] \u001b[38;5;241m=\u001b[39m graph_function\n\u001b[1;32m   3466\u001b[0m \u001b[38;5;28;01mreturn\u001b[39;00m graph_function, filtered_flat_args\n",
      "File \u001b[0;32m~/Library/Caches/pypoetry/virtualenvs/modeopt-KAfqa0eY-py3.8/lib/python3.8/site-packages/tensorflow/python/eager/function.py:3298\u001b[0m, in \u001b[0;36mFunction._create_graph_function\u001b[0;34m(self, args, kwargs, override_flat_arg_shapes)\u001b[0m\n\u001b[1;32m   3293\u001b[0m missing_arg_names \u001b[38;5;241m=\u001b[39m [\n\u001b[1;32m   3294\u001b[0m     \u001b[38;5;124m\"\u001b[39m\u001b[38;5;132;01m%s\u001b[39;00m\u001b[38;5;124m_\u001b[39m\u001b[38;5;132;01m%d\u001b[39;00m\u001b[38;5;124m\"\u001b[39m \u001b[38;5;241m%\u001b[39m (arg, i) \u001b[38;5;28;01mfor\u001b[39;00m i, arg \u001b[38;5;129;01min\u001b[39;00m \u001b[38;5;28menumerate\u001b[39m(missing_arg_names)\n\u001b[1;32m   3295\u001b[0m ]\n\u001b[1;32m   3296\u001b[0m arg_names \u001b[38;5;241m=\u001b[39m base_arg_names \u001b[38;5;241m+\u001b[39m missing_arg_names\n\u001b[1;32m   3297\u001b[0m graph_function \u001b[38;5;241m=\u001b[39m ConcreteFunction(\n\u001b[0;32m-> 3298\u001b[0m     \u001b[43mfunc_graph_module\u001b[49m\u001b[38;5;241;43m.\u001b[39;49m\u001b[43mfunc_graph_from_py_func\u001b[49m\u001b[43m(\u001b[49m\n\u001b[1;32m   3299\u001b[0m \u001b[43m        \u001b[49m\u001b[38;5;28;43mself\u001b[39;49m\u001b[38;5;241;43m.\u001b[39;49m\u001b[43m_name\u001b[49m\u001b[43m,\u001b[49m\n\u001b[1;32m   3300\u001b[0m \u001b[43m        \u001b[49m\u001b[38;5;28;43mself\u001b[39;49m\u001b[38;5;241;43m.\u001b[39;49m\u001b[43m_python_function\u001b[49m\u001b[43m,\u001b[49m\n\u001b[1;32m   3301\u001b[0m \u001b[43m        \u001b[49m\u001b[43margs\u001b[49m\u001b[43m,\u001b[49m\n\u001b[1;32m   3302\u001b[0m \u001b[43m        \u001b[49m\u001b[43mkwargs\u001b[49m\u001b[43m,\u001b[49m\n\u001b[1;32m   3303\u001b[0m \u001b[43m        \u001b[49m\u001b[38;5;28;43mself\u001b[39;49m\u001b[38;5;241;43m.\u001b[39;49m\u001b[43minput_signature\u001b[49m\u001b[43m,\u001b[49m\n\u001b[1;32m   3304\u001b[0m \u001b[43m        \u001b[49m\u001b[43mautograph\u001b[49m\u001b[38;5;241;43m=\u001b[39;49m\u001b[38;5;28;43mself\u001b[39;49m\u001b[38;5;241;43m.\u001b[39;49m\u001b[43m_autograph\u001b[49m\u001b[43m,\u001b[49m\n\u001b[1;32m   3305\u001b[0m \u001b[43m        \u001b[49m\u001b[43mautograph_options\u001b[49m\u001b[38;5;241;43m=\u001b[39;49m\u001b[38;5;28;43mself\u001b[39;49m\u001b[38;5;241;43m.\u001b[39;49m\u001b[43m_autograph_options\u001b[49m\u001b[43m,\u001b[49m\n\u001b[1;32m   3306\u001b[0m \u001b[43m        \u001b[49m\u001b[43marg_names\u001b[49m\u001b[38;5;241;43m=\u001b[39;49m\u001b[43marg_names\u001b[49m\u001b[43m,\u001b[49m\n\u001b[1;32m   3307\u001b[0m \u001b[43m        \u001b[49m\u001b[43moverride_flat_arg_shapes\u001b[49m\u001b[38;5;241;43m=\u001b[39;49m\u001b[43moverride_flat_arg_shapes\u001b[49m\u001b[43m,\u001b[49m\n\u001b[1;32m   3308\u001b[0m \u001b[43m        \u001b[49m\u001b[43mcapture_by_value\u001b[49m\u001b[38;5;241;43m=\u001b[39;49m\u001b[38;5;28;43mself\u001b[39;49m\u001b[38;5;241;43m.\u001b[39;49m\u001b[43m_capture_by_value\u001b[49m\u001b[43m)\u001b[49m,\n\u001b[1;32m   3309\u001b[0m     \u001b[38;5;28mself\u001b[39m\u001b[38;5;241m.\u001b[39m_function_attributes,\n\u001b[1;32m   3310\u001b[0m     function_spec\u001b[38;5;241m=\u001b[39m\u001b[38;5;28mself\u001b[39m\u001b[38;5;241m.\u001b[39mfunction_spec,\n\u001b[1;32m   3311\u001b[0m     \u001b[38;5;66;03m# Tell the ConcreteFunction to clean up its graph once it goes out of\u001b[39;00m\n\u001b[1;32m   3312\u001b[0m     \u001b[38;5;66;03m# scope. This is not the default behavior since it gets used in some\u001b[39;00m\n\u001b[1;32m   3313\u001b[0m     \u001b[38;5;66;03m# places (like Keras) where the FuncGraph lives longer than the\u001b[39;00m\n\u001b[1;32m   3314\u001b[0m     \u001b[38;5;66;03m# ConcreteFunction.\u001b[39;00m\n\u001b[1;32m   3315\u001b[0m     shared_func_graph\u001b[38;5;241m=\u001b[39m\u001b[38;5;28;01mFalse\u001b[39;00m)\n\u001b[1;32m   3316\u001b[0m \u001b[38;5;28;01mreturn\u001b[39;00m graph_function\n",
      "File \u001b[0;32m~/Library/Caches/pypoetry/virtualenvs/modeopt-KAfqa0eY-py3.8/lib/python3.8/site-packages/tensorflow/python/framework/func_graph.py:1007\u001b[0m, in \u001b[0;36mfunc_graph_from_py_func\u001b[0;34m(name, python_func, args, kwargs, signature, func_graph, autograph, autograph_options, add_control_dependencies, arg_names, op_return_value, collections, capture_by_value, override_flat_arg_shapes, acd_record_initial_resource_uses)\u001b[0m\n\u001b[1;32m   1004\u001b[0m \u001b[38;5;28;01melse\u001b[39;00m:\n\u001b[1;32m   1005\u001b[0m   _, original_func \u001b[38;5;241m=\u001b[39m tf_decorator\u001b[38;5;241m.\u001b[39munwrap(python_func)\n\u001b[0;32m-> 1007\u001b[0m func_outputs \u001b[38;5;241m=\u001b[39m \u001b[43mpython_func\u001b[49m\u001b[43m(\u001b[49m\u001b[38;5;241;43m*\u001b[39;49m\u001b[43mfunc_args\u001b[49m\u001b[43m,\u001b[49m\u001b[43m \u001b[49m\u001b[38;5;241;43m*\u001b[39;49m\u001b[38;5;241;43m*\u001b[39;49m\u001b[43mfunc_kwargs\u001b[49m\u001b[43m)\u001b[49m\n\u001b[1;32m   1009\u001b[0m \u001b[38;5;66;03m# invariant: `func_outputs` contains only Tensors, CompositeTensors,\u001b[39;00m\n\u001b[1;32m   1010\u001b[0m \u001b[38;5;66;03m# TensorArrays and `None`s.\u001b[39;00m\n\u001b[1;32m   1011\u001b[0m func_outputs \u001b[38;5;241m=\u001b[39m nest\u001b[38;5;241m.\u001b[39mmap_structure(convert, func_outputs,\n\u001b[1;32m   1012\u001b[0m                                   expand_composites\u001b[38;5;241m=\u001b[39m\u001b[38;5;28;01mTrue\u001b[39;00m)\n",
      "File \u001b[0;32m~/Library/Caches/pypoetry/virtualenvs/modeopt-KAfqa0eY-py3.8/lib/python3.8/site-packages/tensorflow/python/eager/def_function.py:668\u001b[0m, in \u001b[0;36mFunction._defun_with_scope.<locals>.wrapped_fn\u001b[0;34m(*args, **kwds)\u001b[0m\n\u001b[1;32m    664\u001b[0m \u001b[38;5;28;01mwith\u001b[39;00m default_graph\u001b[38;5;241m.\u001b[39m_variable_creator_scope(scope, priority\u001b[38;5;241m=\u001b[39m\u001b[38;5;241m50\u001b[39m):  \u001b[38;5;66;03m# pylint: disable=protected-access\u001b[39;00m\n\u001b[1;32m    665\u001b[0m   \u001b[38;5;66;03m# __wrapped__ allows AutoGraph to swap in a converted function. We give\u001b[39;00m\n\u001b[1;32m    666\u001b[0m   \u001b[38;5;66;03m# the function a weak reference to itself to avoid a reference cycle.\u001b[39;00m\n\u001b[1;32m    667\u001b[0m   \u001b[38;5;28;01mwith\u001b[39;00m OptionalXlaContext(compile_with_xla):\n\u001b[0;32m--> 668\u001b[0m     out \u001b[38;5;241m=\u001b[39m \u001b[43mweak_wrapped_fn\u001b[49m\u001b[43m(\u001b[49m\u001b[43m)\u001b[49m\u001b[38;5;241;43m.\u001b[39;49m\u001b[43m__wrapped__\u001b[49m\u001b[43m(\u001b[49m\u001b[38;5;241;43m*\u001b[39;49m\u001b[43margs\u001b[49m\u001b[43m,\u001b[49m\u001b[43m \u001b[49m\u001b[38;5;241;43m*\u001b[39;49m\u001b[38;5;241;43m*\u001b[39;49m\u001b[43mkwds\u001b[49m\u001b[43m)\u001b[49m\n\u001b[1;32m    669\u001b[0m   \u001b[38;5;28;01mreturn\u001b[39;00m out\n",
      "File \u001b[0;32m~/Library/Caches/pypoetry/virtualenvs/modeopt-KAfqa0eY-py3.8/lib/python3.8/site-packages/tensorflow/python/framework/func_graph.py:994\u001b[0m, in \u001b[0;36mfunc_graph_from_py_func.<locals>.wrapper\u001b[0;34m(*args, **kwargs)\u001b[0m\n\u001b[1;32m    992\u001b[0m \u001b[38;5;28;01mexcept\u001b[39;00m \u001b[38;5;167;01mException\u001b[39;00m \u001b[38;5;28;01mas\u001b[39;00m e:  \u001b[38;5;66;03m# pylint:disable=broad-except\u001b[39;00m\n\u001b[1;32m    993\u001b[0m   \u001b[38;5;28;01mif\u001b[39;00m \u001b[38;5;28mhasattr\u001b[39m(e, \u001b[38;5;124m\"\u001b[39m\u001b[38;5;124mag_error_metadata\u001b[39m\u001b[38;5;124m\"\u001b[39m):\n\u001b[0;32m--> 994\u001b[0m     \u001b[38;5;28;01mraise\u001b[39;00m e\u001b[38;5;241m.\u001b[39mag_error_metadata\u001b[38;5;241m.\u001b[39mto_exception(e)\n\u001b[1;32m    995\u001b[0m   \u001b[38;5;28;01melse\u001b[39;00m:\n\u001b[1;32m    996\u001b[0m     \u001b[38;5;28;01mraise\u001b[39;00m\n",
      "\u001b[0;31mValueError\u001b[0m: in user code:\n\n    /Users/aidanscannell/Developer/forked-repos/GPflow/gpflow/optimizers/scipy.py:164 _tf_eval  *\n        loss, grads = _compute_loss_and_gradients(\n    /Users/aidanscannell/Developer/forked-repos/GPflow/gpflow/optimizers/scipy.py:297 _compute_loss_and_gradients  *\n        loss = loss_closure()\n    /var/folders/f4/yffwfgvx2mvg3gshpxwtpld40000gn/T/ipykernel_28441/498085148.py:10 explorative_objective  *\n        h_means, h_vars = conditional_gating(state_means[1:, :], control_means, state_vars[1:, :], control_vars)\n    /var/folders/f4/yffwfgvx2mvg3gshpxwtpld40000gn/T/ipykernel_28441/3986798252.py:20 conditional_gating  *\n        h_mean, h_var = base_conditional(\n    /Users/aidanscannell/Developer/forked-repos/GPflow/gpflow/conditionals/util.py:57 base_conditional  *\n        return base_conditional_with_lm(\n    /Users/aidanscannell/Developer/forked-repos/GPflow/gpflow/conditionals/util.py:128 base_conditional_with_lm  *\n        fvar = tf.broadcast_to(tf.expand_dims(fvar, -2), cov_shape)  # [..., R, N]\n    /Users/aidanscannell/Library/Caches/pypoetry/virtualenvs/modeopt-KAfqa0eY-py3.8/lib/python3.8/site-packages/tensorflow/python/ops/gen_array_ops.py:844 broadcast_to  **\n        _, _, _op, _outputs = _op_def_library._apply_op_helper(\n    /Users/aidanscannell/Library/Caches/pypoetry/virtualenvs/modeopt-KAfqa0eY-py3.8/lib/python3.8/site-packages/tensorflow/python/framework/op_def_library.py:748 _apply_op_helper\n        op = g._create_op_internal(op_type_name, inputs, dtypes=None,\n    /Users/aidanscannell/Library/Caches/pypoetry/virtualenvs/modeopt-KAfqa0eY-py3.8/lib/python3.8/site-packages/tensorflow/python/framework/func_graph.py:599 _create_op_internal\n        return super(FuncGraph, self)._create_op_internal(  # pylint: disable=protected-access\n    /Users/aidanscannell/Library/Caches/pypoetry/virtualenvs/modeopt-KAfqa0eY-py3.8/lib/python3.8/site-packages/tensorflow/python/framework/ops.py:3561 _create_op_internal\n        ret = Operation(\n    /Users/aidanscannell/Library/Caches/pypoetry/virtualenvs/modeopt-KAfqa0eY-py3.8/lib/python3.8/site-packages/tensorflow/python/framework/ops.py:2041 __init__\n        self._c_op = _create_c_op(self._graph, node_def, inputs,\n    /Users/aidanscannell/Library/Caches/pypoetry/virtualenvs/modeopt-KAfqa0eY-py3.8/lib/python3.8/site-packages/tensorflow/python/framework/ops.py:1883 _create_c_op\n        raise ValueError(str(e))\n\n    ValueError: Shape must be at most rank 2 but is rank 3 for '{{node BroadcastTo_21}} = BroadcastTo[T=DT_DOUBLE, Tidx=DT_INT32](ExpandDims_251, concat_170)' with input shapes: [1,1,1], [2].\n"
     ]
    }
   ],
   "source": [
    "for step in range(1, num_steps):\n",
    "    new_dataset = mode_optimiser.explore_env()\n",
    "    mode_optimiser.update_dataset(new_dataset)\n",
    "    mode_optimiser.dynamics_fit_kwargs.update({\"batch_size\": mode_optimiser.dataset[0].shape[0]})\n",
    "    print(\"Data set size: {}\".format(mode_optimiser.dataset[0].shape))\n",
    "    plot_data_over_gating_network_and_save(step=step, epoch=0, save=False)\n",
    "    plot_trajectories_over_gating_network_and_save(step=step, save=True)\n",
    "    plt.show()\n",
    "    mode_optimiser.optimise_dynamics()"
   ]
  },
  {
   "cell_type": "code",
   "execution_count": null,
   "id": "2e6bdf13",
   "metadata": {},
   "outputs": [],
   "source": [
    "for step in range(num_steps, num_steps*2):\n",
    "    new_dataset = mode_optimiser.explore_env()\n",
    "    mode_optimiser.update_dataset(new_dataset)\n",
    "    mode_optimiser.dynamics_fit_kwargs.update({\"batch_size\": mode_optimiser.dataset[0].shape[0]})\n",
    "    print(\"Data set size: {}\".format(mode_optimiser.dataset[0].shape))\n",
    "    plot_data_over_gating_network_and_save(step=step, epoch=0, save=False)\n",
    "    plot_trajectories_over_gating_network_and_save(step=step, save=True)\n",
    "    plt.show()\n",
    "    mode_optimiser.optimise_dynamics()"
   ]
  },
  {
   "cell_type": "code",
   "execution_count": null,
   "id": "7c01d7fb",
   "metadata": {},
   "outputs": [],
   "source": [
    "# for step in range(num_steps, num_steps*2):\n",
    "#     new_dataset = mode_optimiser.explore_env()\n",
    "#     mode_optimiser.update_dataset(new_dataset)\n",
    "#     batch_size = mode_optimiser.dataset[0].shape[0]\n",
    "#     mode_optimiser.dynamics_fit_kwargs.update({\"epochs\": num_epochs, \"batch_size\": batch_size, \"validation_split\": 0.2})\n",
    "#     print(\"Data set size: {}\".format(mode_optimiser.dataset[0].shape))\n",
    "#     plot_data_over_gating_network_and_save(step=step, epoch=0, save=False)\n",
    "#     plot_trajectories_over_gating_network_and_save(step=step, save=True)\n",
    "#     plt.show()\n",
    "#     mode_optimiser.optimise_dynamics()"
   ]
  },
  {
   "cell_type": "code",
   "execution_count": null,
   "id": "4615c26b",
   "metadata": {},
   "outputs": [],
   "source": [
    "state_diff_cost_matrix"
   ]
  },
  {
   "cell_type": "code",
   "execution_count": null,
   "id": "5ffa4728",
   "metadata": {},
   "outputs": [],
   "source": []
  },
  {
   "cell_type": "code",
   "execution_count": null,
   "id": "bab95f38",
   "metadata": {},
   "outputs": [],
   "source": []
  },
  {
   "cell_type": "code",
   "execution_count": null,
   "id": "4d57f53f",
   "metadata": {},
   "outputs": [],
   "source": []
  },
  {
   "cell_type": "code",
   "execution_count": null,
   "id": "28b08451",
   "metadata": {},
   "outputs": [],
   "source": []
  }
 ],
 "metadata": {
  "kernelspec": {
   "display_name": "Python 3 (ipykernel)",
   "language": "python",
   "name": "python3"
  },
  "language_info": {
   "codemirror_mode": {
    "name": "ipython",
    "version": 3
   },
   "file_extension": ".py",
   "mimetype": "text/x-python",
   "name": "python",
   "nbconvert_exporter": "python",
   "pygments_lexer": "ipython3",
   "version": "3.8.6"
  }
 },
 "nbformat": 4,
 "nbformat_minor": 5
}
