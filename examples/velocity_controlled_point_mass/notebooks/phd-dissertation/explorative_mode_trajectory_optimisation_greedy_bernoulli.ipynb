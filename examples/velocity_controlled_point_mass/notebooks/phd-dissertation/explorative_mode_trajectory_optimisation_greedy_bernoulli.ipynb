{
 "cells": [
  {
   "cell_type": "code",
   "execution_count": 1,
   "id": "6b58a502",
   "metadata": {
    "tags": []
   },
   "outputs": [],
   "source": [
    "from IPython.display import clear_output\n",
    "from typing import List, Optional\n",
    "\n",
    "import datetime\n",
    "import functools\n",
    "import gpflow as gpf\n",
    "import hydra\n",
    "import math\n",
    "import matplotlib.pyplot as plt\n",
    "import numpy as np\n",
    "import os\n",
    "import palettable\n",
    "import tensorflow as tf\n",
    "import tensor_annotations.tensorflow as ttf\n",
    "import tensorflow_probability as tfp\n",
    "\n",
    "from gpflow import default_float, default_jitter\n",
    "from gpflow.conditionals import uncertain_conditional, base_conditional\n",
    "from matplotlib import cm\n",
    "from numpy import random\n",
    "from omegaconf import DictConfig\n",
    "from simenvs import make\n",
    "\n",
    "from modeopt.cost_functions import ControlQuadraticCostFunction, TargetStateCostFunction, StateDiffCostFunction, quadratic_cost_fn\n",
    "from modeopt.controllers.utils import initialise_deterministic_trajectory, build_mode_variational_objective\n",
    "from modeopt.controllers import TrajectoryOptimisationController\n",
    "from modeopt.constraints import build_mode_chance_constraints_scipy\n",
    "from modeopt.custom_types import Dataset\n",
    "from modeopt.dynamics.conditionals import svgp_covariance_conditional\n",
    "from modeopt.plotting import ModeOptContourPlotter\n",
    "from modeopt.rollouts import rollout_controls_in_dynamics, rollout_controller_in_dynamics, rollout_controller_in_env, collect_data_from_env\n",
    "from modeopt.trajectories import ControlTrajectoryDist\n",
    "from modeopt.utils import model_from_DictConfig, combine_state_controls_to_input, append_zero_control\n",
    "from modeopt.mode_opt import ModeOpt\n",
    "from mogpe.keras.callbacks.tensorboard import PlotFn, TensorboardImageCallback\n",
    "from mogpe.keras.mixture_of_experts import MixtureOfSVGPExperts\n",
    "from mogpe.keras.plotting import MixtureOfSVGPExpertsContourPlotter\n",
    "from mogpe.keras.utils import sample_mosvgpe_inducing_inputs_from_data, model_from_yaml\n",
    "\n",
    "%matplotlib inline\n",
    "\n",
    "tfd = tfp.distributions\n",
    "\n",
    "CMAP = palettable.scientific.sequential.Bilbao_15.mpl_colormap\n",
    "\n",
    "meaning_of_life = 42\n",
    "tf.random.set_seed(meaning_of_life)\n",
    "np.random.seed(meaning_of_life)"
   ]
  },
  {
   "cell_type": "markdown",
   "id": "4f9e7c6f",
   "metadata": {},
   "source": [
    "## Initialise environment"
   ]
  },
  {
   "cell_type": "code",
   "execution_count": 2,
   "id": "0d8d18d1",
   "metadata": {
    "tags": []
   },
   "outputs": [],
   "source": [
    "env_name = \"velocity-controlled-point-mass/scenario-7\""
   ]
  },
  {
   "cell_type": "code",
   "execution_count": 3,
   "id": "aaafbcc6",
   "metadata": {
    "tags": []
   },
   "outputs": [
    {
     "name": "stdout",
     "output_type": "stream",
     "text": [
      "No constant_error found in toml config so using default : 0.0\n"
     ]
    }
   ],
   "source": [
    "env = make(env_name)\n",
    "state_dim = env.observation_spec().shape[0]\n",
    "control_dim = env.action_spec().shape[0]"
   ]
  },
  {
   "cell_type": "markdown",
   "id": "f9fb06da",
   "metadata": {},
   "source": [
    "## ModeOpt config"
   ]
  },
  {
   "cell_type": "code",
   "execution_count": 4,
   "id": "f1d034df",
   "metadata": {},
   "outputs": [],
   "source": [
    "start_state = np.array([[-1.0, -2.0]])\n",
    "target_state = np.array([[1.7, 3.0]])\n",
    "mode_satisfaction_prob = 0.8"
   ]
  },
  {
   "cell_type": "markdown",
   "id": "92ec671a",
   "metadata": {},
   "source": [
    "## Sample initial data set from desired mode"
   ]
  },
  {
   "cell_type": "code",
   "execution_count": 5,
   "id": "f02e5082",
   "metadata": {},
   "outputs": [
    {
     "name": "stdout",
     "output_type": "stream",
     "text": [
      "(1, 2)\n",
      "(2,)\n",
      "(15, 2)\n",
      "(2,)\n",
      "(1, 2)\n",
      "(2,)\n",
      "(15, 2)\n",
      "(2,)\n",
      "(1, 2)\n",
      "(2,)\n",
      "(15, 2)\n",
      "(2,)\n",
      "(1, 2)\n",
      "(2,)\n",
      "(15, 2)\n",
      "(2,)\n",
      "(1, 2)\n",
      "(2,)\n",
      "(15, 2)\n",
      "(2,)\n",
      "(1, 2)\n",
      "(2,)\n",
      "(15, 2)\n",
      "(2,)\n",
      "(1, 2)\n",
      "(2,)\n",
      "(15, 2)\n",
      "(2,)\n",
      "(1, 2)\n",
      "(2,)\n",
      "(15, 2)\n",
      "(2,)\n",
      "(1, 2)\n",
      "(2,)\n",
      "(15, 2)\n",
      "(2,)\n",
      "(1, 2)\n",
      "(2,)\n",
      "(15, 2)\n",
      "(2,)\n",
      "(1, 2)\n",
      "(2,)\n",
      "(15, 2)\n",
      "(2,)\n",
      "(1, 2)\n",
      "(2,)\n",
      "(15, 2)\n",
      "(2,)\n",
      "(1, 2)\n",
      "(2,)\n",
      "(15, 2)\n",
      "(2,)\n",
      "(1, 2)\n",
      "(2,)\n",
      "(15, 2)\n",
      "(2,)\n",
      "(1, 2)\n",
      "(2,)\n",
      "(15, 2)\n",
      "(2,)\n",
      "(1, 2)\n",
      "(2,)\n",
      "(15, 2)\n",
      "(2,)\n",
      "(1, 2)\n",
      "(2,)\n",
      "(15, 2)\n",
      "(2,)\n",
      "(1, 2)\n",
      "(2,)\n",
      "(15, 2)\n",
      "(2,)\n",
      "(1, 2)\n",
      "(2,)\n",
      "(15, 2)\n",
      "(2,)\n",
      "(1, 2)\n",
      "(2,)\n",
      "(15, 2)\n",
      "(2,)\n",
      "(1, 2)\n",
      "(2,)\n",
      "(15, 2)\n",
      "(2,)\n",
      "(1, 2)\n",
      "(2,)\n",
      "(15, 2)\n",
      "(2,)\n",
      "(1, 2)\n",
      "(2,)\n",
      "(15, 2)\n",
      "(2,)\n",
      "(1, 2)\n",
      "(2,)\n",
      "(15, 2)\n",
      "(2,)\n",
      "(1, 2)\n",
      "(2,)\n",
      "(15, 2)\n",
      "(2,)\n",
      "(1, 2)\n",
      "(2,)\n",
      "(15, 2)\n",
      "(2,)\n",
      "(1, 2)\n",
      "(2,)\n",
      "(15, 2)\n",
      "(2,)\n",
      "(1, 2)\n",
      "(2,)\n",
      "(15, 2)\n",
      "(2,)\n",
      "(1, 2)\n",
      "(2,)\n",
      "(15, 2)\n",
      "(2,)\n",
      "(1, 2)\n",
      "(2,)\n",
      "(15, 2)\n",
      "(2,)\n",
      "(1, 2)\n",
      "(2,)\n",
      "(15, 2)\n",
      "(2,)\n",
      "(1, 2)\n",
      "(2,)\n",
      "(15, 2)\n",
      "(2,)\n",
      "(1, 2)\n",
      "(2,)\n",
      "(15, 2)\n",
      "(2,)\n",
      "(1, 2)\n",
      "(2,)\n",
      "(15, 2)\n",
      "(2,)\n",
      "(1, 2)\n",
      "(2,)\n",
      "(15, 2)\n",
      "(2,)\n",
      "(1, 2)\n",
      "(2,)\n",
      "(15, 2)\n",
      "(2,)\n",
      "(1, 2)\n",
      "(2,)\n",
      "(15, 2)\n",
      "(2,)\n",
      "(1, 2)\n",
      "(2,)\n",
      "(15, 2)\n",
      "(2,)\n",
      "(1, 2)\n",
      "(2,)\n",
      "(15, 2)\n",
      "(2,)\n",
      "(1, 2)\n",
      "(2,)\n",
      "(15, 2)\n",
      "(2,)\n",
      "(1, 2)\n",
      "(2,)\n",
      "(15, 2)\n",
      "(2,)\n",
      "(1, 2)\n",
      "(2,)\n",
      "(15, 2)\n",
      "(2,)\n",
      "(1, 2)\n",
      "(2,)\n",
      "(15, 2)\n",
      "(2,)\n",
      "(1, 2)\n",
      "(2,)\n",
      "(15, 2)\n",
      "(2,)\n",
      "(1, 2)\n",
      "(2,)\n",
      "(15, 2)\n",
      "(2,)\n",
      "(1, 2)\n",
      "(2,)\n",
      "(15, 2)\n",
      "(2,)\n",
      "(1, 2)\n",
      "(2,)\n",
      "(15, 2)\n",
      "(2,)\n",
      "(1, 2)\n",
      "(2,)\n",
      "(15, 2)\n",
      "(2,)\n",
      "(1, 2)\n",
      "(2,)\n",
      "(15, 2)\n",
      "(2,)\n",
      "(1, 2)\n",
      "(2,)\n",
      "(15, 2)\n",
      "(2,)\n",
      "(118, 4)\n",
      "(118, 2)\n"
     ]
    },
    {
     "data": {
      "image/png": "[encoded data removed]",
      "text/plain": [
       "<Figure size 432x288 with 1 Axes>"
      ]
     },
     "metadata": {
      "needs_background": "light"
     },
     "output_type": "display_data"
    }
   ],
   "source": [
    "def sample_env_trajectories(horizon=15, num_trajectories=10):\n",
    "    X, Y = [], []\n",
    "    for i in range(num_trajectories):\n",
    "        controls = np.random.uniform(\n",
    "            env.action_spec().minimum,\n",
    "            env.action_spec().maximum,\n",
    "            (horizon, env.action_spec().shape[-1]),\n",
    "        )\n",
    "        X_, Y_ = collect_data_from_env(env, start_state=start_state, controls=controls)\n",
    "        X.append(X_)\n",
    "        Y.append(Y_)\n",
    "    X = np.concatenate(X, 0)\n",
    "    Y = np.concatenate(Y, 0)\n",
    "    width = 1.0\n",
    "    mask_1 = X[:, 0] > start_state[0, 0] - width\n",
    "    mask_2 = X[:, 0] < start_state[0, 0] + width\n",
    "    mask_3 = X[:, 1] > start_state[0, 1] - width\n",
    "    mask_4 = X[:, 1] < start_state[0, 1] + width\n",
    "    mask = mask_1 & mask_2 & mask_3 & mask_4\n",
    "    X_trimmed = X[mask]\n",
    "    Y_trimmed = Y[mask]\n",
    "    print(X_trimmed.shape)\n",
    "    print(Y_trimmed.shape)\n",
    "    return (X_trimmed, Y_trimmed)\n",
    "\n",
    "initial_dataset = sample_env_trajectories(horizon = 15, num_trajectories=50)\n",
    "dataset = initial_dataset\n",
    "plt.scatter(dataset[0][:, 0], dataset[0][:, 1])\n",
    "plt.show()"
   ]
  },
  {
   "cell_type": "markdown",
   "id": "5887af56",
   "metadata": {},
   "source": [
    "## Train dynamics on initial data set or load from config"
   ]
  },
  {
   "cell_type": "code",
   "execution_count": 12,
   "id": "bbfb8de9",
   "metadata": {
    "tags": []
   },
   "outputs": [],
   "source": [
    "initial_num_epochs = 20000\n",
    "# num_epochs = 300\n",
    "num_epochs = 1500\n",
    "# batch_size = 128\n",
    "batch_size = initial_dataset[0].shape[0]\n",
    "dynamics_logging_epoch_freq = 100\n",
    "\n",
    "load_from_config = True\n",
    "# load_from_config = False\n",
    "yaml_cfg_filename = \"./keras_configs/mode_opt_explore_scenario_7.yaml\"\n",
    "load_ckpt_dir = \"./saved_experiments/exploration-prob-0.8/2022-03-30-14-22/ckpts\""
   ]
  },
  {
   "cell_type": "code",
   "execution_count": 13,
   "id": "a5a05085",
   "metadata": {
    "tags": []
   },
   "outputs": [],
   "source": [
    "now_time = datetime.datetime.now().strftime('%Y-%m-%d-%H-%M') #  now\n",
    "log_dir = os.path.join(f\"./experiments/bernoulli-with-conditioning/explorative-prob-{mode_satisfaction_prob}\", now_time)"
   ]
  },
  {
   "cell_type": "code",
   "execution_count": 14,
   "id": "4af2e7b3",
   "metadata": {
    "tags": []
   },
   "outputs": [
    {
     "name": "stderr",
     "output_type": "stream",
     "text": [
      "2022-04-20 12:07:36.757788: I tensorflow/core/platform/cpu_feature_guard.cc:142] This TensorFlow binary is optimized with oneAPI Deep Neural Network Library (oneDNN) to use the following CPU instructions in performance-critical operations:  AVX2 FMA\n",
      "To enable them in other operations, rebuild TensorFlow with the appropriate compiler flags.\n"
     ]
    },
    {
     "name": "stdout",
     "output_type": "stream",
     "text": [
      "setting desired mode to 1\n",
      "╒════════════════════════════════════════════════════════════════╤═══════════╤════════════════╤═════════╤═════════════╤═════════════╤═════════╤══════════════════════════════════════════╕\n",
      "│ name                                                           │ class     │ transform      │ prior   │ trainable   │ shape       │ dtype   │ value                                    │\n",
      "╞════════════════════════════════════════════════════════════════╪═══════════╪════════════════╪═════════╪═════════════╪═════════════╪═════════╪══════════════════════════════════════════╡\n",
      "│ IndependentPosteriorMultiOutput.kernel.kernels[0].variance     │ Parameter │ Softplus       │         │ True        │ ()          │ float64 │ 1.4978003107997662                       │\n",
      "├────────────────────────────────────────────────────────────────┼───────────┼────────────────┼─────────┼─────────────┼─────────────┼─────────┼──────────────────────────────────────────┤\n",
      "│ IndependentPosteriorMultiOutput.kernel.kernels[0].lengthscales │ Parameter │ Softplus       │         │ True        │ (4,)        │ float64 │ [7.36133439, 4.15878948, 7.43458159...   │\n",
      "├────────────────────────────────────────────────────────────────┼───────────┼────────────────┼─────────┼─────────────┼─────────────┼─────────┼──────────────────────────────────────────┤\n",
      "│ IndependentPosteriorMultiOutput.kernel.kernels[1].variance     │ Parameter │ Softplus       │         │ True        │ ()          │ float64 │ 1.1881473511798106                       │\n",
      "├────────────────────────────────────────────────────────────────┼───────────┼────────────────┼─────────┼─────────────┼─────────────┼─────────┼──────────────────────────────────────────┤\n",
      "│ IndependentPosteriorMultiOutput.kernel.kernels[1].lengthscales │ Parameter │ Softplus       │         │ True        │ (4,)        │ float64 │ [9.64201641, 4.35154519, 20.49345011...  │\n",
      "├────────────────────────────────────────────────────────────────┼───────────┼────────────────┼─────────┼─────────────┼─────────────┼─────────┼──────────────────────────────────────────┤\n",
      "│ IndependentPosteriorMultiOutput.X_data.inducing_variable.Z     │ Parameter │ Identity       │         │ True        │ (90, 4)     │ float64 │ [[0.78127764, -0.88818998, 4.52976162... │\n",
      "├────────────────────────────────────────────────────────────────┼───────────┼────────────────┼─────────┼─────────────┼─────────────┼─────────┼──────────────────────────────────────────┤\n",
      "│ IndependentPosteriorMultiOutput.mean_function.c                │ Parameter │ Identity       │         │ True        │ ()          │ float64 │ -0.1552015199866211                      │\n",
      "├────────────────────────────────────────────────────────────────┼───────────┼────────────────┼─────────┼─────────────┼─────────────┼─────────┼──────────────────────────────────────────┤\n",
      "│ IndependentPosteriorMultiOutput._q_dist.q_mu                   │ Parameter │ Identity       │         │ True        │ (90, 2)     │ float64 │ [[1.18185112e+00, 4.88676820e-01...      │\n",
      "├────────────────────────────────────────────────────────────────┼───────────┼────────────────┼─────────┼─────────────┼─────────────┼─────────┼──────────────────────────────────────────┤\n",
      "│ IndependentPosteriorMultiOutput._q_dist.q_sqrt                 │ Parameter │ FillTriangular │         │ True        │ (2, 90, 90) │ float64 │ [[[-0.19227382, 0., 0....                │\n",
      "╘════════════════════════════════════════════════════════════════╧═══════════╧════════════════╧═════════╧═════════════╧═════════════╧═════════╧══════════════════════════════════════════╛\n",
      "No constant_error found in toml config so using default : 0.0\n",
      "setting desired mode to 1\n",
      "╒════════════════════════════════════════════════════════════════╤═══════════╤════════════════╤═════════╤═════════════╤═════════════╤═════════╤══════════════════════════════════════════╕\n",
      "│ name                                                           │ class     │ transform      │ prior   │ trainable   │ shape       │ dtype   │ value                                    │\n",
      "╞════════════════════════════════════════════════════════════════╪═══════════╪════════════════╪═════════╪═════════════╪═════════════╪═════════╪══════════════════════════════════════════╡\n",
      "│ IndependentPosteriorMultiOutput.kernel.kernels[0].variance     │ Parameter │ Softplus       │         │ True        │ ()          │ float64 │ 1.4978003107997662                       │\n",
      "├────────────────────────────────────────────────────────────────┼───────────┼────────────────┼─────────┼─────────────┼─────────────┼─────────┼──────────────────────────────────────────┤\n",
      "│ IndependentPosteriorMultiOutput.kernel.kernels[0].lengthscales │ Parameter │ Softplus       │         │ True        │ (4,)        │ float64 │ [7.36133439, 4.15878948, 7.43458159...   │\n",
      "├────────────────────────────────────────────────────────────────┼───────────┼────────────────┼─────────┼─────────────┼─────────────┼─────────┼──────────────────────────────────────────┤\n",
      "│ IndependentPosteriorMultiOutput.kernel.kernels[1].variance     │ Parameter │ Softplus       │         │ True        │ ()          │ float64 │ 1.1881473511798106                       │\n",
      "├────────────────────────────────────────────────────────────────┼───────────┼────────────────┼─────────┼─────────────┼─────────────┼─────────┼──────────────────────────────────────────┤\n",
      "│ IndependentPosteriorMultiOutput.kernel.kernels[1].lengthscales │ Parameter │ Softplus       │         │ True        │ (4,)        │ float64 │ [9.64201641, 4.35154519, 20.49345011...  │\n",
      "├────────────────────────────────────────────────────────────────┼───────────┼────────────────┼─────────┼─────────────┼─────────────┼─────────┼──────────────────────────────────────────┤\n",
      "│ IndependentPosteriorMultiOutput.X_data.inducing_variable.Z     │ Parameter │ Identity       │         │ True        │ (90, 4)     │ float64 │ [[0.78127764, -0.88818998, 4.52976162... │\n",
      "├────────────────────────────────────────────────────────────────┼───────────┼────────────────┼─────────┼─────────────┼─────────────┼─────────┼──────────────────────────────────────────┤\n",
      "│ IndependentPosteriorMultiOutput.mean_function.c                │ Parameter │ Identity       │         │ True        │ ()          │ float64 │ -0.1552015199866211                      │\n",
      "├────────────────────────────────────────────────────────────────┼───────────┼────────────────┼─────────┼─────────────┼─────────────┼─────────┼──────────────────────────────────────────┤\n",
      "│ IndependentPosteriorMultiOutput._q_dist.q_mu                   │ Parameter │ Identity       │         │ True        │ (90, 2)     │ float64 │ [[1.18185112e+00, 4.88676820e-01...      │\n",
      "├────────────────────────────────────────────────────────────────┼───────────┼────────────────┼─────────┼─────────────┼─────────────┼─────────┼──────────────────────────────────────────┤\n",
      "│ IndependentPosteriorMultiOutput._q_dist.q_sqrt                 │ Parameter │ FillTriangular │         │ True        │ (2, 90, 90) │ float64 │ [[[-0.19227382, 0., 0....                │\n",
      "╘════════════════════════════════════════════════════════════════╧═══════════╧════════════════╧═════════╧═════════════╧═════════════╧═════════╧══════════════════════════════════════════╛\n"
     ]
    },
    {
     "name": "stderr",
     "output_type": "stream",
     "text": [
      "2022-04-20 12:07:37.112531: I tensorflow/core/profiler/lib/profiler_session.cc:131] Profiler session initializing.\n",
      "2022-04-20 12:07:37.112548: I tensorflow/core/profiler/lib/profiler_session.cc:146] Profiler session started.\n",
      "2022-04-20 12:07:37.112651: I tensorflow/core/profiler/lib/profiler_session.cc:164] Profiler session tear down.\n",
      "2022-04-20 12:07:37.390031: I tensorflow/core/profiler/lib/profiler_session.cc:131] Profiler session initializing.\n",
      "2022-04-20 12:07:37.390046: I tensorflow/core/profiler/lib/profiler_session.cc:146] Profiler session started.\n",
      "2022-04-20 12:07:37.390070: I tensorflow/core/profiler/lib/profiler_session.cc:164] Profiler session tear down.\n"
     ]
    }
   ],
   "source": [
    "if load_from_config:\n",
    "    mode_optimiser = ModeOpt.load(load_ckpt_dir)\n",
    "    mode_optimiser.log_dir = log_dir\n",
    "else:\n",
    "    mode_optimiser = model_from_yaml(yaml_cfg_filename, custom_objects={\"ModeOpt\": ModeOpt})\n",
    "    mode_optimiser.dataset = (tf.constant(initial_dataset[0], dtype=default_float()),\n",
    "                              tf.constant(initial_dataset[1], dtype=default_float())\n",
    "                             )\n",
    "    sample_mosvgpe_inducing_inputs_from_data(initial_dataset[0], mode_optimiser.dynamics.mosvgpe)\n",
    "    mode_optimiser.dynamics_fit_kwargs.update({\"epochs\": initial_num_epochs, \"batch_size\": batch_size, \"validation_split\": 0.2})\n",
    "#     dynamics_plotting_callbacks = build_contour_plotter_callbacks(mode_optimiser.dynamics.mosvgpe, logging_epoch_freq=dynamics_logging_epoch_freq, log_dir=mode_optimiser.log_dir)\n",
    "#     mode_optimiser.add_dynamics_callbacks(dynamics_plotting_callbacks)\n",
    "#     gpf.utilities.set_trainable(mode_optimiser.dynamics.mosvgpe.gating_network.gp.inducing_variable, False)\n",
    "    mode_optimiser.optimise_dynamics()\n",
    "#     gpf.utilities.set_trainable(mode_optimiser.dynamics.mosvgpe.gating_network.gp.kernel, False)"
   ]
  },
  {
   "cell_type": "markdown",
   "id": "f1833b35",
   "metadata": {},
   "source": [
    "Update the data set."
   ]
  },
  {
   "cell_type": "code",
   "execution_count": 15,
   "id": "107bc100",
   "metadata": {
    "tags": []
   },
   "outputs": [],
   "source": [
    "mode_optimiser.start_state = tf.constant(start_state, dtype=default_float())"
   ]
  },
  {
   "cell_type": "markdown",
   "id": "3172fc40",
   "metadata": {},
   "source": [
    "Set the correct desired dynamics mode."
   ]
  },
  {
   "cell_type": "code",
   "execution_count": 16,
   "id": "e1038730",
   "metadata": {
    "tags": []
   },
   "outputs": [
    {
     "name": "stdout",
     "output_type": "stream",
     "text": [
      "Desired mode is 1\n"
     ]
    }
   ],
   "source": [
    "def which_desired_mode(mode_optimiser, initial_dataset):\n",
    "    probs = mode_optimiser.dynamics.mosvgpe.gating_network.predict_mixing_probs(initial_dataset[0])\n",
    "    mean_probs = tf.reduce_mean(probs, 0)\n",
    "    return int(tf.math.argmax(mean_probs))\n",
    "\n",
    "desired_mode = which_desired_mode(mode_optimiser, initial_dataset)\n",
    "print(\"Desired mode is {}\".format(desired_mode))\n",
    "mode_optimiser.desired_mode = desired_mode"
   ]
  },
  {
   "cell_type": "markdown",
   "id": "b6132545",
   "metadata": {},
   "source": [
    "Save the learned dynamics model."
   ]
  },
  {
   "cell_type": "code",
   "execution_count": 17,
   "id": "21704db9",
   "metadata": {
    "tags": []
   },
   "outputs": [],
   "source": [
    "mode_optimiser.save()"
   ]
  },
  {
   "cell_type": "markdown",
   "id": "f0f9674d",
   "metadata": {},
   "source": [
    "## Configure the explorative controller"
   ]
  },
  {
   "cell_type": "code",
   "execution_count": 18,
   "id": "d89981c1",
   "metadata": {
    "tags": []
   },
   "outputs": [],
   "source": [
    "horizon = 15\n",
    "max_iterations = 1000\n",
    "keep_last_solution = True\n",
    "keep_last_solution = False\n",
    "method = \"SLSQP\""
   ]
  },
  {
   "cell_type": "code",
   "execution_count": 19,
   "id": "51ed89f0",
   "metadata": {
    "tags": []
   },
   "outputs": [],
   "source": [
    "terminal_state_cost_matrix = tf.eye(state_dim, dtype=default_float()) * 100\n",
    "# state_diff_cost_matrix = tf.eye(state_dim, dtype=default_float()) * 0.0005\n",
    "state_diff_cost_matrix = tf.eye(state_dim, dtype=default_float()) * 0.0005\n",
    "# state_diff_cost_matrix = tf.eye(state_dim, dtype=default_float()) * 1.0\n",
    "# control_cost_matrix = tf.eye(control_dim, dtype=default_float()) * 0.1\n",
    "control_cost_matrix = tf.eye(control_dim, dtype=default_float()) * 0.0005\n",
    "# control_cost_matrix = tf.eye(control_dim, dtype=default_float()) * 1.0\n",
    "\n",
    "# terminal_cost_fn = TargetStateCostFunction(weight_matrix=terminal_state_cost_matrix, target_state=start_state)\n",
    "terminal_cost_fn = TargetStateCostFunction(weight_matrix=terminal_state_cost_matrix, target_state=target_state)\n",
    "control_cost_fn = ControlQuadraticCostFunction(weight_matrix=control_cost_matrix)\n",
    "state_diff_cost_fn = StateDiffCostFunction(weight_matrix=state_diff_cost_matrix, target_state=target_state)\n",
    "\n",
    "cost_fn = control_cost_fn + state_diff_cost_fn\n",
    "# cost_fn = state_diff_cost_fn\n",
    "# cost_fn = control_cost_fn\n",
    "# cost_fn = control_cost_fn + state_diff_cost_fn + terminal_cost_fn\n",
    "# cost_fn = state_diff_cost_fn\n",
    "# cost_fn = terminal_cost_fn + state_diff_cost_fn"
   ]
  },
  {
   "cell_type": "code",
   "execution_count": 20,
   "id": "40333de7",
   "metadata": {},
   "outputs": [],
   "source": [
    "def conditional_gating(state_means, control_means, state_vars, control_vars):\n",
    "    h_means_prior, h_vars_prior = mode_optimiser.dynamics.uncertain_predict_gating(state_means, control_means)\n",
    "    gating_gp = mode_optimiser.dynamics.desired_mode_gating_gp \n",
    "\n",
    "    input_means, input_vars = combine_state_controls_to_input(\n",
    "        state_means, control_means, state_vars, control_vars\n",
    "    )\n",
    "    \n",
    "    h_means, h_vars = h_means_prior[0:1, :], h_vars_prior[0:1, :]\n",
    "    for t in range(1, horizon):\n",
    "        Xnew = input_means[t:t+1, :]\n",
    "        Xobs = tf.concat([input_means[:t, :], input_means[t+1:, :]], 0)\n",
    "        f = tf.concat([h_means_prior[:t, :], h_means_prior[t+1:, :]], 0)\n",
    "\n",
    "        Knn = svgp_covariance_conditional(X1=Xnew, X2=Xnew, svgp=gating_gp)[0, 0, :]\n",
    "        Kmm = svgp_covariance_conditional(X1=Xobs, X2=Xobs, svgp=gating_gp)[0, :, :]\n",
    "        Kmn = svgp_covariance_conditional(X1=Xobs, X2=Xnew, svgp=gating_gp)[0, :, :]\n",
    "        Kmm += tf.eye(Kmm.shape[0], dtype=default_float()) * default_jitter()\n",
    "        h_mean, h_var = base_conditional(\n",
    "            Kmn=Kmn,\n",
    "            Kmm=Kmm,\n",
    "            Knn=Knn,\n",
    "            f=f,\n",
    "            full_cov=False,\n",
    "            q_sqrt=None,\n",
    "            white=False,\n",
    "        )\n",
    "        h_means = tf.concat([h_means, h_mean], 0)\n",
    "        h_vars = tf.concat([h_vars, h_var], 0)\n",
    "    return h_means, h_vars\n",
    "    \n",
    "def conditional_gating_temporal(state_means, control_means, state_vars, control_vars):\n",
    "    h_means_prior, h_vars_prior = mode_optimiser.dynamics.uncertain_predict_gating(state_means, control_means)\n",
    "    gating_gp = mode_optimiser.dynamics.desired_mode_gating_gp \n",
    "\n",
    "    input_means, input_vars = combine_state_controls_to_input(\n",
    "        state_means, control_means, state_vars, control_vars\n",
    "    )\n",
    "    \n",
    "    h_means, h_vars = h_means_prior[0:1, :], h_vars_prior[0:1, :]\n",
    "    for t in range(1, horizon):\n",
    "        Xnew = input_means[t:t+1, :]\n",
    "        Xobs = input_means[0:t, :]\n",
    "        f = h_means_prior[0:t, :]\n",
    "\n",
    "        Knn = svgp_covariance_conditional(X1=Xnew, X2=Xnew, svgp=gating_gp)[0, 0, :]\n",
    "        Kmm = svgp_covariance_conditional(X1=Xobs, X2=Xobs, svgp=gating_gp)[0, :, :]\n",
    "        Kmn = svgp_covariance_conditional(X1=Xobs, X2=Xnew, svgp=gating_gp)[0, :, :]\n",
    "        Kmm += tf.eye(Kmm.shape[0], dtype=default_float()) * default_jitter()\n",
    "        h_mean, h_var = base_conditional(\n",
    "            Kmn=Kmn,\n",
    "            Kmm=Kmm,\n",
    "            Knn=Knn,\n",
    "            f=f,\n",
    "            full_cov=False,\n",
    "            q_sqrt=None,\n",
    "            white=False,\n",
    "        )\n",
    "        h_means = tf.concat([h_means, h_mean], 0)\n",
    "        h_vars = tf.concat([h_vars, h_var], 0)\n",
    "    return h_means, h_vars"
   ]
  },
  {
   "cell_type": "code",
   "execution_count": 32,
   "id": "c6760680",
   "metadata": {
    "tags": []
   },
   "outputs": [],
   "source": [
    "def explorative_objective(initial_solution: ControlTrajectoryDist) -> ttf.Tensor0:\n",
    "    control_means = initial_solution(variance=False)\n",
    "    control_vars = None\n",
    "    state_means, state_vars = rollout_controls_in_dynamics(\n",
    "        dynamics=mode_optimiser.dynamics,\n",
    "        start_state=start_state,\n",
    "        control_means=control_means,\n",
    "        control_vars=control_vars,\n",
    "    )\n",
    "    h_means, h_vars = conditional_gating(state_means[1:, :], control_means, state_vars[1:, :], control_vars)\n",
    "    print('h_vars')\n",
    "    print(h_vars)\n",
    "#     h_means, h_vars = conditional_gating_temporal(state_means[1:, :], control_means, state_vars[1:, :], control_vars)\n",
    "    mode_probs = mode_optimiser.dynamics.mosvgpe.gating_network.predict_mixing_probs_given_h(h_means, h_vars)\n",
    "    print(\"mode_probs.shape\")\n",
    "    print(mode_probs.shape)\n",
    "    gating_entropy = tfd.Bernoulli(mode_probs[:, mode_optimiser.desired_mode]).entropy()\n",
    "#     gating_entropy = tfd.Categorical(mode_probs).entropy()\n",
    "    print(gating_entropy.shape)\n",
    "#     h_dist = tfd.MultivariateNormalDiag(h_means, h_vars)\n",
    "#     gating_entropy = h_dist.entropy()\n",
    "    tf.print('entropy yo')\n",
    "    tf.print(-tf.reduce_sum(gating_entropy))\n",
    "#     tf.print(cost_fn(state_means, control_means, state_vars, control_vars))\n",
    "    return -tf.reduce_sum(gating_entropy)\n",
    "#     return -tf.reduce_sum(gating_entropy) + cost_fn(state_means, control_means, state_vars, control_vars)"
   ]
  },
  {
   "cell_type": "code",
   "execution_count": 22,
   "id": "75ee485f",
   "metadata": {
    "tags": []
   },
   "outputs": [
    {
     "name": "stderr",
     "output_type": "stream",
     "text": [
      "2022-04-20 12:07:40.012288: W tensorflow/python/util/util.cc:348] Sets are not currently considered sequences, but this may change in the future, so consider avoiding using them.\n"
     ]
    },
    {
     "name": "stdout",
     "output_type": "stream",
     "text": [
      "Xnew.shape\n",
      "(256, 15, 4)\n",
      "gating_means.shape\n",
      "(256, 15, 1)\n",
      "input_mean.shape\n",
      "(15, 4)\n",
      "(15, 4)\n",
      "var_exp: Tensor(\"Sum_218:0\", shape=(15, 1), dtype=float64)\n",
      "mode_var_exp: Tensor(\"Sum_219:0\", shape=(), dtype=float64)\n"
     ]
    },
    {
     "name": "stderr",
     "output_type": "stream",
     "text": [
      "2022-04-20 12:08:12.543156: I tensorflow/compiler/mlir/mlir_graph_optimization_pass.cc:185] None of the MLIR Optimization Passes are enabled (registered 2)\n"
     ]
    },
    {
     "name": "stdout",
     "output_type": "stream",
     "text": [
      "Optimisation result:\n",
      "     fun: array([66.59696742])\n",
      "     jac: array([2.69513992e-04, 7.56009729e-04, 5.53638984e-04, 6.17919925e-04,\n",
      "       8.24734830e-05, 6.56961782e-04, 1.17365008e-04, 7.29399697e-04,\n",
      "       4.05722417e-04, 7.39736557e-04, 4.61553437e-04, 6.91946622e-04,\n",
      "       2.84344129e-04, 5.91346487e-04, 9.81022855e-05, 4.57220948e-04,\n",
      "       7.90776870e-05, 4.21872280e-04, 1.69593489e-04, 5.53104525e-04,\n",
      "       2.26450631e-04, 7.32156357e-04, 1.44979967e-04, 7.40807270e-04,\n",
      "       7.21748549e-05, 4.30802069e-04, 1.85513109e-04, 2.63013167e-05,\n",
      "       3.66076753e-04, 9.75111871e-05])\n",
      " message: 'Optimization terminated successfully'\n",
      "    nfev: 32\n",
      "     nit: 15\n",
      "    njev: 15\n",
      "  status: 0\n",
      " success: True\n",
      "       x: array([-0.23821481,  2.13424601, -0.13510465,  1.95088118, -0.07097346,\n",
      "        1.82675821, -0.02716002,  1.7448613 ,  0.00669778,  1.69276623,\n",
      "        0.03689614,  1.66185601,  0.0678676 ,  1.64643057,  0.10312259,\n",
      "        1.6430313 ,  0.14580199,  1.65000104,  0.1990902 ,  1.66714019,\n",
      "        0.26669772,  1.69562879,  0.35336775,  1.73836117,  0.46572263,\n",
      "        1.80083754,  0.61337471,  1.89301058,  0.80837116,  2.0322721 ])\n"
     ]
    }
   ],
   "source": [
    "def find_initial_solution_in_desired_mode():\n",
    "    fake_target_state_in_mode_idx = np.random.choice(np.arange(len(mode_optimiser.dataset[0])), size=1)\n",
    "    fake_target_state_in_mode = mode_optimiser.dataset[0][fake_target_state_in_mode_idx[0], :state_dim]\n",
    "    fake_target_state_in_mode = tf.constant([[0, -1]], dtype=default_float())\n",
    "    \n",
    "    terminal_state_cost_matrix = tf.eye(state_dim, dtype=default_float()) * 100.0\n",
    "    control_cost_matrix = tf.eye(control_dim, dtype=default_float())\n",
    "    \n",
    "    terminal_cost_fn = TargetStateCostFunction(weight_matrix=terminal_state_cost_matrix, \n",
    "                                               target_state=fake_target_state_in_mode)\n",
    "    control_cost_fn = ControlQuadraticCostFunction(weight_matrix=control_cost_matrix)\n",
    "    initial_cost_fn = terminal_cost_fn + control_cost_fn\n",
    "\n",
    "    initial_solution = initialise_deterministic_trajectory(horizon, control_dim)\n",
    "    objective_fn = build_mode_variational_objective(mode_optimiser.dynamics, initial_cost_fn, start_state)\n",
    "    explorative_controller = TrajectoryOptimisationController(\n",
    "        max_iterations=max_iterations,\n",
    "        initial_solution=initial_solution,\n",
    "        objective_fn=objective_fn,\n",
    "        method=method,\n",
    "    )\n",
    "    explorative_controller.optimise()\n",
    "    return explorative_controller.previous_solution\n",
    "\n",
    "initial_solution_in_mode = find_initial_solution_in_desired_mode()"
   ]
  },
  {
   "cell_type": "code",
   "execution_count": 34,
   "id": "3803a1b8",
   "metadata": {
    "tags": []
   },
   "outputs": [],
   "source": [
    "mode_chance_constraints = build_mode_chance_constraints_scipy(mode_optimiser.dynamics, \n",
    "                                                              start_state, \n",
    "                                                              horizon, \n",
    "                                                              control_dim=control_dim,\n",
    "                                                              lower_bound=mode_satisfaction_prob)\n",
    "explorative_controller = TrajectoryOptimisationController(\n",
    "    max_iterations=max_iterations,\n",
    "    initial_solution=initial_solution_in_mode,\n",
    "    objective_fn=explorative_objective,\n",
    "    keep_last_solution=keep_last_solution,\n",
    "    constraints=[mode_chance_constraints],\n",
    "    method=method,\n",
    ")\n",
    "mode_optimiser.explorative_controller = explorative_controller"
   ]
  },
  {
   "cell_type": "markdown",
   "id": "29f26708",
   "metadata": {},
   "source": [
    "## Configure plotter"
   ]
  },
  {
   "cell_type": "code",
   "execution_count": 35,
   "id": "f8392862",
   "metadata": {
    "tags": []
   },
   "outputs": [],
   "source": [
    "def create_test_inputs(x_min=[-3, -3], x_max=[3, 3], input_dim=4, num_test: int = 1600, factor: float = 1.2):\n",
    "    sqrtN = int(np.sqrt(num_test))\n",
    "    xx = np.linspace(x_min[0] * factor, x_max[0] * factor, sqrtN)\n",
    "    yy = np.linspace(x_min[1] * factor, x_max[1] * factor, sqrtN)\n",
    "    xx, yy = np.meshgrid(xx, yy)\n",
    "    test_inputs = np.column_stack([xx.reshape(-1), yy.reshape(-1)])\n",
    "    if input_dim > 2:\n",
    "        zeros = np.zeros((num_test, input_dim - 2))\n",
    "        test_inputs = np.concatenate([test_inputs, zeros], -1)\n",
    "    return test_inputs, xx, yy\n",
    "\n",
    "test_inputs, xx, yy = create_test_inputs()\n",
    "plotter = ModeOptContourPlotter(mode_optimiser, test_inputs=test_inputs, static=False, explorative=True)"
   ]
  },
  {
   "cell_type": "code",
   "execution_count": 36,
   "id": "42d78a80",
   "metadata": {
    "scrolled": true,
    "tags": []
   },
   "outputs": [
    {
     "data": {
      "image/png": "[encoded data removed]",
      "text/plain": [
       "<Figure size 460.8x244.8 with 4 Axes>"
      ]
     },
     "metadata": {
      "needs_background": "light"
     },
     "output_type": "display_data"
    },
    {
     "data": {
      "image/png": "[encoded data removed]",
      "text/plain": [
       "<Figure size 460.8x244.8 with 4 Axes>"
      ]
     },
     "metadata": {
      "needs_background": "light"
     },
     "output_type": "display_data"
    },
    {
     "data": {
      "image/png": "[encoded data removed]",
      "text/plain": [
       "<Figure size 460.8x244.8 with 4 Axes>"
      ]
     },
     "metadata": {
      "needs_background": "light"
     },
     "output_type": "display_data"
    },
    {
     "data": {
      "image/png": "[encoded data removed]",
      "text/plain": [
       "<Figure size 460.8x244.8 with 4 Axes>"
      ]
     },
     "metadata": {
      "needs_background": "light"
     },
     "output_type": "display_data"
    }
   ],
   "source": [
    "image_save_dir = os.path.join(mode_optimiser.log_dir, \"images\")\n",
    "try:\n",
    "    os.makedirs(image_save_dir)\n",
    "except FileExistsError:\n",
    "    pass\n",
    "\n",
    "def plot_data_over_gating_network_and_save(step: int, epoch: int, save: bool = True):\n",
    "    plotter.plot_data_over_mixing_probs()\n",
    "    if save:\n",
    "        save_filename = os.path.join(image_save_dir, \"data_over_mixing_probs_step_{}_epoch_{}.pdf\".format(step, epoch))\n",
    "        plt.savefig(save_filename, transparent=True)\n",
    "    \n",
    "    plotter.plot_data_over_desired_gating_network_gp()\n",
    "    if save:\n",
    "        save_filename = os.path.join(image_save_dir, \"data_over_desired_gating_gp_step_{}_epoch_{}.pdf\".format(step, epoch))\n",
    "        plt.savefig(save_filename, transparent=True)\n",
    "\n",
    "def plot_trajectories_over_gating_network_and_save(step: int, save: bool = True):\n",
    "    plotter.plot_trajectories_over_mixing_probs()\n",
    "    if save:\n",
    "        save_filename = os.path.join(image_save_dir, \"trajectories_over_mixing_probs_step_{}.pdf\".format(step))\n",
    "        plt.savefig(save_filename, transparent=True)\n",
    "    \n",
    "    plotter.plot_trajectories_over_desired_gating_network_gp()\n",
    "    if save:\n",
    "        save_filename = os.path.join(image_save_dir, \"trajectories_over_desired_gating_gp_step_{}.pdf\".format(step))\n",
    "        plt.savefig(save_filename, transparent=True)\n",
    "\n",
    "plot_data_over_gating_network_and_save(step=0, epoch=0)\n",
    "plot_trajectories_over_gating_network_and_save(step=0)"
   ]
  },
  {
   "cell_type": "markdown",
   "id": "65faf9ff",
   "metadata": {},
   "source": [
    "## Configure ModeOpt and callbacks"
   ]
  },
  {
   "cell_type": "code",
   "execution_count": 37,
   "id": "f19298ea",
   "metadata": {},
   "outputs": [],
   "source": [
    "# mode_optimiser.dataset = (mode_optimiser.dataset[0][:130, :], mode_optimiser.dataset[1][:130, :])"
   ]
  },
  {
   "cell_type": "code",
   "execution_count": 38,
   "id": "552069d2",
   "metadata": {
    "tags": []
   },
   "outputs": [
    {
     "data": {
      "text/plain": [
       "{'epochs': 10000, 'batch_size': 125, 'validation_split': 0.2}"
      ]
     },
     "execution_count": 38,
     "metadata": {},
     "output_type": "execute_result"
    }
   ],
   "source": [
    "# logging_epoch_freq = 60\n",
    "num_epochs = 10000\n",
    "logging_epoch_freq = math.floor((num_epochs)/5)\n",
    "save_epoch_freq = math.floor((num_epochs)/5)\n",
    "num_steps = 35\n",
    "dataset = initial_dataset\n",
    "# batch_size = 128\n",
    "batch_size = mode_optimiser.dataset[0].shape[0]\n",
    "\n",
    "mode_optimiser.dynamics_fit_kwargs.update({\"epochs\": num_epochs, \"batch_size\": batch_size, \"validation_split\": 0.2})\n",
    "mode_optimiser.dynamics_fit_kwargs"
   ]
  },
  {
   "cell_type": "markdown",
   "id": "e404564b",
   "metadata": {},
   "source": [
    "Callbacks for dynamics learning."
   ]
  },
  {
   "cell_type": "code",
   "execution_count": 39,
   "id": "b5b1ee79",
   "metadata": {
    "tags": []
   },
   "outputs": [
    {
     "name": "stderr",
     "output_type": "stream",
     "text": [
      "2022-04-20 12:11:56.730969: I tensorflow/core/profiler/lib/profiler_session.cc:131] Profiler session initializing.\n",
      "2022-04-20 12:11:56.730989: I tensorflow/core/profiler/lib/profiler_session.cc:146] Profiler session started.\n",
      "2022-04-20 12:11:56.731684: I tensorflow/core/profiler/lib/profiler_session.cc:164] Profiler session tear down.\n"
     ]
    }
   ],
   "source": [
    "class PlottingCallback(tf.keras.callbacks.Callback):\n",
    "    def on_epoch_end(self, epoch, logs=None):\n",
    "        if epoch % logging_epoch_freq == 0:\n",
    "            plot_data_over_gating_network_and_save(step=step, epoch=epoch)\n",
    "\n",
    "class CustomSaver(tf.keras.callbacks.Callback):\n",
    "    def on_epoch_end(self, epoch, logs={}):\n",
    "        if epoch % save_epoch_freq == 0:  # or save after some epoch, each k-th epoch etc.\n",
    "            self.model.save(os.path.join(mode_optimiser.ckpt_dir, \"step_{}_epoch_{}\".format(step, epoch)), save_format=\"tf\")\n",
    "            \n",
    "early_stopping_cb = tf.keras.callbacks.EarlyStopping(\n",
    "    monitor=\"loss\",\n",
    "    min_delta=0,\n",
    "    patience=1000,\n",
    "    verbose=0,\n",
    "    mode=\"auto\",\n",
    "    baseline=None,\n",
    "    restore_best_weights=False,\n",
    ")\n",
    "callbacks = [PlottingCallback(),\n",
    "             CustomSaver(),\n",
    "             early_stopping_cb,\n",
    "#              tf.keras.callbacks.ModelCheckpoint(\n",
    "#                  filepath=os.path.join(save_dir + \"ckpts/ModeOptDynamics\"),\n",
    "#                  monitor=\"loss\",\n",
    "#                  save_format=\"tf\",\n",
    "#                  save_best_only=False,\n",
    "#                  save_freq=500),\n",
    "             tf.keras.callbacks.TensorBoard(log_dir=log_dir)\n",
    "            ]"
   ]
  },
  {
   "cell_type": "code",
   "execution_count": 40,
   "id": "121d466c",
   "metadata": {
    "tags": []
   },
   "outputs": [],
   "source": [
    "mode_optimiser.dynamics(dataset[0]) # call ModeOptDynamics to build it for saving\n",
    "mode_optimiser.dynamics_callbacks = []\n",
    "mode_optimiser.add_dynamics_callbacks(callbacks)"
   ]
  },
  {
   "cell_type": "code",
   "execution_count": 41,
   "id": "ac4cc784",
   "metadata": {},
   "outputs": [],
   "source": [
    "# gpf.utilities.set_trainable(mode_optimiser.dynamics.mosvgpe.gating_network.gp.kernel, False)\n",
    "# gpf.utilities.set_trainable(mode_optimiser.dynamics.mosvgpe.experts_list[desired_mode].gp.kernel, False)"
   ]
  },
  {
   "cell_type": "code",
   "execution_count": 42,
   "id": "947be602",
   "metadata": {
    "tags": []
   },
   "outputs": [
    {
     "name": "stdout",
     "output_type": "stream",
     "text": [
      "h_vars\n",
      "Tensor(\"concat_706:0\", shape=(15, 2), dtype=float64)\n",
      "mode_probs.shape\n",
      "(15, 2)\n",
      "(15,)\n"
     ]
    },
    {
     "name": "stderr",
     "output_type": "stream",
     "text": [
      "\n",
      "KeyboardInterrupt\n",
      "\n"
     ]
    }
   ],
   "source": [
    "for step in range(1, num_steps):\n",
    "    new_dataset = mode_optimiser.explore_env()\n",
    "    mode_optimiser.update_dataset(new_dataset)\n",
    "    mode_optimiser.dynamics_fit_kwargs.update({\"batch_size\": mode_optimiser.dataset[0].shape[0]})\n",
    "    print(\"Data set size: {}\".format(mode_optimiser.dataset[0].shape))\n",
    "    plot_data_over_gating_network_and_save(step=step, epoch=0, save=False)\n",
    "    plot_trajectories_over_gating_network_and_save(step=step, save=True)\n",
    "    plt.show()\n",
    "    mode_optimiser.optimise_dynamics()"
   ]
  },
  {
   "cell_type": "code",
   "execution_count": null,
   "id": "2e6bdf13",
   "metadata": {},
   "outputs": [],
   "source": [
    "for step in range(num_steps, num_steps*2):\n",
    "    new_dataset = mode_optimiser.explore_env()\n",
    "    mode_optimiser.update_dataset(new_dataset)\n",
    "    mode_optimiser.dynamics_fit_kwargs.update({\"batch_size\": mode_optimiser.dataset[0].shape[0]})\n",
    "    print(\"Data set size: {}\".format(mode_optimiser.dataset[0].shape))\n",
    "    plot_data_over_gating_network_and_save(step=step, epoch=0, save=False)\n",
    "    plot_trajectories_over_gating_network_and_save(step=step, save=True)\n",
    "    plt.show()\n",
    "    mode_optimiser.optimise_dynamics()"
   ]
  },
  {
   "cell_type": "code",
   "execution_count": null,
   "id": "7c01d7fb",
   "metadata": {},
   "outputs": [],
   "source": [
    "# for step in range(num_steps, num_steps*2):\n",
    "#     new_dataset = mode_optimiser.explore_env()\n",
    "#     mode_optimiser.update_dataset(new_dataset)\n",
    "#     batch_size = mode_optimiser.dataset[0].shape[0]\n",
    "#     mode_optimiser.dynamics_fit_kwargs.update({\"epochs\": num_epochs, \"batch_size\": batch_size, \"validation_split\": 0.2})\n",
    "#     print(\"Data set size: {}\".format(mode_optimiser.dataset[0].shape))\n",
    "#     plot_data_over_gating_network_and_save(step=step, epoch=0, save=False)\n",
    "#     plot_trajectories_over_gating_network_and_save(step=step, save=True)\n",
    "#     plt.show()\n",
    "#     mode_optimiser.optimise_dynamics()"
   ]
  },
  {
   "cell_type": "code",
   "execution_count": null,
   "id": "4615c26b",
   "metadata": {},
   "outputs": [],
   "source": [
    "state_diff_cost_matrix"
   ]
  },
  {
   "cell_type": "code",
   "execution_count": null,
   "id": "5ffa4728",
   "metadata": {},
   "outputs": [],
   "source": []
  },
  {
   "cell_type": "code",
   "execution_count": null,
   "id": "bab95f38",
   "metadata": {},
   "outputs": [],
   "source": []
  },
  {
   "cell_type": "code",
   "execution_count": null,
   "id": "4d57f53f",
   "metadata": {},
   "outputs": [],
   "source": []
  },
  {
   "cell_type": "code",
   "execution_count": null,
   "id": "28b08451",
   "metadata": {},
   "outputs": [],
   "source": []
  }
 ],
 "metadata": {
  "kernelspec": {
   "display_name": "Python 3 (ipykernel)",
   "language": "python",
   "name": "python3"
  },
  "language_info": {
   "codemirror_mode": {
    "name": "ipython",
    "version": 3
   },
   "file_extension": ".py",
   "mimetype": "text/x-python",
   "name": "python",
   "nbconvert_exporter": "python",
   "pygments_lexer": "ipython3",
   "version": "3.8.6"
  }
 },
 "nbformat": 4,
 "nbformat_minor": 5
}
