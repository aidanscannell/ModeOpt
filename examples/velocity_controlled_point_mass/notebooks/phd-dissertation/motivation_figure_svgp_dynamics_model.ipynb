{
 "cells": [
  {
   "cell_type": "code",
   "execution_count": 2,
   "id": "9cd0bed0",
   "metadata": {},
   "outputs": [
    {
     "ename": "ImportError",
     "evalue": "attempted relative import with no known parent package",
     "output_type": "error",
     "traceback": [
      "\u001b[0;31m---------------------------------------------------------------------------\u001b[0m",
      "\u001b[0;31mImportError\u001b[0m                               Traceback (most recent call last)",
      "Input \u001b[0;32mIn [2]\u001b[0m, in \u001b[0;36m<module>\u001b[0;34m\u001b[0m\n\u001b[1;32m     18\u001b[0m \u001b[38;5;28;01mfrom\u001b[39;00m \u001b[38;5;21;01mmogpe\u001b[39;00m\u001b[38;5;21;01m.\u001b[39;00m\u001b[38;5;21;01mkeras\u001b[39;00m\u001b[38;5;21;01m.\u001b[39;00m\u001b[38;5;21;01mutils\u001b[39;00m \u001b[38;5;28;01mimport\u001b[39;00m sample_mosvgpe_inducing_inputs_from_data\n\u001b[1;32m     19\u001b[0m \u001b[38;5;28;01mfrom\u001b[39;00m \u001b[38;5;21;01momegaconf\u001b[39;00m \u001b[38;5;28;01mimport\u001b[39;00m DictConfig\n\u001b[0;32m---> 21\u001b[0m \u001b[38;5;28;01mfrom\u001b[39;00m \u001b[38;5;21;01m.\u001b[39;00m\u001b[38;5;21;01mvelocity_controlled_point_mass\u001b[39;00m\u001b[38;5;21;01m.\u001b[39;00m\u001b[38;5;21;01mdata\u001b[39;00m\u001b[38;5;21;01m.\u001b[39;00m\u001b[38;5;21;01mutils\u001b[39;00m \u001b[38;5;28;01mimport\u001b[39;00m load_vcpm_dataset\n\u001b[1;32m     23\u001b[0m tfd \u001b[38;5;241m=\u001b[39m tfp\u001b[38;5;241m.\u001b[39mdistributions\n\u001b[1;32m     25\u001b[0m meaning_of_life \u001b[38;5;241m=\u001b[39m \u001b[38;5;241m42\u001b[39m\n",
      "\u001b[0;31mImportError\u001b[0m: attempted relative import with no known parent package"
     ]
    }
   ],
   "source": [
    "from typing import List, Optional\n",
    "\n",
    "# import tensor_annotations.tensorflow as ttf\n",
    "import gpflow as gpf\n",
    "import numpy as np\n",
    "import tensorflow as tf\n",
    "import tensorflow_probability as tfp\n",
    "from modeopt.custom_types import Dataset\n",
    "from modeopt.mode_opt import ModeOpt\n",
    "from modeopt.utils import log_params_from_omegaconf_dict, model_from_DictConfig\n",
    "from mogpe.keras.callbacks.tensorboard import PlotFn, TensorboardImageCallback\n",
    "from mogpe.keras.mixture_of_experts import MixtureOfSVGPExperts\n",
    "from mogpe.custom_types import DatasetBatch\n",
    "from mogpe.keras.plotting import MixtureOfSVGPExpertsContourPlotter\n",
    "from mogpe.keras.utils import sample_mosvgpe_inducing_inputs_from_data\n",
    "from omegaconf import DicConfig\n",
    "\n",
    "from .velocity_controlled_point_mass.data.utils import load_vcpm_dataset\n",
    "\n",
    "tfd = tfp.distributions\n",
    "\n",
    "meaning_of_life = 42\n",
    "tf.random.set_seed(meaning_of_life)\n",
    "np.random.seed(meaning_of_life)"
   ]
  },
  {
   "cell_type": "code",
   "execution_count": 3,
   "id": "2ff18d83",
   "metadata": {},
   "outputs": [],
   "source": [
    "class MixtureOfSVGPExpertsSVGPELBO(MixtureOfSVGPExperts):\n",
    "    def train_step(self, data: DatasetBatch):\n",
    "        with tf.GradientTape() as tape:\n",
    "            loss = -self.maximum_log_likelihood_objective(data)\n",
    "\n",
    "        trainable_vars = self.trainable_variables\n",
    "        gradients = tape.gradient(loss, trainable_vars)\n",
    "        self.optimizer.apply_gradients(zip(gradients, trainable_vars))\n",
    "        self.loss_tracker.update_state(loss)\n",
    "        return {\"loss\": self.loss_tracker.result()}\n",
    "\n",
    "    def test_step(self, data):\n",
    "        loss = -self.maximum_log_likelihood_objective(data)\n",
    "        return {\"loss\": loss}\n",
    "\n",
    "    def maximum_log_likelihood_objective(self, data: Dataset) -> ttf.Tensor0:\n",
    "        return self.experts_list[0].gp.elbo(data)"
   ]
  },
  {
   "cell_type": "code",
   "execution_count": null,
   "id": "0cc142ac",
   "metadata": {},
   "outputs": [],
   "source": [
    "def build_contour_plotter_callbacks(\n",
    "    mosvgpe: MixtureOfSVGPExperts,\n",
    "    dataset: Dataset,\n",
    "    logging_epoch_freq: Optional[int] = 30,\n",
    "    log_dir: Optional[str] = \"./logs\",\n",
    ") -> List[PlotFn]:\n",
    "    mosvgpe_plotter = MixtureOfSVGPExpertsContourPlotter(mosvgpe, dataset=dataset)\n",
    "    experts_plotting_cb = TensorboardImageCallback(\n",
    "        plot_fn=mosvgpe_plotter.plot_experts_gps,\n",
    "        logging_epoch_freq=logging_epoch_freq,\n",
    "        log_dir=log_dir,\n",
    "        name=\"Experts' latent function GPs\",\n",
    "    )\n",
    "    return [experts_plotting_cb]"
   ]
  },
  {
   "cell_type": "code",
   "execution_count": 5,
   "id": "13c09e67",
   "metadata": {},
   "outputs": [
    {
     "ename": "NameError",
     "evalue": "name 'cfg' is not defined",
     "output_type": "error",
     "traceback": [
      "\u001b[0;31m---------------------------------------------------------------------------\u001b[0m",
      "\u001b[0;31mNameError\u001b[0m                                 Traceback (most recent call last)",
      "Input \u001b[0;32mIn [5]\u001b[0m, in \u001b[0;36m<module>\u001b[0;34m\u001b[0m\n\u001b[1;32m      1\u001b[0m mode_optimiser \u001b[38;5;241m=\u001b[39m model_from_DictConfig(\n\u001b[0;32m----> 2\u001b[0m     \u001b[43mcfg\u001b[49m\u001b[38;5;241m.\u001b[39mmode_opt,\n\u001b[1;32m      3\u001b[0m     custom_objects\u001b[38;5;241m=\u001b[39m{\n\u001b[1;32m      4\u001b[0m         \u001b[38;5;124m\"\u001b[39m\u001b[38;5;124mModeOpt\u001b[39m\u001b[38;5;124m\"\u001b[39m: ModeOpt,\n\u001b[1;32m      5\u001b[0m         \u001b[38;5;124m\"\u001b[39m\u001b[38;5;124mMixtureOfSVGPExpertsSVGPELBO\u001b[39m\u001b[38;5;124m\"\u001b[39m: MixtureOfSVGPExpertsSVGPELBO,\n\u001b[1;32m      6\u001b[0m     },\n\u001b[1;32m      7\u001b[0m )\n",
      "\u001b[0;31mNameError\u001b[0m: name 'cfg' is not defined"
     ]
    }
   ],
   "source": [
    "mode_optimiser = model_from_DictConfig(\n",
    "    cfg.mode_opt,\n",
    "    custom_objects={\n",
    "        \"ModeOpt\": ModeOpt,\n",
    "        \"MixtureOfSVGPExpertsSVGPELBO\": MixtureOfSVGPExpertsSVGPELBO,\n",
    "    },\n",
    ")"
   ]
  },
  {
   "cell_type": "code",
   "execution_count": 6,
   "id": "8ebbbc0f",
   "metadata": {},
   "outputs": [
    {
     "ename": "NameError",
     "evalue": "name 'load_vcpm_dataset' is not defined",
     "output_type": "error",
     "traceback": [
      "\u001b[0;31m---------------------------------------------------------------------------\u001b[0m",
      "\u001b[0;31mNameError\u001b[0m                                 Traceback (most recent call last)",
      "Input \u001b[0;32mIn [6]\u001b[0m, in \u001b[0;36m<module>\u001b[0;34m\u001b[0m\n\u001b[0;32m----> 1\u001b[0m dataset, _ \u001b[38;5;241m=\u001b[39m \u001b[43mload_vcpm_dataset\u001b[49m(filename\u001b[38;5;241m=\u001b[39mdataset_filename, trim_coords\u001b[38;5;241m=\u001b[39mdataset_trim_coords, standardise\u001b[38;5;241m=\u001b[39m\u001b[38;5;28;01mFalse\u001b[39;00m)\n\u001b[1;32m      2\u001b[0m mode_optimiser\u001b[38;5;241m.\u001b[39mdataset \u001b[38;5;241m=\u001b[39m dataset\n\u001b[1;32m      3\u001b[0m sample_mosvgpe_inducing_inputs_from_data(dataset[\u001b[38;5;241m0\u001b[39m], mode_optimiser\u001b[38;5;241m.\u001b[39mdynamics\u001b[38;5;241m.\u001b[39mmosvgpe)\n",
      "\u001b[0;31mNameError\u001b[0m: name 'load_vcpm_dataset' is not defined"
     ]
    }
   ],
   "source": [
    "dataset, _ = load_vcpm_dataset(filename=dataset_filename, trim_coords=dataset_trim_coords, standardise=False)\n",
    "mode_optimiser.dataset = dataset\n",
    "sample_mosvgpe_inducing_inputs_from_data(dataset[0], mode_optimiser.dynamics.mosvgpe)"
   ]
  },
  {
   "cell_type": "code",
   "execution_count": null,
   "id": "752e5c5a",
   "metadata": {},
   "outputs": [],
   "source": [
    "# Make only a single SVGP expert trainable\n",
    "gpf.utilities.set_trainable(mode_optimiser.dynamics.mosvgpe.gating_network, False)\n",
    "gpf.utilities.set_trainable(mode_optimiser.dynamics.mosvgpe.experts_list[1], False)\n",
    "gpf.utilities.print_summary(mode_optimiser.dynamics.mosvgpe)"
   ]
  },
  {
   "cell_type": "code",
   "execution_count": 7,
   "id": "eed040df",
   "metadata": {},
   "outputs": [
    {
     "ename": "NameError",
     "evalue": "name 'build_contour_plotter_callbacks' is not defined",
     "output_type": "error",
     "traceback": [
      "\u001b[0;31m---------------------------------------------------------------------------\u001b[0m",
      "\u001b[0;31mNameError\u001b[0m                                 Traceback (most recent call last)",
      "Input \u001b[0;32mIn [7]\u001b[0m, in \u001b[0;36m<module>\u001b[0;34m\u001b[0m\n\u001b[0;32m----> 1\u001b[0m plotting_callbacks \u001b[38;5;241m=\u001b[39m \u001b[43mbuild_contour_plotter_callbacks\u001b[49m(\n\u001b[1;32m      2\u001b[0m     mode_optimiser\u001b[38;5;241m.\u001b[39mdynamics\u001b[38;5;241m.\u001b[39mmosvgpe,\n\u001b[1;32m      3\u001b[0m     dataset\u001b[38;5;241m=\u001b[39mdataset,\n\u001b[1;32m      4\u001b[0m     logging_epoch_freq\u001b[38;5;241m=\u001b[39mcfg\u001b[38;5;241m.\u001b[39mlogging_epoch_freq,\n\u001b[1;32m      5\u001b[0m )\n\u001b[1;32m      6\u001b[0m mode_optimiser\u001b[38;5;241m.\u001b[39madd_dynamics_callbacks(plotting_callbacks)\n",
      "\u001b[0;31mNameError\u001b[0m: name 'build_contour_plotter_callbacks' is not defined"
     ]
    }
   ],
   "source": [
    "plotting_callbacks = build_contour_plotter_callbacks(\n",
    "    mode_optimiser.dynamics.mosvgpe,\n",
    "    dataset=dataset,\n",
    "    logging_epoch_freq=cfg.logging_epoch_freq,\n",
    ")\n",
    "mode_optimiser.add_dynamics_callbacks(plotting_callbacks)"
   ]
  },
  {
   "cell_type": "code",
   "execution_count": null,
   "id": "a977ba8a",
   "metadata": {},
   "outputs": [],
   "source": [
    "mode_optimiser.optimise_dynamics()"
   ]
  },
  {
   "cell_type": "code",
   "execution_count": null,
   "id": "fa04c98b",
   "metadata": {},
   "outputs": [],
   "source": []
  }
 ],
 "metadata": {
  "kernelspec": {
   "display_name": "Python 3 (ipykernel)",
   "language": "python",
   "name": "python3"
  },
  "language_info": {
   "codemirror_mode": {
    "name": "ipython",
    "version": 3
   },
   "file_extension": ".py",
   "mimetype": "text/x-python",
   "name": "python",
   "nbconvert_exporter": "python",
   "pygments_lexer": "ipython3",
   "version": "3.8.6"
  }
 },
 "nbformat": 4,
 "nbformat_minor": 5
}
